{
 "cells": [
  {
   "cell_type": "markdown",
   "metadata": {},
   "source": [
    "# Session Login info"
   ]
  },
  {
   "cell_type": "markdown",
   "metadata": {
    "ExecuteTime": {
     "end_time": "2020-05-03T22:16:45.389555Z",
     "start_time": "2020-05-03T22:16:45.384568Z"
    }
   },
   "source": [
    "# Installing Watson Community Edition CE\n",
    "\n",
    "https://developer.ibm.com/linuxonpower/deep-learning-powerai/releases/\n",
    "\n",
    "https://www.ibm.com/support/knowledgecenter/SS5SF7_1.7.0/navigation/wmlce_systemsetup.html\n",
    "\n",
    "https://www.ibm.com/support/knowledgecenter/SS5SF7_1.7.0/navigation/wmlce_install.html\n",
    "\n",
    "reference only:\n",
    "https://www.ibm.com/support/knowledgecenter/SS5SF7_1.7.0/navigation/wmlce_getstarted.htm\n"
   ]
  },
  {
   "cell_type": "markdown",
   "metadata": {},
   "source": [
    "# How to invoke python from command line\n",
    "\n",
    "## Not for today's exercise!\n",
    "\n",
    "sometimes invoking a python script in batch mode is the order of the day\n",
    "\n",
    "here's how you can take code and use an editor in the command line (such as gedit, or vi, sublime, notepad, vcode, etc) then run the script from the command line\n",
    "\n",
    "- launch a command line prompt (ssh into a machine ot even launch a terminal session from your laptop)\n",
    "- vi test.py\n",
    "- press i (to go into insert mode)\n",
    "- type the following code into the editor\n",
    "    - import numpy as np\n",
    "    - print(np.random.normal())\n",
    "- press 'ESC'\n",
    "- press :wq\n",
    "\n",
    "- from commandline:\n",
    "    - python test.py\n",
    "    \n",
    "    "
   ]
  },
  {
   "cell_type": "code",
   "execution_count": 32,
   "metadata": {
    "ExecuteTime": {
     "end_time": "2020-06-11T17:44:34.346566Z",
     "start_time": "2020-06-11T17:44:34.343211Z"
    }
   },
   "outputs": [],
   "source": [
    "#! notepad test.py  #on windows\n",
    "#! gedit test.py    #on linux"
   ]
  },
  {
   "cell_type": "code",
   "execution_count": 28,
   "metadata": {
    "ExecuteTime": {
     "end_time": "2020-06-11T17:43:32.604756Z",
     "start_time": "2020-06-11T17:43:32.458506Z"
    }
   },
   "outputs": [
    {
     "name": "stdout",
     "output_type": "stream",
     "text": [
      "python: can't open file 'test.py': [Errno 2] No such file or directory\r\n"
     ]
    }
   ],
   "source": [
    "#!python test.py"
   ]
  },
  {
   "cell_type": "code",
   "execution_count": 2,
   "metadata": {
    "ExecuteTime": {
     "end_time": "2020-06-11T17:46:40.219921Z",
     "start_time": "2020-06-11T17:46:40.077490Z"
    }
   },
   "outputs": [
    {
     "data": {
      "text/plain": [
       "'3.0.3'"
      ]
     },
     "execution_count": 2,
     "metadata": {},
     "output_type": "execute_result"
    }
   ],
   "source": [
    "import matplotlib\n",
    "matplotlib.__version__"
   ]
  },
  {
   "cell_type": "markdown",
   "metadata": {
    "ExecuteTime": {
     "end_time": "2020-05-03T21:45:34.256871Z",
     "start_time": "2020-05-03T21:45:34.251885Z"
    }
   },
   "source": [
    "# Explore Python Tutorials: 20 minutes\n",
    "\n",
    "https://www.w3schools.com/python/\n",
    "\n",
    "these are very short, very quick interactive lessons to learn basic python operations\n",
    "\n",
    "Suggestions - play with some of these short interactive live python sessions to get familiar with python coding:\n",
    "\n",
    "\n",
    "| Recommended Exercises | Recommended Exercises |\n",
    "| --- | --- | \n",
    "| https://www.w3schools.com/python/ |  https://www.w3schools.com/python/python_variables.asp | \n",
    "| https://www.w3schools.com/python/python_datatypes.asp |  https://www.w3schools.com/python/python_numbers.asp |\n",
    "| https://www.w3schools.com/python/python_strings.asp | https://www.w3schools.com/python/python_operators.asp |\n",
    "| https://www.w3schools.com/python/python_lists.asp | https://www.w3schools.com/python/python_dictionaries.asp |\n",
    "| https://www.w3schools.com/python/python_conditions.asp | https://www.w3schools.com/python/python_for_loops.asp |\n",
    "| https://www.w3schools.com/python/python_functions.asp | https://www.w3schools.com/python/python_modules.asp |\n",
    "| https://www.w3schools.com/python/python_json.asp | https://www.w3schools.com/python/python_string_formatting.asp |\n",
    "| https://www.w3schools.com/python/python_file_handling.asp | https://www.w3schools.com/python/numpy_creating_arrays.asp |\n",
    "| https://www.w3schools.com/python/numpy_array_indexing.asp | https://www.w3schools.com/python/numpy_array_slicing.asp |\n",
    "| https://www.w3schools.com/python/numpy_array_search.asp | https://www.w3schools.com/python/numpy_array_filter.asp |\n",
    "\n",
    "\n"
   ]
  },
  {
   "attachments": {
    "image.png": {
     "image/png": "[encoded data removed]"
    }
   },
   "cell_type": "markdown",
   "metadata": {},
   "source": [
    "## Pandas data table representation: 10 minutes\n",
    "\n",
    "Pandas is one of the favorite libraries for data scientists.  It is used primarily for data engineering and preparation tasks.  If you are unfamiliar with Pandas, take a look through the link below to get a quick sense of the capabilities.  We will be using this library later on in the session.\n",
    "\n",
    "10 minutes to pandas  https://pandas.pydata.org/pandas-docs/stable/getting_started/10min.html\n",
    "\n",
    "\n",
    "![image.png](attachment:image.png)\n",
    "\n",
    "| Topics | Topics | Topics | Topics |\n",
    "| --- | --- | -- | -- |\n",
    "| Object Creation | Viewing Data |  Selection | Selection by Position |\n",
    "| Setting  | Missing Data | Stats | Apply |  Concat |\n",
    "\n"
   ]
  },
  {
   "cell_type": "markdown",
   "metadata": {},
   "source": [
    "# [Fairly] Quick Exercises\n",
    "\n",
    "Here we introduce some basic python exercises to get you warmed up.  If you can figure them out, don't worry we will walk through them during the session.  For selected exercises we have embedded hints.  This is not an exhaustive list, but mainly a tour to get you started with Python and getting used to the syntax."
   ]
  },
  {
   "cell_type": "markdown",
   "metadata": {
    "ExecuteTime": {
     "end_time": "2020-05-06T20:59:24.603121Z",
     "start_time": "2020-05-06T20:59:24.600102Z"
    }
   },
   "source": [
    "# Python Basics - Variables and Assignment\n",
    "* create a variable named x and assign it a floating point value 12.3, \n",
    "* create an integer named i and assign it a value of 10\n",
    "* create a string called myString and assign it a value of \"hello world\""
   ]
  },
  {
   "cell_type": "markdown",
   "metadata": {},
   "source": [
    " <div class=\"panel-group\" id=\"accordion-21\">\n",
    "  <div class=\"panel panel-default\">\n",
    "    <div class=\"panel-heading\">\n",
    "      <h4 class=\"panel-title\">\n",
    "        <a data-toggle=\"collapse\" data-parent=\"#accordion-21\" href=\"#collapse1-21\">\n",
    "        Hint 1</a>\n",
    "      </h4>\n",
    "    </div>\n",
    "    <div id=\"collapse1-21\" class=\"panel-collapse collapse\">\n",
    "      <div class=\"panel-body\">\n",
    "Type:<br>\n",
    "x = 12.3<br>\n",
    "i = 10<br>\n",
    "myString = \"hello world\"<br>\n",
    "print(x, i, myString)  #fix this cell!\n",
    "      </div>\n",
    "    </div>\n",
    "  </div>\n",
    " </div>"
   ]
  },
  {
   "cell_type": "code",
   "execution_count": 1,
   "metadata": {
    "ExecuteTime": {
     "end_time": "2020-06-11T17:47:21.239559Z",
     "start_time": "2020-06-11T17:47:21.229608Z"
    },
    "scrolled": true
   },
   "outputs": [
    {
     "ename": "NameError",
     "evalue": "name 'x' is not defined",
     "output_type": "error",
     "traceback": [
      "\u001b[0;31m---------------------------------------------------------------------------\u001b[0m",
      "\u001b[0;31mNameError\u001b[0m                                 Traceback (most recent call last)",
      "\u001b[0;32m<ipython-input-1-596e31bfb120>\u001b[0m in \u001b[0;36m<module>\u001b[0;34m\u001b[0m\n\u001b[0;32m----> 1\u001b[0;31m \u001b[0mprint\u001b[0m\u001b[0;34m(\u001b[0m\u001b[0mx\u001b[0m\u001b[0;34m,\u001b[0m \u001b[0mi\u001b[0m\u001b[0;34m,\u001b[0m \u001b[0mmyString\u001b[0m\u001b[0;34m)\u001b[0m  \u001b[0;31m#fix this cell!\u001b[0m\u001b[0;34m\u001b[0m\u001b[0;34m\u001b[0m\u001b[0m\n\u001b[0m",
      "\u001b[0;31mNameError\u001b[0m: name 'x' is not defined"
     ]
    }
   ],
   "source": [
    "\n",
    "print(x, i, myString)  #fix this cell!"
   ]
  },
  {
   "cell_type": "markdown",
   "metadata": {
    "ExecuteTime": {
     "end_time": "2020-06-11T17:42:20.458682Z",
     "start_time": "2020-06-11T17:42:20.389993Z"
    }
   },
   "source": [
    "### Create some variables, print them with a format satement\n",
    "\n",
    "\n",
    "create a print statement using a format statement which out puts text as follows:\n",
    "\n",
    "hello world, the value of i is 10 and the value of x is 12.3\n",
    "\n",
    "using the following pattern - replace # with correct variable names\n",
    "#print(\"#, the value of i is # and the value of x is #\".format(#, #, #))"
   ]
  },
  {
   "cell_type": "markdown",
   "metadata": {},
   "source": [
    " <div class=\"panel-group\" id=\"accordion-22\">\n",
    "  <div class=\"panel panel-default\">\n",
    "    <div class=\"panel-heading\">\n",
    "      <h4 class=\"panel-title\">\n",
    "        <a data-toggle=\"collapse\" data-parent=\"#accordion-22\" href=\"#collapse1-22\">\n",
    "        Hint 1</a>\n",
    "      </h4>\n",
    "    </div>\n",
    "    <div id=\"collapse1-22\" class=\"panel-collapse collapse\">\n",
    "      <div class=\"panel-body\">\n",
    "Type:<br><br>\n",
    "print(\"{}, the value of i is {} and the value of x is {}\".format(myString, i, x))\n",
    "      </div>\n",
    "    </div>\n",
    "  </div>\n",
    " </div>"
   ]
  },
  {
   "cell_type": "code",
   "execution_count": 2,
   "metadata": {
    "ExecuteTime": {
     "end_time": "2020-06-11T17:42:20.519112Z",
     "start_time": "2020-06-11T17:42:20.460340Z"
    }
   },
   "outputs": [
    {
     "ename": "NameError",
     "evalue": "name 'myString' is not defined",
     "output_type": "error",
     "traceback": [
      "\u001b[0;31m---------------------------------------------------------------------------\u001b[0m",
      "\u001b[0;31mNameError\u001b[0m                                 Traceback (most recent call last)",
      "\u001b[0;32m<ipython-input-2-9fd925ede6b5>\u001b[0m in \u001b[0;36m<module>\u001b[0;34m\u001b[0m\n\u001b[0;32m----> 1\u001b[0;31m \u001b[0mprint\u001b[0m\u001b[0;34m(\u001b[0m\u001b[0;34m\"{}, the value of i is {} and the value of x is {}\"\u001b[0m\u001b[0;34m.\u001b[0m\u001b[0mformat\u001b[0m\u001b[0;34m(\u001b[0m\u001b[0mmyString\u001b[0m\u001b[0;34m,\u001b[0m \u001b[0mi\u001b[0m\u001b[0;34m,\u001b[0m \u001b[0mx\u001b[0m\u001b[0;34m)\u001b[0m\u001b[0;34m)\u001b[0m \u001b[0;31m# fix this cell\u001b[0m\u001b[0;34m\u001b[0m\u001b[0;34m\u001b[0m\u001b[0m\n\u001b[0m",
      "\u001b[0;31mNameError\u001b[0m: name 'myString' is not defined"
     ]
    }
   ],
   "source": [
    "print(\"{}, the value of i is {} and the value of x is {}\".format(myString, i, x)) # fix this cell\n"
   ]
  },
  {
   "cell_type": "markdown",
   "metadata": {
    "ExecuteTime": {
     "end_time": "2020-05-06T20:59:24.640994Z",
     "start_time": "2020-05-06T20:59:24.637005Z"
    }
   },
   "source": [
    "# Python Basics - Lists\n",
    "* create a list called myList containing items 1,2,3,4"
   ]
  },
  {
   "cell_type": "markdown",
   "metadata": {},
   "source": [
    " <div class=\"panel-group\" id=\"accordion-33\">\n",
    "  <div class=\"panel panel-default\">\n",
    "    <div class=\"panel-heading\">\n",
    "      <h4 class=\"panel-title\">\n",
    "        <a data-toggle=\"collapse\" data-parent=\"#accordion-33\" href=\"#collapse1-33\">\n",
    "        Hint 1</a>\n",
    "      </h4>\n",
    "    </div>\n",
    "    <div id=\"collapse1-33\" class=\"panel-collapse collapse\">\n",
    "      <div class=\"panel-body\">\n",
    "Type:<br>\n",
    "myList = [1,2,3,4]<br>\n",
    "<br>\n",
    "Lists require square brackets, tuples require parentheses\n",
    "      </div>\n",
    "    </div>\n",
    "  </div>\n",
    " </div>"
   ]
  },
  {
   "cell_type": "code",
   "execution_count": 7,
   "metadata": {
    "ExecuteTime": {
     "end_time": "2020-06-11T17:52:38.313285Z",
     "start_time": "2020-06-11T17:52:38.307297Z"
    }
   },
   "outputs": [],
   "source": [
    "myList = (1,2,3,4) # this is NOT a list - it is a tuple in current form. This will cause issue later - fix this. Make it a list"
   ]
  },
  {
   "cell_type": "markdown",
   "metadata": {
    "ExecuteTime": {
     "end_time": "2020-05-06T20:59:24.652960Z",
     "start_time": "2020-05-06T20:59:24.647974Z"
    }
   },
   "source": [
    "## Python Basics - List Indexing\n",
    "\n",
    "* print element [2] of myList above\n",
    "* assign the value of 12 to the last element of myList\n",
    "* using slicing or indexing to access the last two elements of myList\n"
   ]
  },
  {
   "cell_type": "markdown",
   "metadata": {},
   "source": [
    " <div class=\"panel-group\" id=\"accordion-44\">\n",
    "  <div class=\"panel panel-default\">\n",
    "    <div class=\"panel-heading\">\n",
    "      <h4 class=\"panel-title\">\n",
    "        <a data-toggle=\"collapse\" data-parent=\"#accordion-44\" href=\"#collapse1-44\">\n",
    "        Hint</a>\n",
    "      </h4>\n",
    "    </div>\n",
    "    <div id=\"collapse1-44\" class=\"panel-collapse collapse\">\n",
    "      <div class=\"panel-body\">\n",
    "Type:<br>\n",
    "          <br> if you get an error similar to: TypeError: 'tuple' object does not support item assignment\n",
    "          <br>\n",
    "          <br> then go to the cells above and change myList to a List NOT a tuple<br><br><br>\n",
    "<br>print(myList[2])   ##  prints the third element of myList <br>\n",
    "<br>myList[-1] = 12    ## assigns 12 to the last element of a list.  The -1 is a special index that tell python to grab last element<br>\n",
    "<br>print(myList[-2:4]) ## prints elements at index 2,3, not inclusive of 4<br>      \n",
    "        </div>\n",
    "    </div>\n",
    "  </div>\n",
    " </div>"
   ]
  },
  {
   "cell_type": "code",
   "execution_count": 9,
   "metadata": {
    "ExecuteTime": {
     "end_time": "2020-06-11T17:54:37.204588Z",
     "start_time": "2020-06-11T17:54:37.177412Z"
    }
   },
   "outputs": [
    {
     "name": "stdout",
     "output_type": "stream",
     "text": [
      "3\n"
     ]
    },
    {
     "ename": "TypeError",
     "evalue": "'tuple' object does not support item assignment",
     "output_type": "error",
     "traceback": [
      "\u001b[0;31m---------------------------------------------------------------------------\u001b[0m",
      "\u001b[0;31mTypeError\u001b[0m                                 Traceback (most recent call last)",
      "\u001b[0;32m<ipython-input-9-385e728b67ac>\u001b[0m in \u001b[0;36m<module>\u001b[0;34m\u001b[0m\n\u001b[1;32m      1\u001b[0m \u001b[0mprint\u001b[0m\u001b[0;34m(\u001b[0m\u001b[0mmyList\u001b[0m\u001b[0;34m[\u001b[0m\u001b[0;36m2\u001b[0m\u001b[0;34m]\u001b[0m\u001b[0;34m)\u001b[0m\u001b[0;34m\u001b[0m\u001b[0;34m\u001b[0m\u001b[0m\n\u001b[0;32m----> 2\u001b[0;31m \u001b[0mmyList\u001b[0m\u001b[0;34m[\u001b[0m\u001b[0;34m-\u001b[0m\u001b[0;36m1\u001b[0m\u001b[0;34m]\u001b[0m \u001b[0;34m=\u001b[0m \u001b[0;36m12\u001b[0m\u001b[0;34m\u001b[0m\u001b[0;34m\u001b[0m\u001b[0m\n\u001b[0m",
      "\u001b[0;31mTypeError\u001b[0m: 'tuple' object does not support item assignment"
     ]
    }
   ],
   "source": [
    "print(myList[2])\n",
    "myList[-1] = 12"
   ]
  },
  {
   "cell_type": "markdown",
   "metadata": {
    "ExecuteTime": {
     "end_time": "2020-05-06T20:59:24.664930Z",
     "start_time": "2020-05-06T20:59:24.658946Z"
    }
   },
   "source": [
    "# Python Basics - Dictionaries\n",
    "Dictionaries are handy for storing key/value pairs, see the examples below.\n",
    "* create a dictionary called myDict containing the following key, value  pairs\n",
    "* 'xmax': 3\n",
    "* 'xmin': 4\n",
    "* print the value of the dictionary 'xmax'\n",
    "* assign a new value 6 to the entry 'xmax' and print it"
   ]
  },
  {
   "cell_type": "code",
   "execution_count": 12,
   "metadata": {
    "ExecuteTime": {
     "end_time": "2020-06-11T17:55:33.785178Z",
     "start_time": "2020-06-11T17:55:33.769952Z"
    }
   },
   "outputs": [
    {
     "ename": "KeyError",
     "evalue": "'ymax'",
     "output_type": "error",
     "traceback": [
      "\u001b[0;31m---------------------------------------------------------------------------\u001b[0m",
      "\u001b[0;31mKeyError\u001b[0m                                  Traceback (most recent call last)",
      "\u001b[0;32m<ipython-input-12-788943bbbf72>\u001b[0m in \u001b[0;36m<module>\u001b[0;34m\u001b[0m\n\u001b[1;32m      1\u001b[0m \u001b[0mmyDict\u001b[0m \u001b[0;34m=\u001b[0m \u001b[0;34m{\u001b[0m\u001b[0;34m'xmax'\u001b[0m\u001b[0;34m:\u001b[0m\u001b[0;36m3\u001b[0m\u001b[0;34m,\u001b[0m \u001b[0;34m'xmin'\u001b[0m\u001b[0;34m:\u001b[0m\u001b[0;36m4\u001b[0m\u001b[0;34m}\u001b[0m\u001b[0;34m\u001b[0m\u001b[0;34m\u001b[0m\u001b[0m\n\u001b[0;32m----> 2\u001b[0;31m \u001b[0mprint\u001b[0m\u001b[0;34m(\u001b[0m\u001b[0mmyDict\u001b[0m\u001b[0;34m[\u001b[0m\u001b[0;34m'ymax'\u001b[0m\u001b[0;34m]\u001b[0m\u001b[0;34m)\u001b[0m \u001b[0;31m#fix this cell\u001b[0m\u001b[0;34m\u001b[0m\u001b[0;34m\u001b[0m\u001b[0m\n\u001b[0m\u001b[1;32m      3\u001b[0m \u001b[0mmyDict\u001b[0m\u001b[0;34m[\u001b[0m\u001b[0;34m'xmax'\u001b[0m\u001b[0;34m]\u001b[0m \u001b[0;34m=\u001b[0m \u001b[0;36m6\u001b[0m\u001b[0;34m\u001b[0m\u001b[0;34m\u001b[0m\u001b[0m\n\u001b[1;32m      4\u001b[0m \u001b[0mprint\u001b[0m\u001b[0;34m(\u001b[0m\u001b[0mmyDict\u001b[0m\u001b[0;34m[\u001b[0m\u001b[0;34m'xmax'\u001b[0m\u001b[0;34m]\u001b[0m\u001b[0;34m)\u001b[0m\u001b[0;34m\u001b[0m\u001b[0;34m\u001b[0m\u001b[0m\n",
      "\u001b[0;31mKeyError\u001b[0m: 'ymax'"
     ]
    }
   ],
   "source": [
    "myDict = {'xmax':3, 'xmin':4}  \n",
    "print(myDict['ymax']) #fix this cell\n",
    "myDict['xmax'] = 6\n",
    "print(myDict['xmax'])"
   ]
  },
  {
   "cell_type": "markdown",
   "metadata": {
    "ExecuteTime": {
     "end_time": "2020-05-06T21:03:06.385876Z",
     "start_time": "2020-05-06T21:03:06.382882Z"
    }
   },
   "source": [
    "## Python Basics - Magics\n",
    "*  use jupyter magics to read the list of files in the current folder\n",
    "* ! dir   #windows\n",
    "* ! ls    # linux"
   ]
  },
  {
   "cell_type": "code",
   "execution_count": null,
   "metadata": {
    "ExecuteTime": {
     "end_time": "2020-06-11T17:42:20.644018Z",
     "start_time": "2020-06-11T17:42:20.038Z"
    }
   },
   "outputs": [],
   "source": [
    "!dir   #this will error on linux, fix it"
   ]
  },
  {
   "cell_type": "markdown",
   "metadata": {
    "ExecuteTime": {
     "end_time": "2020-05-06T20:59:24.698843Z",
     "start_time": "2020-05-06T20:59:24.696844Z"
    }
   },
   "source": [
    "## Python Basics - Numpy Arrays\n",
    "Numpy is the numerical library written in c that should be used for any task requiring lots of computation.  \n",
    "* create two random numpy arrays of dimension 3,2  = call one array x, the other y, add x & y and print the result"
   ]
  },
  {
   "cell_type": "markdown",
   "metadata": {},
   "source": [
    " <div class=\"panel-group\" id=\"accordion-46\">\n",
    "  <div class=\"panel panel-default\">\n",
    "    <div class=\"panel-heading\">\n",
    "      <h4 class=\"panel-title\">\n",
    "        <a data-toggle=\"collapse\" data-parent=\"#accordion-46\" href=\"#collapse1-46\">\n",
    "        Hint</a>\n",
    "      </h4>\n",
    "    </div>\n",
    "    <div id=\"collapse1-46\" class=\"panel-collapse collapse\">\n",
    "      <div class=\"panel-body\">\n",
    "Type:<br>\n",
    "<br>print(x+y) <br>      \n",
    "        </div>\n",
    "    </div>\n",
    "  </div>\n",
    " </div>"
   ]
  },
  {
   "cell_type": "code",
   "execution_count": 13,
   "metadata": {
    "ExecuteTime": {
     "end_time": "2020-06-11T17:55:56.164988Z",
     "start_time": "2020-06-11T17:55:56.154084Z"
    }
   },
   "outputs": [
    {
     "ename": "NameError",
     "evalue": "name 'z' is not defined",
     "output_type": "error",
     "traceback": [
      "\u001b[0;31m---------------------------------------------------------------------------\u001b[0m",
      "\u001b[0;31mNameError\u001b[0m                                 Traceback (most recent call last)",
      "\u001b[0;32m<ipython-input-13-f824851eb4b8>\u001b[0m in \u001b[0;36m<module>\u001b[0;34m\u001b[0m\n\u001b[1;32m      2\u001b[0m \u001b[0mx\u001b[0m \u001b[0;34m=\u001b[0m \u001b[0mnp\u001b[0m\u001b[0;34m.\u001b[0m\u001b[0mrandom\u001b[0m\u001b[0;34m.\u001b[0m\u001b[0mrand\u001b[0m\u001b[0;34m(\u001b[0m\u001b[0;36m3\u001b[0m\u001b[0;34m,\u001b[0m\u001b[0;36m2\u001b[0m\u001b[0;34m)\u001b[0m\u001b[0;34m\u001b[0m\u001b[0;34m\u001b[0m\u001b[0m\n\u001b[1;32m      3\u001b[0m \u001b[0my\u001b[0m \u001b[0;34m=\u001b[0m \u001b[0mnp\u001b[0m\u001b[0;34m.\u001b[0m\u001b[0mrandom\u001b[0m\u001b[0;34m.\u001b[0m\u001b[0mrand\u001b[0m\u001b[0;34m(\u001b[0m\u001b[0;36m3\u001b[0m\u001b[0;34m,\u001b[0m\u001b[0;36m2\u001b[0m\u001b[0;34m)\u001b[0m\u001b[0;34m\u001b[0m\u001b[0;34m\u001b[0m\u001b[0m\n\u001b[0;32m----> 4\u001b[0;31m \u001b[0mprint\u001b[0m\u001b[0;34m(\u001b[0m\u001b[0mx\u001b[0m\u001b[0;34m+\u001b[0m\u001b[0my\u001b[0m\u001b[0;34m+\u001b[0m\u001b[0mz\u001b[0m\u001b[0;34m)\u001b[0m\u001b[0;34m\u001b[0m\u001b[0;34m\u001b[0m\u001b[0m\n\u001b[0m",
      "\u001b[0;31mNameError\u001b[0m: name 'z' is not defined"
     ]
    }
   ],
   "source": [
    "import numpy as np   #this cell is broken - fix it\n",
    "x = np.random.rand(3,2)\n",
    "y = np.random.rand(3,2)\n",
    "print(x+y+z) "
   ]
  },
  {
   "cell_type": "markdown",
   "metadata": {
    "ExecuteTime": {
     "end_time": "2020-05-06T20:59:24.711812Z",
     "start_time": "2020-05-06T20:59:24.708812Z"
    }
   },
   "source": [
    "# Python Basics - Numpy Matrix Multiply \n",
    "* matrix multiply two arrays ... a 3x2 time a 2x3 with the following names and values<br>\n",
    "<code>\n",
    "a = [[1,2],\n",
    "      [3,2],\n",
    "      [4,1]]\n",
    " b = [[1,2,3],\n",
    "      [3,2,1]]\n",
    "</code>\n",
    "Multiply these two arrays to get a 2 x 2 array.  (The order of a, b is important)"
   ]
  },
  {
   "cell_type": "markdown",
   "metadata": {},
   "source": [
    " <div class=\"panel-group\" id=\"accordion-55\">\n",
    "  <div class=\"panel panel-default\">\n",
    "    <div class=\"panel-heading\">\n",
    "      <h4 class=\"panel-title\">\n",
    "        <a data-toggle=\"collapse\" data-parent=\"#accordion-55\" href=\"#collapse1-55\">\n",
    "        Hint</a>\n",
    "      </h4>\n",
    "    </div>\n",
    "    <div id=\"collapse1-55\" class=\"panel-collapse collapse\">\n",
    "      <div class=\"panel-body\">\n",
    "Type:<br>\n",
    "<br>b@a   ##  method 1 <br>\n",
    "<br>b.dot(a)    ## method 2<br>\n",
    "<br>np.matmul(b,a) ## method 3<br>      \n",
    "        </div>\n",
    "    </div>\n",
    "  </div>\n",
    " </div>"
   ]
  },
  {
   "cell_type": "code",
   "execution_count": 14,
   "metadata": {
    "ExecuteTime": {
     "end_time": "2020-06-11T17:56:53.036507Z",
     "start_time": "2020-06-11T17:56:53.020956Z"
    }
   },
   "outputs": [
    {
     "ename": "ValueError",
     "evalue": "operands could not be broadcast together with shapes (3,2) (2,3) ",
     "output_type": "error",
     "traceback": [
      "\u001b[0;31m---------------------------------------------------------------------------\u001b[0m",
      "\u001b[0;31mValueError\u001b[0m                                Traceback (most recent call last)",
      "\u001b[0;32m<ipython-input-14-1f544e63c426>\u001b[0m in \u001b[0;36m<module>\u001b[0;34m\u001b[0m\n\u001b[1;32m      2\u001b[0m \u001b[0mb\u001b[0m \u001b[0;34m=\u001b[0m \u001b[0mnp\u001b[0m\u001b[0;34m.\u001b[0m\u001b[0marray\u001b[0m\u001b[0;34m(\u001b[0m\u001b[0;34m[\u001b[0m\u001b[0;34m[\u001b[0m\u001b[0;36m1\u001b[0m\u001b[0;34m,\u001b[0m\u001b[0;36m2\u001b[0m\u001b[0;34m,\u001b[0m\u001b[0;36m3\u001b[0m\u001b[0;34m]\u001b[0m\u001b[0;34m,\u001b[0m\u001b[0;34m[\u001b[0m\u001b[0;36m3\u001b[0m\u001b[0;34m,\u001b[0m\u001b[0;36m2\u001b[0m\u001b[0;34m,\u001b[0m\u001b[0;36m1\u001b[0m\u001b[0;34m]\u001b[0m\u001b[0;34m]\u001b[0m\u001b[0;34m)\u001b[0m\u001b[0;34m\u001b[0m\u001b[0;34m\u001b[0m\u001b[0m\n\u001b[1;32m      3\u001b[0m \u001b[0;31m#compute b.dot(a)\u001b[0m\u001b[0;34m\u001b[0m\u001b[0;34m\u001b[0m\u001b[0;34m\u001b[0m\u001b[0m\n\u001b[0;32m----> 4\u001b[0;31m \u001b[0mprint\u001b[0m\u001b[0;34m(\u001b[0m\u001b[0ma\u001b[0m\u001b[0;34m*\u001b[0m\u001b[0mb\u001b[0m\u001b[0;34m)\u001b[0m\u001b[0;34m\u001b[0m\u001b[0;34m\u001b[0m\u001b[0m\n\u001b[0m\u001b[1;32m      5\u001b[0m \u001b[0;34m\u001b[0m\u001b[0m\n\u001b[1;32m      6\u001b[0m \u001b[0mprint\u001b[0m\u001b[0;34m(\u001b[0m\u001b[0;34m\"the answer should be \\n\"\u001b[0m\u001b[0;34m,\u001b[0m \u001b[0;34m[\u001b[0m\u001b[0;34m[\u001b[0m\u001b[0;36m19\u001b[0m\u001b[0;34m,\u001b[0m  \u001b[0;36m9\u001b[0m\u001b[0;34m]\u001b[0m\u001b[0;34m,\u001b[0m\u001b[0;34m[\u001b[0m\u001b[0;36m13\u001b[0m\u001b[0;34m,\u001b[0m \u001b[0;36m11\u001b[0m\u001b[0;34m]\u001b[0m\u001b[0;34m]\u001b[0m\u001b[0;34m)\u001b[0m\u001b[0;34m\u001b[0m\u001b[0;34m\u001b[0m\u001b[0m\n",
      "\u001b[0;31mValueError\u001b[0m: operands could not be broadcast together with shapes (3,2) (2,3) "
     ]
    }
   ],
   "source": [
    "a = np.array([[1,2],[3,2], [4,1]]) # this cell is broken fix it\n",
    "b = np.array([[1,2,3],[3,2,1]])\n",
    "#compute b.dot(a)\n",
    "print(a*b)\n",
    "\n",
    "print(\"the answer should be \\n\", [[19,  9],[13, 11]]) "
   ]
  },
  {
   "cell_type": "markdown",
   "metadata": {
    "ExecuteTime": {
     "end_time": "2020-05-06T20:59:24.724769Z",
     "start_time": "2020-05-06T20:59:24.720792Z"
    }
   },
   "source": [
    "## Python Basics - Pandas\n",
    "* create a pandas dataframe called my_df, and read with the contents WA_Fn-UseC_-Telco-Customer-Churn_nans.csv \n",
    "* and display the first 5 rows of the dataframe"
   ]
  },
  {
   "cell_type": "markdown",
   "metadata": {},
   "source": [
    " <div class=\"panel-group\" id=\"accordion-66\">\n",
    "  <div class=\"panel panel-default\">\n",
    "    <div class=\"panel-heading\">\n",
    "      <h4 class=\"panel-title\">\n",
    "        <a data-toggle=\"collapse\" data-parent=\"#accordion-66\" href=\"#collapse1-66\">\n",
    "        Hint</a>\n",
    "      </h4>\n",
    "    </div>\n",
    "    <div id=\"collapse1-66\" class=\"panel-collapse collapse\">\n",
    "      <div class=\"panel-body\">\n",
    "Type:<br>\n",
    "<br>my_df.columns[cols].tolist()  <br>\n",
    "        </div>\n",
    "    </div>\n",
    "  </div>\n",
    " </div>"
   ]
  },
  {
   "cell_type": "code",
   "execution_count": 15,
   "metadata": {
    "ExecuteTime": {
     "end_time": "2020-06-11T17:57:13.795160Z",
     "start_time": "2020-06-11T17:57:13.535014Z"
    }
   },
   "outputs": [
    {
     "ename": "NameError",
     "evalue": "name 'df' is not defined",
     "output_type": "error",
     "traceback": [
      "\u001b[0;31m---------------------------------------------------------------------------\u001b[0m",
      "\u001b[0;31mNameError\u001b[0m                                 Traceback (most recent call last)",
      "\u001b[0;32m<ipython-input-15-3cd62e5355e7>\u001b[0m in \u001b[0;36m<module>\u001b[0;34m\u001b[0m\n\u001b[1;32m      1\u001b[0m \u001b[0;32mimport\u001b[0m \u001b[0mpandas\u001b[0m \u001b[0;32mas\u001b[0m \u001b[0mpd\u001b[0m  \u001b[0;31m#this cell is broken fix it\u001b[0m\u001b[0;34m\u001b[0m\u001b[0;34m\u001b[0m\u001b[0m\n\u001b[1;32m      2\u001b[0m \u001b[0mmy_df\u001b[0m \u001b[0;34m=\u001b[0m \u001b[0mpd\u001b[0m\u001b[0;34m.\u001b[0m\u001b[0mread_csv\u001b[0m\u001b[0;34m(\u001b[0m\u001b[0;34m'WA_Fn-UseC_-Telco-Customer-Churn_nans.csv'\u001b[0m\u001b[0;34m)\u001b[0m\u001b[0;34m\u001b[0m\u001b[0;34m\u001b[0m\u001b[0m\n\u001b[0;32m----> 3\u001b[0;31m \u001b[0mdf\u001b[0m\u001b[0;34m.\u001b[0m\u001b[0mhead\u001b[0m\u001b[0;34m(\u001b[0m\u001b[0;34m)\u001b[0m\u001b[0;34m\u001b[0m\u001b[0;34m\u001b[0m\u001b[0m\n\u001b[0m",
      "\u001b[0;31mNameError\u001b[0m: name 'df' is not defined"
     ]
    }
   ],
   "source": [
    "import pandas as pd  #this cell is broken fix it\n",
    "my_df = pd.read_csv('WA_Fn-UseC_-Telco-Customer-Churn_nans.csv')\n",
    "df.head()"
   ]
  },
  {
   "cell_type": "markdown",
   "metadata": {
    "ExecuteTime": {
     "end_time": "2020-05-06T20:59:24.777628Z",
     "start_time": "2020-05-06T20:59:24.774636Z"
    }
   },
   "source": [
    "## Python Basics - Pandas NaNs\n",
    "* determine which if any columns have nans in them"
   ]
  },
  {
   "cell_type": "code",
   "execution_count": null,
   "metadata": {
    "ExecuteTime": {
     "end_time": "2020-06-11T17:42:20.647826Z",
     "start_time": "2020-06-11T17:42:20.048Z"
    }
   },
   "outputs": [],
   "source": [
    "cols = my_df.isnull().sum() > 0  # this cell is broken, fix it\n",
    "print(col)"
   ]
  },
  {
   "cell_type": "code",
   "execution_count": 16,
   "metadata": {
    "ExecuteTime": {
     "end_time": "2020-06-11T18:17:25.586989Z",
     "start_time": "2020-06-11T18:17:25.569170Z"
    }
   },
   "outputs": [
    {
     "data": {
      "text/plain": [
       "['tenure']"
      ]
     },
     "execution_count": 16,
     "metadata": {},
     "output_type": "execute_result"
    }
   ],
   "source": [
    "# print the names of the columns that have nans\n",
    "cols = (my_df.isnull().sum()>0).tolist()  # this cell is broken, fix it\n",
    "my_df.columns[cols].tolist()"
   ]
  },
  {
   "cell_type": "markdown",
   "metadata": {},
   "source": [
    " <div class=\"panel-group\" id=\"accordion-67\">\n",
    "  <div class=\"panel panel-default\">\n",
    "    <div class=\"panel-heading\">\n",
    "      <h4 class=\"panel-title\">\n",
    "        <a data-toggle=\"collapse\" data-parent=\"#accordion-67\" href=\"#collapse1-67\">\n",
    "        Hint</a>\n",
    "      </h4>\n",
    "    </div>\n",
    "    <div id=\"collapse1-67\" class=\"panel-collapse collapse\">\n",
    "      <div class=\"panel-body\">\n",
    "Type:<br><br>\n",
    "- isnull() <br>\n",
    "<br>cols = (my_df.isnull().sum()>0).tolist()   ##  use isnull ... null isnt a method <br>\n",
    "<br>my_df.columns[cols].tolist()  <br>\n",
    "        </div>\n",
    "    </div>\n",
    "  </div>\n",
    " </div>"
   ]
  },
  {
   "cell_type": "code",
   "execution_count": 18,
   "metadata": {
    "ExecuteTime": {
     "end_time": "2020-06-11T18:21:25.634421Z",
     "start_time": "2020-06-11T18:21:25.617088Z"
    }
   },
   "outputs": [
    {
     "ename": "AttributeError",
     "evalue": "'DataFrame' object has no attribute 'null'",
     "output_type": "error",
     "traceback": [
      "\u001b[0;31m---------------------------------------------------------------------------\u001b[0m",
      "\u001b[0;31mAttributeError\u001b[0m                            Traceback (most recent call last)",
      "\u001b[0;32m<ipython-input-18-955980e5392b>\u001b[0m in \u001b[0;36m<module>\u001b[0;34m\u001b[0m\n\u001b[0;32m----> 1\u001b[0;31m \u001b[0mcols\u001b[0m \u001b[0;34m=\u001b[0m \u001b[0;34m(\u001b[0m\u001b[0mmy_df\u001b[0m\u001b[0;34m.\u001b[0m\u001b[0mnull\u001b[0m\u001b[0;34m(\u001b[0m\u001b[0;34m)\u001b[0m\u001b[0;34m.\u001b[0m\u001b[0msum\u001b[0m\u001b[0;34m(\u001b[0m\u001b[0;34m)\u001b[0m\u001b[0;34m>\u001b[0m\u001b[0;36m0\u001b[0m\u001b[0;34m)\u001b[0m\u001b[0;34m.\u001b[0m\u001b[0mtolist\u001b[0m\u001b[0;34m(\u001b[0m\u001b[0;34m)\u001b[0m  \u001b[0;31m# this cell is broken, fix it\u001b[0m\u001b[0;34m\u001b[0m\u001b[0;34m\u001b[0m\u001b[0m\n\u001b[0m\u001b[1;32m      2\u001b[0m \u001b[0mmy_df\u001b[0m\u001b[0;34m.\u001b[0m\u001b[0mcolumns\u001b[0m\u001b[0;34m[\u001b[0m\u001b[0mcols\u001b[0m\u001b[0;34m]\u001b[0m\u001b[0;34m.\u001b[0m\u001b[0mtolist\u001b[0m\u001b[0;34m(\u001b[0m\u001b[0;34m)\u001b[0m\u001b[0;34m\u001b[0m\u001b[0;34m\u001b[0m\u001b[0m\n",
      "\u001b[0;32m~/anaconda3/envs/powerai-fastai/lib/python3.7/site-packages/pandas/core/generic.py\u001b[0m in \u001b[0;36m__getattr__\u001b[0;34m(self, name)\u001b[0m\n\u001b[1;32m   5272\u001b[0m             \u001b[0;32mif\u001b[0m \u001b[0mself\u001b[0m\u001b[0;34m.\u001b[0m\u001b[0m_info_axis\u001b[0m\u001b[0;34m.\u001b[0m\u001b[0m_can_hold_identifiers_and_holds_name\u001b[0m\u001b[0;34m(\u001b[0m\u001b[0mname\u001b[0m\u001b[0;34m)\u001b[0m\u001b[0;34m:\u001b[0m\u001b[0;34m\u001b[0m\u001b[0;34m\u001b[0m\u001b[0m\n\u001b[1;32m   5273\u001b[0m                 \u001b[0;32mreturn\u001b[0m \u001b[0mself\u001b[0m\u001b[0;34m[\u001b[0m\u001b[0mname\u001b[0m\u001b[0;34m]\u001b[0m\u001b[0;34m\u001b[0m\u001b[0;34m\u001b[0m\u001b[0m\n\u001b[0;32m-> 5274\u001b[0;31m             \u001b[0;32mreturn\u001b[0m \u001b[0mobject\u001b[0m\u001b[0;34m.\u001b[0m\u001b[0m__getattribute__\u001b[0m\u001b[0;34m(\u001b[0m\u001b[0mself\u001b[0m\u001b[0;34m,\u001b[0m \u001b[0mname\u001b[0m\u001b[0;34m)\u001b[0m\u001b[0;34m\u001b[0m\u001b[0;34m\u001b[0m\u001b[0m\n\u001b[0m\u001b[1;32m   5275\u001b[0m \u001b[0;34m\u001b[0m\u001b[0m\n\u001b[1;32m   5276\u001b[0m     \u001b[0;32mdef\u001b[0m \u001b[0m__setattr__\u001b[0m\u001b[0;34m(\u001b[0m\u001b[0mself\u001b[0m\u001b[0;34m,\u001b[0m \u001b[0mname\u001b[0m\u001b[0;34m:\u001b[0m \u001b[0mstr\u001b[0m\u001b[0;34m,\u001b[0m \u001b[0mvalue\u001b[0m\u001b[0;34m)\u001b[0m \u001b[0;34m->\u001b[0m \u001b[0;32mNone\u001b[0m\u001b[0;34m:\u001b[0m\u001b[0;34m\u001b[0m\u001b[0;34m\u001b[0m\u001b[0m\n",
      "\u001b[0;31mAttributeError\u001b[0m: 'DataFrame' object has no attribute 'null'"
     ]
    }
   ],
   "source": [
    "cols = (my_df.null().sum()>0).tolist()  # this cell is broken, fix it\n",
    "my_df.columns[cols].tolist()"
   ]
  },
  {
   "attachments": {
    "image.png": {
     "image/png": "[encoded data removed]"
    }
   },
   "cell_type": "markdown",
   "metadata": {},
   "source": [
    "\n",
    "<div class=\"panel-group\" id=\"accordion-77\">\n",
    "  <div class=\"panel panel-default\">\n",
    "    <div class=\"panel-heading\">\n",
    "      <h4 class=\"panel-title\">\n",
    "        <a data-toggle=\"collapse\" data-parent=\"#accordion-77\" href=\"#collapse1-77\">\n",
    "        Hint</a>\n",
    "      </h4>\n",
    "    </div>\n",
    "    <div id=\"collapse1-77\" class=\"panel-collapse collapse\">\n",
    "      <div class=\"panel-body\">\n",
    "Type:<br>\n",
    "<br>my_df = my_df.fillna(0)\n",
    "<br>my_df.isnull().sum()  <br>\n",
    "<br> Google is your friend!         \n",
    "    </div>\n",
    "  </div>\n",
    " </div>\n",
    "\n",
    "![image.png](attachment:image.png)"
   ]
  },
  {
   "cell_type": "code",
   "execution_count": 17,
   "metadata": {
    "ExecuteTime": {
     "end_time": "2020-06-11T18:18:09.440859Z",
     "start_time": "2020-06-11T18:18:09.421926Z"
    }
   },
   "outputs": [
    {
     "ename": "AttributeError",
     "evalue": "'DataFrame' object has no attribute 'fillna_na_na_na_na_na_na_na_hey_hey_goodby'",
     "output_type": "error",
     "traceback": [
      "\u001b[0;31m---------------------------------------------------------------------------\u001b[0m",
      "\u001b[0;31mAttributeError\u001b[0m                            Traceback (most recent call last)",
      "\u001b[0;32m<ipython-input-17-6b609afcfb44>\u001b[0m in \u001b[0;36m<module>\u001b[0;34m\u001b[0m\n\u001b[1;32m      1\u001b[0m \u001b[0;31m# replace the nans with 0   , also the cell is broken, fix it\u001b[0m\u001b[0;34m\u001b[0m\u001b[0;34m\u001b[0m\u001b[0;34m\u001b[0m\u001b[0m\n\u001b[0;32m----> 2\u001b[0;31m \u001b[0mmy_df\u001b[0m \u001b[0;34m=\u001b[0m \u001b[0mmy_df\u001b[0m\u001b[0;34m.\u001b[0m\u001b[0mfillna_na_na_na_na_na_na_na_hey_hey_goodby\u001b[0m\u001b[0;34m(\u001b[0m\u001b[0;36m0\u001b[0m\u001b[0;34m)\u001b[0m\u001b[0;34m\u001b[0m\u001b[0;34m\u001b[0m\u001b[0m\n\u001b[0m\u001b[1;32m      3\u001b[0m \u001b[0mmy_df\u001b[0m\u001b[0;34m.\u001b[0m\u001b[0misnull\u001b[0m\u001b[0;34m(\u001b[0m\u001b[0;34m)\u001b[0m\u001b[0;34m.\u001b[0m\u001b[0msum\u001b[0m\u001b[0;34m(\u001b[0m\u001b[0;34m)\u001b[0m\u001b[0;34m\u001b[0m\u001b[0;34m\u001b[0m\u001b[0m\n",
      "\u001b[0;32m~/anaconda3/envs/powerai-fastai/lib/python3.7/site-packages/pandas/core/generic.py\u001b[0m in \u001b[0;36m__getattr__\u001b[0;34m(self, name)\u001b[0m\n\u001b[1;32m   5272\u001b[0m             \u001b[0;32mif\u001b[0m \u001b[0mself\u001b[0m\u001b[0;34m.\u001b[0m\u001b[0m_info_axis\u001b[0m\u001b[0;34m.\u001b[0m\u001b[0m_can_hold_identifiers_and_holds_name\u001b[0m\u001b[0;34m(\u001b[0m\u001b[0mname\u001b[0m\u001b[0;34m)\u001b[0m\u001b[0;34m:\u001b[0m\u001b[0;34m\u001b[0m\u001b[0;34m\u001b[0m\u001b[0m\n\u001b[1;32m   5273\u001b[0m                 \u001b[0;32mreturn\u001b[0m \u001b[0mself\u001b[0m\u001b[0;34m[\u001b[0m\u001b[0mname\u001b[0m\u001b[0;34m]\u001b[0m\u001b[0;34m\u001b[0m\u001b[0;34m\u001b[0m\u001b[0m\n\u001b[0;32m-> 5274\u001b[0;31m             \u001b[0;32mreturn\u001b[0m \u001b[0mobject\u001b[0m\u001b[0;34m.\u001b[0m\u001b[0m__getattribute__\u001b[0m\u001b[0;34m(\u001b[0m\u001b[0mself\u001b[0m\u001b[0;34m,\u001b[0m \u001b[0mname\u001b[0m\u001b[0;34m)\u001b[0m\u001b[0;34m\u001b[0m\u001b[0;34m\u001b[0m\u001b[0m\n\u001b[0m\u001b[1;32m   5275\u001b[0m \u001b[0;34m\u001b[0m\u001b[0m\n\u001b[1;32m   5276\u001b[0m     \u001b[0;32mdef\u001b[0m \u001b[0m__setattr__\u001b[0m\u001b[0;34m(\u001b[0m\u001b[0mself\u001b[0m\u001b[0;34m,\u001b[0m \u001b[0mname\u001b[0m\u001b[0;34m:\u001b[0m \u001b[0mstr\u001b[0m\u001b[0;34m,\u001b[0m \u001b[0mvalue\u001b[0m\u001b[0;34m)\u001b[0m \u001b[0;34m->\u001b[0m \u001b[0;32mNone\u001b[0m\u001b[0;34m:\u001b[0m\u001b[0;34m\u001b[0m\u001b[0;34m\u001b[0m\u001b[0m\n",
      "\u001b[0;31mAttributeError\u001b[0m: 'DataFrame' object has no attribute 'fillna_na_na_na_na_na_na_na_hey_hey_goodby'"
     ]
    }
   ],
   "source": [
    "# replace the nans with 0   , also the cell is broken, fix it\n",
    "my_df = my_df.fillna_na_na_na_na_na_na_na_hey_hey_goodby(0)  \n",
    "my_df.isnull().sum()"
   ]
  },
  {
   "cell_type": "markdown",
   "metadata": {},
   "source": [
    " <div class=\"panel-group\" id=\"accordion-88\">\n",
    "  <div class=\"panel panel-default\">\n",
    "    <div class=\"panel-heading\">\n",
    "      <h4 class=\"panel-title\">\n",
    "        <a data-toggle=\"collapse\" data-parent=\"#accordion-88\" href=\"#collapse1-88\">\n",
    "        Hint</a>\n",
    "      </h4>\n",
    "    </div>\n",
    "    <div id=\"collapse1-88\" class=\"panel-collapse collapse\">\n",
    "      <div class=\"panel-body\">\n",
    "Heres a trick ... TYPE:<br>\n",
    "<br>my_df.des + TAB ... see if you can use autocomplet to figure it out!\n",
    "        </div>\n",
    "    </div>\n",
    "  </div>\n",
    " </div>\n",
    "\n"
   ]
  },
  {
   "cell_type": "code",
   "execution_count": null,
   "metadata": {
    "ExecuteTime": {
     "end_time": "2020-06-11T17:42:20.652176Z",
     "start_time": "2020-06-11T17:42:20.059Z"
    }
   },
   "outputs": [],
   "source": [
    "# perform basic statics for numerical columns my_df dataframes\n",
    "my_df.described() # the cell is broken, fix it"
   ]
  },
  {
   "cell_type": "markdown",
   "metadata": {
    "ExecuteTime": {
     "end_time": "2020-05-06T20:59:24.847441Z",
     "start_time": "2020-05-06T20:59:24.844448Z"
    }
   },
   "source": [
    "## Python Basics - Pandas Unique values in a column\n",
    "* display number of unique values for each column (the cardinality of each column)"
   ]
  },
  {
   "cell_type": "markdown",
   "metadata": {},
   "source": [
    " <div class=\"panel-group\" id=\"accordion-99\">\n",
    "  <div class=\"panel panel-default\">\n",
    "    <div class=\"panel-heading\">\n",
    "      <h4 class=\"panel-title\">\n",
    "        <a data-toggle=\"collapse\" data-parent=\"#accordion-99\" href=\"#collapse1-99\">\n",
    "        Hint</a>\n",
    "      </h4>\n",
    "    </div>\n",
    "    <div id=\"collapse1-99\" class=\"panel-collapse collapse\">\n",
    "      <div class=\"panel-body\">\n",
    "Heres a trick ... TYPE:<br>\n",
    "          <br>my_df.nuni + TAB ... see if you can use autocomplet to figure it out!<br><br><br>\n",
    "          <br>my_df.nunique()\n",
    "        </div>\n",
    "    </div>\n",
    "  </div>\n",
    " </div>\n",
    "\n"
   ]
  },
  {
   "cell_type": "code",
   "execution_count": null,
   "metadata": {
    "ExecuteTime": {
     "end_time": "2020-06-11T17:42:20.653240Z",
     "start_time": "2020-06-11T17:42:20.061Z"
    }
   },
   "outputs": [],
   "source": [
    "my_df.nmonique()    # the cell is broken, fix it"
   ]
  },
  {
   "cell_type": "markdown",
   "metadata": {
    "ExecuteTime": {
     "end_time": "2020-05-06T20:59:24.874368Z",
     "start_time": "2020-05-06T20:59:24.871376Z"
    }
   },
   "source": [
    "## Python Basics - Pandas column data types\n",
    "* find basic data types of each column"
   ]
  },
  {
   "cell_type": "code",
   "execution_count": null,
   "metadata": {
    "ExecuteTime": {
     "end_time": "2020-06-11T17:42:20.654306Z",
     "start_time": "2020-06-11T17:42:20.064Z"
    }
   },
   "outputs": [],
   "source": [
    "my_df.dtypes  # a freebie !"
   ]
  },
  {
   "cell_type": "markdown",
   "metadata": {
    "ExecuteTime": {
     "end_time": "2020-05-06T20:59:24.888333Z",
     "start_time": "2020-05-06T20:59:24.883345Z"
    }
   },
   "source": [
    "## Python Basics - Add New Column to Pandas Dataframe\n",
    "* add a new column to my_df called \"myNew\" and fill it with  a sequence of values 0,1,2,3,4...\n"
   ]
  },
  {
   "cell_type": "markdown",
   "metadata": {},
   "source": [
    " <div class=\"panel-group\" id=\"accordion-111\">\n",
    "  <div class=\"panel panel-default\">\n",
    "    <div class=\"panel-heading\">\n",
    "      <h4 class=\"panel-title\">\n",
    "        <a data-toggle=\"collapse\" data-parent=\"#accordion-111\" href=\"#collapse1-111\">\n",
    "        Hint</a>\n",
    "      </h4>\n",
    "    </div>\n",
    "    <div id=\"collapse1-111\" class=\"panel-collapse collapse\">\n",
    "      <div class=\"panel-body\">\n",
    "Answer:<br>\n",
    "<br>my_df['myNew'] = np.arange(len(my_df))\n",
    "        </div>\n",
    "    </div>\n",
    "  </div>\n",
    " </div>\n"
   ]
  },
  {
   "cell_type": "code",
   "execution_count": null,
   "metadata": {
    "ExecuteTime": {
     "end_time": "2020-06-11T17:42:20.655429Z",
     "start_time": "2020-06-11T17:42:20.067Z"
    }
   },
   "outputs": [],
   "source": [
    "import numpy as np   # the cell is broken, fix it\n",
    "my_df['myNew'] = np.range(len(my_df))  #lookup np range\n",
    "my_df.head()"
   ]
  },
  {
   "cell_type": "markdown",
   "metadata": {
    "ExecuteTime": {
     "end_time": "2020-05-06T20:59:24.916257Z",
     "start_time": "2020-05-06T20:59:24.912267Z"
    }
   },
   "source": [
    "## Python Basics - Pandas indexing\n",
    "* change the value of a specific row and column [0,0] to a new value using iloc\n"
   ]
  },
  {
   "cell_type": "code",
   "execution_count": null,
   "metadata": {
    "ExecuteTime": {
     "end_time": "2020-06-11T17:42:20.656534Z",
     "start_time": "2020-06-11T17:42:20.069Z"
    }
   },
   "outputs": [],
   "source": [
    "my_df.iloc[0,0]"
   ]
  },
  {
   "cell_type": "markdown",
   "metadata": {},
   "source": [
    "## Python Basics - Filtering rows in Pandas\n",
    "\n",
    "### filter my_df to display the following \n",
    "| gender | SeniorCitizen | Partner | Dependents |\n",
    "| --- | --- | ---| ---|\n",
    "| Female | \t0 | Yes | \tNo |"
   ]
  },
  {
   "cell_type": "code",
   "execution_count": null,
   "metadata": {
    "ExecuteTime": {
     "end_time": "2020-06-11T17:42:20.657756Z",
     "start_time": "2020-06-11T17:42:20.072Z"
    }
   },
   "outputs": [],
   "source": [
    "my_df.columns"
   ]
  },
  {
   "cell_type": "markdown",
   "metadata": {},
   "source": [
    " <div class=\"panel-group\" id=\"accordion-112\">\n",
    "  <div class=\"panel panel-default\">\n",
    "    <div class=\"panel-heading\">\n",
    "      <h4 class=\"panel-title\">\n",
    "        <a data-toggle=\"collapse\" data-parent=\"#accordion-112\" href=\"#collapse1-112\">\n",
    "        Hint</a>\n",
    "      </h4>\n",
    "    </div>\n",
    "    <div id=\"collapse1-112\" class=\"panel-collapse collapse\">\n",
    "      <div class=\"panel-body\">\n",
    "Answer:<br>\n",
    "          <br> use my_df['SeniorCitizen']         NOT my_df['Senior']\n",
    "          <br><br>  use my_df['Dependents']       NOT my_df['Depends']\n",
    "          <br><br><br>\n",
    "<br>my_df[(my_df['gender'] == 'Female') & (my_df['SeniorCitizen'] == 0) & (my_df['Partner'] == 'Yes') & (my_df['Dependents'] == 'No')]\n",
    "        </div>\n",
    "    </div>\n",
    "  </div>\n",
    " </div>"
   ]
  },
  {
   "cell_type": "code",
   "execution_count": null,
   "metadata": {
    "ExecuteTime": {
     "end_time": "2020-06-11T17:42:20.658834Z",
     "start_time": "2020-06-11T17:42:20.074Z"
    }
   },
   "outputs": [],
   "source": [
    "# this cell is broken fix it\n",
    "my_df[(my_df['gender'] == 'Female') & (my_df['Senior'] == 0) & (my_df['Partner'] == 'Yes') & (my_df['Depend'] == 'No')]"
   ]
  },
  {
   "cell_type": "markdown",
   "metadata": {
    "ExecuteTime": {
     "end_time": "2020-05-06T20:59:24.964129Z",
     "start_time": "2020-05-06T20:59:24.960139Z"
    }
   },
   "source": [
    "## Python Basics -Pandas sorting\n",
    "* sort the my_df by columns [InternetService, PhoneService ]"
   ]
  },
  {
   "cell_type": "markdown",
   "metadata": {},
   "source": [
    " <div class=\"panel-group\" id=\"accordion-113\">\n",
    "  <div class=\"panel panel-default\">\n",
    "    <div class=\"panel-heading\">\n",
    "      <h4 class=\"panel-title\">\n",
    "        <a data-toggle=\"collapse\" data-parent=\"#accordion-113\" href=\"#collapse1-113\">\n",
    "        Hint</a>\n",
    "      </h4>\n",
    "    </div>\n",
    "    <div id=\"collapse1-113\" class=\"panel-collapse collapse\">\n",
    "      <div class=\"panel-body\">\n",
    "Answer:<br>\n",
    "          <br> my_df.sort_values(['InternetService', 'PhoneService'])\n",
    "        </div>\n",
    "    </div>\n",
    "  </div>\n",
    " </div>"
   ]
  },
  {
   "cell_type": "code",
   "execution_count": null,
   "metadata": {
    "ExecuteTime": {
     "end_time": "2020-06-11T17:42:20.660986Z",
     "start_time": "2020-06-11T17:42:20.076Z"
    }
   },
   "outputs": [],
   "source": [
    "my_df.sort(by=['InternetService', 'PhoneService'])  # this cell is broken, fix it"
   ]
  },
  {
   "cell_type": "markdown",
   "metadata": {
    "ExecuteTime": {
     "end_time": "2020-05-06T20:59:25.011003Z",
     "start_time": "2020-05-06T20:59:25.008011Z"
    }
   },
   "source": [
    "## Python Basics - Pandas Groupby and Aggregate\n",
    "* group the dataframe by ['InternetService', 'PhoneService'] and aggregate churn by count() "
   ]
  },
  {
   "cell_type": "code",
   "execution_count": null,
   "metadata": {
    "ExecuteTime": {
     "end_time": "2020-06-11T17:42:20.662120Z",
     "start_time": "2020-06-11T17:42:20.078Z"
    }
   },
   "outputs": [],
   "source": [
    "my_df.groupby(['InternetService', 'PhoneService'])['Churn'].count()"
   ]
  },
  {
   "cell_type": "code",
   "execution_count": null,
   "metadata": {
    "ExecuteTime": {
     "end_time": "2020-06-11T17:42:20.663214Z",
     "start_time": "2020-06-11T17:42:20.080Z"
    }
   },
   "outputs": [],
   "source": [
    "#how many Fiber Optic customers do NOT have phone service?"
   ]
  },
  {
   "cell_type": "code",
   "execution_count": null,
   "metadata": {
    "ExecuteTime": {
     "end_time": "2020-06-11T17:42:20.664326Z",
     "start_time": "2020-06-11T17:42:20.082Z"
    }
   },
   "outputs": [],
   "source": [
    "my_df[(my_df['InternetService'] == 'Fiber optic') & (my_df['PhoneService'] == 'Yes') ].shape"
   ]
  },
  {
   "attachments": {
    "Screen%20Shot%202020-06-11%20at%2011.34.36%20AM.png": {
     "image/png": "[encoded data removed]"
    }
   },
   "cell_type": "markdown",
   "metadata": {
    "ExecuteTime": {
     "end_time": "2020-05-06T16:23:55.906211Z",
     "start_time": "2020-05-06T16:23:55.903220Z"
    }
   },
   "source": [
    "\n",
    "# Jupyter Gotchas\n",
    "\n",
    "\n",
    "Can you tell which cell is code vs markdown?  It makes a difference ....\n",
    "\n",
    "in each cell below, assign the value of 12 to a variable\n",
    "\n",
    "- first  cell a = 12\n",
    "- second cell b = 12\n",
    "- third cell c = 12\n",
    "\n",
    "There are different kinds of cells, code cells, Markdown cells, NBCOnvert cells\n",
    "\n",
    "- Code cells run code - pretty simple\n",
    "\n",
    "- Markdown cells - provided prettier HTML type documenttion\n",
    "\n",
    "- NBConvert cells - usually used for \"as is\" text and primarily used for LaTex for math\n",
    "\n",
    "- Heading is depricated\n",
    "\n",
    "![Screen%20Shot%202020-06-11%20at%2011.34.36%20AM.png](attachment:Screen%20Shot%202020-06-11%20at%2011.34.36%20AM.png)\n"
   ]
  },
  {
   "cell_type": "markdown",
   "metadata": {},
   "source": [
    " <div class=\"panel-group\" id=\"accordion-114\">\n",
    "  <div class=\"panel panel-default\">\n",
    "    <div class=\"panel-heading\">\n",
    "      <h4 class=\"panel-title\">\n",
    "        <a data-toggle=\"collapse\" data-parent=\"#accordion-114\" href=\"#collapse1-114\">\n",
    "        Hint</a>\n",
    "      </h4>\n",
    "    </div>\n",
    "    <div id=\"collapse1-114\" class=\"panel-collapse collapse\">\n",
    "      <div class=\"panel-body\">\n",
    "Answer:<br>\n",
    "          <br> b = 12 is incorrectly marked as a Markdown cell\n",
    "          <br><br> change it to a code cell\n",
    "        </div>\n",
    "        <br> c = 12 is incorrectly marked as a Raw NBConvert  cell\n",
    "         <br><br>  change it to a code cell\n",
    "    </div>\n",
    "  </div>\n",
    " </div>"
   ]
  },
  {
   "cell_type": "code",
   "execution_count": null,
   "metadata": {
    "ExecuteTime": {
     "end_time": "2020-06-11T17:42:20.665436Z",
     "start_time": "2020-06-11T17:42:20.087Z"
    }
   },
   "outputs": [],
   "source": [
    "a = 12"
   ]
  },
  {
   "cell_type": "markdown",
   "metadata": {},
   "source": [
    "b = 12"
   ]
  },
  {
   "cell_type": "raw",
   "metadata": {},
   "source": [
    "c = 12"
   ]
  },
  {
   "cell_type": "markdown",
   "metadata": {},
   "source": [
    "c"
   ]
  },
  {
   "cell_type": "code",
   "execution_count": null,
   "metadata": {
    "ExecuteTime": {
     "end_time": "2020-06-11T17:42:20.666573Z",
     "start_time": "2020-06-11T17:42:20.117Z"
    }
   },
   "outputs": [],
   "source": [
    "# examine the print statements of all those variables - \n",
    "\n",
    "# Anything wrong?\n",
    "\n",
    "print (a)\n",
    "print (b)\n",
    "print (c)"
   ]
  },
  {
   "cell_type": "code",
   "execution_count": null,
   "metadata": {
    "ExecuteTime": {
     "end_time": "2020-06-11T17:42:20.667761Z",
     "start_time": "2020-06-11T17:42:20.119Z"
    }
   },
   "outputs": [],
   "source": [
    "# go back into Jupyter and see what type of cell each each is marked as ... aha ..."
   ]
  },
  {
   "cell_type": "code",
   "execution_count": null,
   "metadata": {},
   "outputs": [],
   "source": []
  }
 ],
 "metadata": {
  "kernelspec": {
   "display_name": "Python 3",
   "language": "python",
   "name": "python3"
  },
  "language_info": {
   "codemirror_mode": {
    "name": "ipython",
    "version": 3
   },
   "file_extension": ".py",
   "mimetype": "text/x-python",
   "name": "python",
   "nbconvert_exporter": "python",
   "pygments_lexer": "ipython3",
   "version": "3.7.4"
  },
  "toc": {
   "base_numbering": 1,
   "nav_menu": {},
   "number_sections": true,
   "sideBar": true,
   "skip_h1_title": false,
   "title_cell": "Table of Contents",
   "title_sidebar": "Contents",
   "toc_cell": false,
   "toc_position": {},
   "toc_section_display": true,
   "toc_window_display": false
  }
 },
 "nbformat": 4,
 "nbformat_minor": 1
}
