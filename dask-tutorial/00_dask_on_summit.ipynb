{
 "cells": [
  {
   "cell_type": "code",
   "execution_count": 1,
   "metadata": {
    "ExecuteTime": {
     "end_time": "2020-10-07T13:04:32.574017Z",
     "start_time": "2020-10-07T13:04:32.572178Z"
    }
   },
   "outputs": [],
   "source": [
    "#import dask\n",
    "#dask.config.config"
   ]
  },
  {
   "cell_type": "markdown",
   "metadata": {},
   "source": [
    "## Running Dask on Summit via Ipython Terminal\n",
    "You will need 2 terminals and a browser for this lab\n",
    "___\n",
    "#### In terminal 1 \n",
    "1. login to summit\n",
    "2. activate conda environment \n",
    "` module load ibm-wml-ce/1.7.0-1\n",
    "conda activate wmlce17-ornl`\n",
    "\n",
    "3. launch ipython <br>\n",
    "ipython\n",
    "\n",
    "\n",
    "### In terminal 2\n",
    "1. forward ssh ports from login node to your laptop.  Here XXXX should be an unused port on the system.  Use 7777 as example<br> Pay attention to making sure the right \n",
    "ssh -N -L XXXX:loginYY.summit.olcf.ornl.gov:XXXX  userid@summit.olcf.ornl.gov\n",
    "e.g.\n",
    "ssh -N -L 3761:login4.summit.olcf.ornl.gov:3761  vanstee@summit.olcf.ornl.gov\n"
   ]
  },
  {
   "cell_type": "markdown",
   "metadata": {},
   "source": [
    "## Dask on Summit"
   ]
  },
  {
   "cell_type": "code",
   "execution_count": 1,
   "metadata": {
    "ExecuteTime": {
     "end_time": "2020-10-06T16:19:45.781185Z",
     "start_time": "2020-10-06T16:19:43.751556Z"
    }
   },
   "outputs": [],
   "source": [
    "# This library enables interoperability with clusters (like LSF)\n",
    "import sys\n",
    "from dask_jobqueue import LSFCluster"
   ]
  },
  {
   "cell_type": "code",
   "execution_count": 4,
   "metadata": {},
   "outputs": [],
   "source": [
    "# Per node specification\n",
    "dask_worker_prefix = \"jsrun -n1 -a1 -g0 -c2\"\n",
    "\n",
    "cluster = LSFCluster(\n",
    "    scheduler_options={\"dashboard_address\": \":3761\"},\n",
    "    cores=8,\n",
    "    processes=1,     \n",
    "    memory=\"4 GB\",\n",
    "    project=\"VEN201\",\n",
    "    walltime=\"00:30\",\n",
    "    job_extra=[\"-nnodes 1\"],          # <--- new!\n",
    "    header_skip=[\"-R\", \"-n \", \"-M\"],  # <--- new!\n",
    "    interface='ib0',\n",
    "    use_stdin=False,\n",
    "    python= f\"{dask_worker_prefix} {sys.executable}\"\n",
    ")"
   ]
  },
  {
   "cell_type": "markdown",
   "metadata": {},
   "source": [
    "## Lets See what is sent to LSF"
   ]
  },
  {
   "cell_type": "code",
   "execution_count": 5,
   "metadata": {},
   "outputs": [
    {
     "name": "stdout",
     "output_type": "stream",
     "text": [
      "#!/usr/bin/env bash\n",
      "\n",
      "#BSUB -J dask-worker\n",
      "#BSUB -P VEN201\n",
      "#BSUB -W 00:30\n",
      "#BSUB -nnodes 1\n",
      "\n",
      "/ccs/home/vanstee/.conda/envs/powerai-ornl/bin/python -m distributed.cli.dask_worker tcp://10.41.0.32:36525 --nthreads 8 --memory-limit 4.00GB --name name --nanny --death-timeout 60 --interface ib0\n",
      "\n"
     ]
    }
   ],
   "source": [
    "print(cluster.job_script())"
   ]
  },
  {
   "cell_type": "code",
   "execution_count": 6,
   "metadata": {},
   "outputs": [],
   "source": [
    "from dask.distributed import Client\n",
    "client = Client(cluster)"
   ]
  },
  {
   "cell_type": "code",
   "execution_count": 7,
   "metadata": {},
   "outputs": [
    {
     "data": {
      "text/html": [
       "<table style=\"border: 2px solid white;\">\n",
       "<tr>\n",
       "<td style=\"vertical-align: top; border: 0px solid white\">\n",
       "<h3 style=\"text-align: left;\">Client</h3>\n",
       "<ul style=\"text-align: left; list-style: none; margin: 0; padding: 0;\">\n",
       "  <li><b>Scheduler: </b>tcp://10.41.0.32:36525</li>\n",
       "  <li><b>Dashboard: </b><a href='http://10.41.0.32:3762/status' target='_blank'>http://10.41.0.32:3762/status</a>\n",
       "</ul>\n",
       "</td>\n",
       "<td style=\"vertical-align: top; border: 0px solid white\">\n",
       "<h3 style=\"text-align: left;\">Cluster</h3>\n",
       "<ul style=\"text-align: left; list-style:none; margin: 0; padding: 0;\">\n",
       "  <li><b>Workers: </b>0</li>\n",
       "  <li><b>Cores: </b>0</li>\n",
       "  <li><b>Memory: </b>0 B</li>\n",
       "</ul>\n",
       "</td>\n",
       "</tr>\n",
       "</table>"
      ],
      "text/plain": [
       "<Client: 'tcp://10.41.0.32:36525' processes=0 threads=0, memory=0 B>"
      ]
     },
     "execution_count": 7,
     "metadata": {},
     "output_type": "execute_result"
    }
   ],
   "source": [
    "client"
   ]
  },
  {
   "cell_type": "code",
   "execution_count": 8,
   "metadata": {},
   "outputs": [],
   "source": [
    "# Open another terminal here and run bjobs ..\n",
    "cluster.scale(4)\n",
    "# takes a couple of mins potentially ...."
   ]
  },
  {
   "cell_type": "code",
   "execution_count": null,
   "metadata": {},
   "outputs": [],
   "source": [
    "client\n",
    "#In [11]: client\n",
    "#Out[11]: <Client: 'tcp://10.41.0.34:37579' processes=2 threads=16, memory=8.00 GB>"
   ]
  },
  {
   "cell_type": "code",
   "execution_count": 12,
   "metadata": {},
   "outputs": [
    {
     "name": "stdout",
     "output_type": "stream",
     "text": [
      "JOBID   USER       STAT   SLOTS    QUEUE       START_TIME    FINISH_TIME   JOB_NAME                      \n",
      "376497  vanstee    RUN    43       batch       Sep 29 16:23  Sep 29 16:53  dask-worker                   \n",
      "376498  vanstee    RUN    43       batch       Sep 29 16:23  Sep 29 16:53  dask-worker                   \n"
     ]
    }
   ],
   "source": [
    "watch !bjobs"
   ]
  },
  {
   "cell_type": "markdown",
   "metadata": {},
   "source": [
    "# Numpy simple example ..."
   ]
  },
  {
   "cell_type": "code",
   "execution_count": 14,
   "metadata": {},
   "outputs": [],
   "source": [
    "import dask.array as da\n",
    "# 2.5 B element array , 500 chunks\n",
    "x = da.random.random([5000,5000], chunks=[250,250])\n"
   ]
  },
  {
   "cell_type": "code",
   "execution_count": 18,
   "metadata": {},
   "outputs": [],
   "source": [
    "cluster.scale(8)"
   ]
  },
  {
   "cell_type": "code",
   "execution_count": 15,
   "metadata": {},
   "outputs": [
    {
     "data": {
      "text/html": [
       "<table>\n",
       "<tr>\n",
       "<td>\n",
       "<table>\n",
       "  <thead>\n",
       "    <tr><td> </td><th> Array </th><th> Chunk </th></tr>\n",
       "  </thead>\n",
       "  <tbody>\n",
       "    <tr><th> Bytes </th><td> 200.00 MB </td> <td> 500.00 kB </td></tr>\n",
       "    <tr><th> Shape </th><td> (5000, 5000) </td> <td> (250, 250) </td></tr>\n",
       "    <tr><th> Count </th><td> 400 Tasks </td><td> 400 Chunks </td></tr>\n",
       "    <tr><th> Type </th><td> float64 </td><td> numpy.ndarray </td></tr>\n",
       "  </tbody>\n",
       "</table>\n",
       "</td>\n",
       "<td>\n",
       "<svg width=\"170\" height=\"170\" style=\"stroke:rgb(0,0,0);stroke-width:1\" >\n",
       "\n",
       "  <!-- Horizontal lines -->\n",
       "  <line x1=\"0\" y1=\"0\" x2=\"120\" y2=\"0\" style=\"stroke-width:2\" />\n",
       "  <line x1=\"0\" y1=\"6\" x2=\"120\" y2=\"6\" />\n",
       "  <line x1=\"0\" y1=\"12\" x2=\"120\" y2=\"12\" />\n",
       "  <line x1=\"0\" y1=\"18\" x2=\"120\" y2=\"18\" />\n",
       "  <line x1=\"0\" y1=\"24\" x2=\"120\" y2=\"24\" />\n",
       "  <line x1=\"0\" y1=\"30\" x2=\"120\" y2=\"30\" />\n",
       "  <line x1=\"0\" y1=\"36\" x2=\"120\" y2=\"36\" />\n",
       "  <line x1=\"0\" y1=\"42\" x2=\"120\" y2=\"42\" />\n",
       "  <line x1=\"0\" y1=\"48\" x2=\"120\" y2=\"48\" />\n",
       "  <line x1=\"0\" y1=\"54\" x2=\"120\" y2=\"54\" />\n",
       "  <line x1=\"0\" y1=\"60\" x2=\"120\" y2=\"60\" />\n",
       "  <line x1=\"0\" y1=\"66\" x2=\"120\" y2=\"66\" />\n",
       "  <line x1=\"0\" y1=\"72\" x2=\"120\" y2=\"72\" />\n",
       "  <line x1=\"0\" y1=\"78\" x2=\"120\" y2=\"78\" />\n",
       "  <line x1=\"0\" y1=\"84\" x2=\"120\" y2=\"84\" />\n",
       "  <line x1=\"0\" y1=\"90\" x2=\"120\" y2=\"90\" />\n",
       "  <line x1=\"0\" y1=\"96\" x2=\"120\" y2=\"96\" />\n",
       "  <line x1=\"0\" y1=\"102\" x2=\"120\" y2=\"102\" />\n",
       "  <line x1=\"0\" y1=\"108\" x2=\"120\" y2=\"108\" />\n",
       "  <line x1=\"0\" y1=\"114\" x2=\"120\" y2=\"114\" />\n",
       "  <line x1=\"0\" y1=\"120\" x2=\"120\" y2=\"120\" style=\"stroke-width:2\" />\n",
       "\n",
       "  <!-- Vertical lines -->\n",
       "  <line x1=\"0\" y1=\"0\" x2=\"0\" y2=\"120\" style=\"stroke-width:2\" />\n",
       "  <line x1=\"6\" y1=\"0\" x2=\"6\" y2=\"120\" />\n",
       "  <line x1=\"12\" y1=\"0\" x2=\"12\" y2=\"120\" />\n",
       "  <line x1=\"18\" y1=\"0\" x2=\"18\" y2=\"120\" />\n",
       "  <line x1=\"24\" y1=\"0\" x2=\"24\" y2=\"120\" />\n",
       "  <line x1=\"30\" y1=\"0\" x2=\"30\" y2=\"120\" />\n",
       "  <line x1=\"36\" y1=\"0\" x2=\"36\" y2=\"120\" />\n",
       "  <line x1=\"42\" y1=\"0\" x2=\"42\" y2=\"120\" />\n",
       "  <line x1=\"48\" y1=\"0\" x2=\"48\" y2=\"120\" />\n",
       "  <line x1=\"54\" y1=\"0\" x2=\"54\" y2=\"120\" />\n",
       "  <line x1=\"60\" y1=\"0\" x2=\"60\" y2=\"120\" />\n",
       "  <line x1=\"66\" y1=\"0\" x2=\"66\" y2=\"120\" />\n",
       "  <line x1=\"72\" y1=\"0\" x2=\"72\" y2=\"120\" />\n",
       "  <line x1=\"78\" y1=\"0\" x2=\"78\" y2=\"120\" />\n",
       "  <line x1=\"84\" y1=\"0\" x2=\"84\" y2=\"120\" />\n",
       "  <line x1=\"90\" y1=\"0\" x2=\"90\" y2=\"120\" />\n",
       "  <line x1=\"96\" y1=\"0\" x2=\"96\" y2=\"120\" />\n",
       "  <line x1=\"102\" y1=\"0\" x2=\"102\" y2=\"120\" />\n",
       "  <line x1=\"108\" y1=\"0\" x2=\"108\" y2=\"120\" />\n",
       "  <line x1=\"114\" y1=\"0\" x2=\"114\" y2=\"120\" />\n",
       "  <line x1=\"120\" y1=\"0\" x2=\"120\" y2=\"120\" style=\"stroke-width:2\" />\n",
       "\n",
       "  <!-- Colored Rectangle -->\n",
       "  <polygon points=\"0.000000,0.000000 120.000000,0.000000 120.000000,120.000000 0.000000,120.000000\" style=\"fill:#ECB172A0;stroke-width:0\"/>\n",
       "\n",
       "  <!-- Text -->\n",
       "  <text x=\"60.000000\" y=\"140.000000\" font-size=\"1.0rem\" font-weight=\"100\" text-anchor=\"middle\" >5000</text>\n",
       "  <text x=\"140.000000\" y=\"60.000000\" font-size=\"1.0rem\" font-weight=\"100\" text-anchor=\"middle\" transform=\"rotate(-90,140.000000,60.000000)\">5000</text>\n",
       "</svg>\n",
       "</td>\n",
       "</tr>\n",
       "</table>"
      ],
      "text/plain": [
       "dask.array<random_sample, shape=(5000, 5000), dtype=float64, chunksize=(250, 250), chunktype=numpy.ndarray>"
      ]
     },
     "execution_count": 15,
     "metadata": {},
     "output_type": "execute_result"
    }
   ],
   "source": [
    "x = x.persist()\n",
    "x"
   ]
  },
  {
   "cell_type": "code",
   "execution_count": 16,
   "metadata": {},
   "outputs": [],
   "source": [
    "y = x.T ** x - x.mean()"
   ]
  },
  {
   "cell_type": "code",
   "execution_count": 17,
   "metadata": {},
   "outputs": [
    {
     "data": {
      "text/html": [
       "<table>\n",
       "<tr>\n",
       "<td>\n",
       "<table>\n",
       "  <thead>\n",
       "    <tr><td> </td><th> Array </th><th> Chunk </th></tr>\n",
       "  </thead>\n",
       "  <tbody>\n",
       "    <tr><th> Bytes </th><td> 200.00 MB </td> <td> 500.00 kB </td></tr>\n",
       "    <tr><th> Shape </th><td> (5000, 5000) </td> <td> (250, 250) </td></tr>\n",
       "    <tr><th> Count </th><td> 400 Tasks </td><td> 400 Chunks </td></tr>\n",
       "    <tr><th> Type </th><td> float64 </td><td> numpy.ndarray </td></tr>\n",
       "  </tbody>\n",
       "</table>\n",
       "</td>\n",
       "<td>\n",
       "<svg width=\"170\" height=\"170\" style=\"stroke:rgb(0,0,0);stroke-width:1\" >\n",
       "\n",
       "  <!-- Horizontal lines -->\n",
       "  <line x1=\"0\" y1=\"0\" x2=\"120\" y2=\"0\" style=\"stroke-width:2\" />\n",
       "  <line x1=\"0\" y1=\"6\" x2=\"120\" y2=\"6\" />\n",
       "  <line x1=\"0\" y1=\"12\" x2=\"120\" y2=\"12\" />\n",
       "  <line x1=\"0\" y1=\"18\" x2=\"120\" y2=\"18\" />\n",
       "  <line x1=\"0\" y1=\"24\" x2=\"120\" y2=\"24\" />\n",
       "  <line x1=\"0\" y1=\"30\" x2=\"120\" y2=\"30\" />\n",
       "  <line x1=\"0\" y1=\"36\" x2=\"120\" y2=\"36\" />\n",
       "  <line x1=\"0\" y1=\"42\" x2=\"120\" y2=\"42\" />\n",
       "  <line x1=\"0\" y1=\"48\" x2=\"120\" y2=\"48\" />\n",
       "  <line x1=\"0\" y1=\"54\" x2=\"120\" y2=\"54\" />\n",
       "  <line x1=\"0\" y1=\"60\" x2=\"120\" y2=\"60\" />\n",
       "  <line x1=\"0\" y1=\"66\" x2=\"120\" y2=\"66\" />\n",
       "  <line x1=\"0\" y1=\"72\" x2=\"120\" y2=\"72\" />\n",
       "  <line x1=\"0\" y1=\"78\" x2=\"120\" y2=\"78\" />\n",
       "  <line x1=\"0\" y1=\"84\" x2=\"120\" y2=\"84\" />\n",
       "  <line x1=\"0\" y1=\"90\" x2=\"120\" y2=\"90\" />\n",
       "  <line x1=\"0\" y1=\"96\" x2=\"120\" y2=\"96\" />\n",
       "  <line x1=\"0\" y1=\"102\" x2=\"120\" y2=\"102\" />\n",
       "  <line x1=\"0\" y1=\"108\" x2=\"120\" y2=\"108\" />\n",
       "  <line x1=\"0\" y1=\"114\" x2=\"120\" y2=\"114\" />\n",
       "  <line x1=\"0\" y1=\"120\" x2=\"120\" y2=\"120\" style=\"stroke-width:2\" />\n",
       "\n",
       "  <!-- Vertical lines -->\n",
       "  <line x1=\"0\" y1=\"0\" x2=\"0\" y2=\"120\" style=\"stroke-width:2\" />\n",
       "  <line x1=\"6\" y1=\"0\" x2=\"6\" y2=\"120\" />\n",
       "  <line x1=\"12\" y1=\"0\" x2=\"12\" y2=\"120\" />\n",
       "  <line x1=\"18\" y1=\"0\" x2=\"18\" y2=\"120\" />\n",
       "  <line x1=\"24\" y1=\"0\" x2=\"24\" y2=\"120\" />\n",
       "  <line x1=\"30\" y1=\"0\" x2=\"30\" y2=\"120\" />\n",
       "  <line x1=\"36\" y1=\"0\" x2=\"36\" y2=\"120\" />\n",
       "  <line x1=\"42\" y1=\"0\" x2=\"42\" y2=\"120\" />\n",
       "  <line x1=\"48\" y1=\"0\" x2=\"48\" y2=\"120\" />\n",
       "  <line x1=\"54\" y1=\"0\" x2=\"54\" y2=\"120\" />\n",
       "  <line x1=\"60\" y1=\"0\" x2=\"60\" y2=\"120\" />\n",
       "  <line x1=\"66\" y1=\"0\" x2=\"66\" y2=\"120\" />\n",
       "  <line x1=\"72\" y1=\"0\" x2=\"72\" y2=\"120\" />\n",
       "  <line x1=\"78\" y1=\"0\" x2=\"78\" y2=\"120\" />\n",
       "  <line x1=\"84\" y1=\"0\" x2=\"84\" y2=\"120\" />\n",
       "  <line x1=\"90\" y1=\"0\" x2=\"90\" y2=\"120\" />\n",
       "  <line x1=\"96\" y1=\"0\" x2=\"96\" y2=\"120\" />\n",
       "  <line x1=\"102\" y1=\"0\" x2=\"102\" y2=\"120\" />\n",
       "  <line x1=\"108\" y1=\"0\" x2=\"108\" y2=\"120\" />\n",
       "  <line x1=\"114\" y1=\"0\" x2=\"114\" y2=\"120\" />\n",
       "  <line x1=\"120\" y1=\"0\" x2=\"120\" y2=\"120\" style=\"stroke-width:2\" />\n",
       "\n",
       "  <!-- Colored Rectangle -->\n",
       "  <polygon points=\"0.000000,0.000000 120.000000,0.000000 120.000000,120.000000 0.000000,120.000000\" style=\"fill:#ECB172A0;stroke-width:0\"/>\n",
       "\n",
       "  <!-- Text -->\n",
       "  <text x=\"60.000000\" y=\"140.000000\" font-size=\"1.0rem\" font-weight=\"100\" text-anchor=\"middle\" >5000</text>\n",
       "  <text x=\"140.000000\" y=\"60.000000\" font-size=\"1.0rem\" font-weight=\"100\" text-anchor=\"middle\" transform=\"rotate(-90,140.000000,60.000000)\">5000</text>\n",
       "</svg>\n",
       "</td>\n",
       "</tr>\n",
       "</table>"
      ],
      "text/plain": [
       "dask.array<sub, shape=(5000, 5000), dtype=float64, chunksize=(250, 250), chunktype=numpy.ndarray>"
      ]
     },
     "execution_count": 17,
     "metadata": {},
     "output_type": "execute_result"
    }
   ],
   "source": [
    "# Note if you run y.compute() the result is not saved ... \n",
    "# each request triggers computation..\n",
    "print(y.compute())\n",
    "print(y.compute())\n",
    "\n",
    "# Now lets pin it to memory ... and re-run\n",
    "y.persist()\n",
    "print(y.compute())"
   ]
  },
  {
   "cell_type": "code",
   "execution_count": null,
   "metadata": {},
   "outputs": [],
   "source": [
    "# Persist vs Compute https://distributed.dask.org/en/latest/memory.html\n",
    "# use compute when the return value is small and you want to feed result into other analyses.\n",
    "# use persist (similar to cache in spark) to trigger computation and pin results to memory.  \n",
    "# Follow actions build task graphs, but only up to this point as it will use the value calculated by persist."
   ]
  },
  {
   "cell_type": "markdown",
   "metadata": {},
   "source": [
    "## Simple  Pandas Example with our lending club data ...\n",
    "\n"
   ]
  },
  {
   "cell_type": "code",
   "execution_count": null,
   "metadata": {},
   "outputs": [],
   "source": [
    "dtype={'acc_now_delinq': 'float64',\n",
    "       'acc_open_past_24mths': 'float64',\n",
    "       'all_util': 'float64',\n",
    "       'avg_cur_bal': 'float64',\n",
    "       'chargeoff_within_12_mths': 'float64',\n",
    "       'collections_12_mths_ex_med': 'float64',\n",
    "       'delinq_2yrs': 'float64',\n",
    "       'delinq_amnt': 'float64',\n",
    "       'desc': 'object',\n",
    "       'fico_range_high': 'float64',\n",
    "       'fico_range_low': 'float64',\n",
    "       'funded_amnt': 'float64',\n",
    "       'funded_amnt_inv': 'float64',\n",
    "       'id': 'object',\n",
    "       'inq_fi': 'float64',\n",
    "       'inq_last_12m': 'float64',\n",
    "       'inq_last_6mths': 'float64',\n",
    "       'last_fico_range_high': 'float64',\n",
    "       'last_fico_range_low': 'float64',\n",
    "       'loan_amnt': 'float64',\n",
    "       'max_bal_bc': 'float64',\n",
    "       'mo_sin_old_rev_tl_op': 'float64',\n",
    "       'mo_sin_rcnt_rev_tl_op': 'float64',\n",
    "       'mo_sin_rcnt_tl': 'float64',\n",
    "       'mort_acc': 'float64',\n",
    "       'num_accts_ever_120_pd': 'float64',\n",
    "       'num_actv_bc_tl': 'float64',\n",
    "       'num_actv_rev_tl': 'float64',\n",
    "       'num_bc_sats': 'float64',\n",
    "       'num_bc_tl': 'float64',\n",
    "       'num_il_tl': 'float64',\n",
    "       'num_op_rev_tl': 'float64',\n",
    "       'num_rev_accts': 'float64',\n",
    "       'num_rev_tl_bal_gt_0': 'float64',\n",
    "       'num_sats': 'float64',\n",
    "       'num_tl_30dpd': 'float64',\n",
    "       'num_tl_90g_dpd_24m': 'float64',\n",
    "       'num_tl_op_past_12m': 'float64',\n",
    "       'open_acc': 'float64',\n",
    "       'open_acc_6m': 'float64',\n",
    "       'open_act_il': 'float64',\n",
    "       'open_il_12m': 'float64',\n",
    "       'open_il_24m': 'float64',\n",
    "       'open_rv_12m': 'float64',\n",
    "       'open_rv_24m': 'float64',\n",
    "       'policy_code': 'float64',\n",
    "       'pub_rec': 'float64',\n",
    "       'pub_rec_bankruptcies': 'float64',\n",
    "       'revol_bal': 'float64',\n",
    "       'tax_liens': 'float64',\n",
    "       'tot_coll_amt': 'float64',\n",
    "       'tot_cur_bal': 'float64',\n",
    "       'tot_hi_cred_lim': 'float64',\n",
    "       'total_acc': 'float64',\n",
    "       'total_bal_ex_mort': 'float64',\n",
    "       'total_bal_il': 'float64',\n",
    "       'total_bc_limit': 'float64',\n",
    "       'total_cu_tl': 'float64',\n",
    "       'total_il_high_credit_limit': 'float64',\n",
    "       'total_rev_hi_lim': 'float64'}"
   ]
  },
  {
   "cell_type": "code",
   "execution_count": null,
   "metadata": {
    "ExecuteTime": {
     "end_time": "2020-10-06T17:03:32.361061Z",
     "start_time": "2020-10-06T17:03:32.211459Z"
    }
   },
   "outputs": [],
   "source": [
    "# dummy data for demo...\n",
    "!cp ../Tabular/ldata2016.csv.gz ./\n",
    "!gunzip ./ldata2016.csv.gz\n",
    "\n",
    "# import dask\n",
    "import dask.dataframe as dd\n",
    "ddf = dd.read_csv(\"./dask-tutorial/ldata2016.csv\", blocksize=15e6,dtype=dtype) # , compression=\"gzip\")\n",
    "#\n",
    "#ddf = ddf.repartition(npartitions=5)\n",
    "ddf\n",
    "\n",
    "# Standard operations example\n",
    "filtered_df = ddf[ddf[\"loan_amnt\"] > 15000]\n",
    "answer = filtered_df.compute()\n",
    "#compare \n",
    "len(answer)\n",
    "len(ddf)\n",
    "\n",
    "\n",
    "print(ddf.columns)\n",
    "# ok, lets count NaNs ..\n",
    "ddf.isna().sum().compute()\n",
    "\n",
    "# well dask doesnt do well with NaNs,  let just do a few colums ..\n",
    "ddf_small = ddf[[ 'id', 'loan_amnt', 'funded_amnt','revol_bal','dti']]\n",
    "\n",
    "# Check NaNs \n",
    "ddf_small.isna().sum().compute()\n",
    "\n",
    "ddf_small.describe().compute()\n",
    "\n",
    "# correlation\n",
    "ddf.corr().compute()\n",
    "\n",
    "# Do one join.. cartesian ?\n",
    "merge(ddf_small, ddf_small,on='id')# [['loan_amnt', 'funded_amnt']]"
   ]
  }
 ],
 "metadata": {
  "kernelspec": {
   "display_name": "Python 3",
   "language": "python",
   "name": "python3"
  },
  "language_info": {
   "codemirror_mode": {
    "name": "ipython",
    "version": 3
   },
   "file_extension": ".py",
   "mimetype": "text/x-python",
   "name": "python",
   "nbconvert_exporter": "python",
   "pygments_lexer": "ipython3",
   "version": "3.7.4"
  },
  "toc": {
   "base_numbering": 1,
   "nav_menu": {},
   "number_sections": true,
   "sideBar": true,
   "skip_h1_title": false,
   "title_cell": "Table of Contents",
   "title_sidebar": "Contents",
   "toc_cell": false,
   "toc_position": {},
   "toc_section_display": true,
   "toc_window_display": false
  },
  "varInspector": {
   "cols": {
    "lenName": 16,
    "lenType": 16,
    "lenVar": 40
   },
   "kernels_config": {
    "python": {
     "delete_cmd_postfix": "",
     "delete_cmd_prefix": "del ",
     "library": "var_list.py",
     "varRefreshCmd": "print(var_dic_list())"
    },
    "r": {
     "delete_cmd_postfix": ") ",
     "delete_cmd_prefix": "rm(",
     "library": "var_list.r",
     "varRefreshCmd": "cat(var_dic_list()) "
    }
   },
   "types_to_exclude": [
    "module",
    "function",
    "builtin_function_or_method",
    "instance",
    "_Feature"
   ],
   "window_display": false
  }
 },
 "nbformat": 4,
 "nbformat_minor": 4
}
