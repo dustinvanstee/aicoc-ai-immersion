{
 "cells": [
  {
   "cell_type": "markdown",
   "metadata": {},
   "source": [
    "# Session Login info"
   ]
  },
  {
   "cell_type": "markdown",
   "metadata": {
    "ExecuteTime": {
     "end_time": "2020-05-03T22:16:45.389555Z",
     "start_time": "2020-05-03T22:16:45.384568Z"
    }
   },
   "source": [
    "# Installing Watson Community Edition CE\n",
    "\n",
    "https://developer.ibm.com/linuxonpower/deep-learning-powerai/releases/\n",
    "\n",
    "https://www.ibm.com/support/knowledgecenter/SS5SF7_1.7.0/navigation/wmlce_systemsetup.html\n",
    "\n",
    "https://www.ibm.com/support/knowledgecenter/SS5SF7_1.7.0/navigation/wmlce_install.html\n",
    "\n",
    "reference only:\n",
    "https://www.ibm.com/support/knowledgecenter/SS5SF7_1.7.0/navigation/wmlce_getstarted.htm\n"
   ]
  },
  {
   "cell_type": "markdown",
   "metadata": {},
   "source": [
    "# How to invoke python from command line\n",
    "\n",
    "sometimes invoking a python script in batch mode is the order of the day\n",
    "\n",
    "here's how you can take code and use an editor in the command line (such as gedit, or vi, sublime, notepad, vcode, etc) then run the script from the command line\n",
    "\n",
    "- launch a command line prompt (ssh into a machine ot even launch a terminal session from your laptop)\n",
    "- vi test.py\n",
    "- press i (to go into insert mode)\n",
    "- type the following code into the editor\n",
    "    - import numpy as np\n",
    "    - print(np.random.normal())\n",
    "- press 'ESC'\n",
    "- press :wq\n",
    "\n",
    "- from commandline:\n",
    "    - python test.py\n",
    "    \n",
    "    "
   ]
  },
  {
   "cell_type": "code",
   "execution_count": 1,
   "metadata": {
    "ExecuteTime": {
     "end_time": "2020-06-11T16:27:59.744916Z",
     "start_time": "2020-06-11T16:27:59.738248Z"
    }
   },
   "outputs": [],
   "source": [
    "#! notepad test.py  #on windows\n",
    "#! gedit test.py    #on linux"
   ]
  },
  {
   "cell_type": "code",
   "execution_count": 2,
   "metadata": {
    "ExecuteTime": {
     "end_time": "2020-06-11T16:28:02.246502Z",
     "start_time": "2020-06-11T16:28:02.240642Z"
    }
   },
   "outputs": [],
   "source": [
    "#! python test.py"
   ]
  },
  {
   "cell_type": "code",
   "execution_count": 3,
   "metadata": {
    "ExecuteTime": {
     "end_time": "2020-06-11T16:28:04.116148Z",
     "start_time": "2020-06-11T16:28:03.970685Z"
    }
   },
   "outputs": [
    {
     "data": {
      "text/plain": [
       "'3.0.3'"
      ]
     },
     "execution_count": 3,
     "metadata": {},
     "output_type": "execute_result"
    }
   ],
   "source": [
    "import matplotlib\n",
    "matplotlib.__version__"
   ]
  },
  {
   "cell_type": "markdown",
   "metadata": {
    "ExecuteTime": {
     "end_time": "2020-05-03T21:45:34.256871Z",
     "start_time": "2020-05-03T21:45:34.251885Z"
    }
   },
   "source": [
    "# Explore Python Tutorials: 20 minutes\n",
    "\n",
    "https://www.w3schools.com/python/\n",
    "\n",
    "these are very short, very quick interactive lessons to learn basic python operations\n",
    "\n",
    "Suggestions - play with some of these short interactive live python sessions to get familiar with python coding:\n",
    "\n",
    "\n",
    "| Recommended Exercises | Recommended Exercises |\n",
    "| --- | --- | \n",
    "| https://www.w3schools.com/python/ |  https://www.w3schools.com/python/python_variables.asp | \n",
    "| https://www.w3schools.com/python/python_datatypes.asp |  https://www.w3schools.com/python/python_numbers.asp |\n",
    "| https://www.w3schools.com/python/python_strings.asp | https://www.w3schools.com/python/python_operators.asp |\n",
    "| https://www.w3schools.com/python/python_lists.asp | https://www.w3schools.com/python/python_dictionaries.asp |\n",
    "| https://www.w3schools.com/python/python_conditions.asp | https://www.w3schools.com/python/python_for_loops.asp |\n",
    "| https://www.w3schools.com/python/python_functions.asp | https://www.w3schools.com/python/python_modules.asp |\n",
    "| https://www.w3schools.com/python/python_json.asp | https://www.w3schools.com/python/python_string_formatting.asp |\n",
    "| https://www.w3schools.com/python/python_file_handling.asp | https://www.w3schools.com/python/numpy_creating_arrays.asp |\n",
    "| https://www.w3schools.com/python/numpy_array_indexing.asp | https://www.w3schools.com/python/numpy_array_slicing.asp |\n",
    "| https://www.w3schools.com/python/numpy_array_search.asp | https://www.w3schools.com/python/numpy_array_filter.asp |\n",
    "\n",
    "\n"
   ]
  },
  {
   "attachments": {
    "image.png": {
     "image/png": "[encoded data removed]"
    }
   },
   "cell_type": "markdown",
   "metadata": {},
   "source": [
    "## Pandas data table representation: 10 minutes\n",
    "\n",
    "Pandas is one of the favorite libraries for data scientists.  It is used primarily for data engineering and preparation tasks.  If you are unfamiliar with Pandas, take a look through the link below to get a quick sense of the capabilities.  We will be using this library later on in the session.\n",
    "\n",
    "10 minutes to pandas  https://pandas.pydata.org/pandas-docs/stable/getting_started/10min.html\n",
    "\n",
    "\n",
    "![image.png](attachment:image.png)\n",
    "\n",
    "| Topics | Topics | Topics | Topics |\n",
    "| --- | --- | -- | -- |\n",
    "| Object Creation | Viewing Data |  Selection | Selection by Position |\n",
    "| Setting  | Missing Data | Stats | Apply |  Concat |\n",
    "\n"
   ]
  },
  {
   "cell_type": "markdown",
   "metadata": {},
   "source": [
    "# [Fairly] Quick Exercises\n",
    "\n",
    "Here we introduce some basic python exercises to get you warmed up.  If you can figure them out, don't worry we will walk through them during the session.  For selected exercises we have embedded hints.  This is not an exhaustive list, but mainly a tour to get you started with Python and getting used to the syntax."
   ]
  },
  {
   "cell_type": "markdown",
   "metadata": {
    "ExecuteTime": {
     "end_time": "2020-05-06T20:59:24.603121Z",
     "start_time": "2020-05-06T20:59:24.600102Z"
    }
   },
   "source": [
    "# Python Basics - Variables and Assignment\n",
    "* create a variable named x and assign it a floating point value 12.3, \n",
    "* create an integer named i and assign it a value of 10\n",
    "* create a string called myString and assign it a vlue of \"hello world\""
   ]
  },
  {
   "cell_type": "markdown",
   "metadata": {},
   "source": [
    " <div class=\"panel-group\" id=\"accordion-21\">\n",
    "  <div class=\"panel panel-default\">\n",
    "    <div class=\"panel-heading\">\n",
    "      <h4 class=\"panel-title\">\n",
    "        <a data-toggle=\"collapse\" data-parent=\"#accordion-21\" href=\"#collapse1-21\">\n",
    "        Hint 1</a>\n",
    "      </h4>\n",
    "    </div>\n",
    "    <div id=\"collapse1-21\" class=\"panel-collapse collapse\">\n",
    "      <div class=\"panel-body\">\n",
    "Type:<br>\n",
    "x = 12.3<br>\n",
    "i = 10<br>\n",
    "myString = \"hello world\"<br>\n",
    "print(x, i, myString)  #fix this cell!\n",
    "      </div>\n",
    "    </div>\n",
    "  </div>\n",
    " </div>"
   ]
  },
  {
   "cell_type": "code",
   "execution_count": 10,
   "metadata": {
    "ExecuteTime": {
     "end_time": "2020-06-11T16:31:23.426401Z",
     "start_time": "2020-06-11T16:31:23.420187Z"
    },
    "scrolled": true
   },
   "outputs": [
    {
     "name": "stdout",
     "output_type": "stream",
     "text": [
      "12.3 10 hello world\n"
     ]
    }
   ],
   "source": [
    "x = 12.3\n",
    "i = 10\n",
    "myString = \"hello world\"\n",
    "print(x, i, myString)  #fix this cell!"
   ]
  },
  {
   "cell_type": "markdown",
   "metadata": {},
   "source": [
    " <div class=\"panel-group\" id=\"accordion-22\">\n",
    "  <div class=\"panel panel-default\">\n",
    "    <div class=\"panel-heading\">\n",
    "      <h4 class=\"panel-title\">\n",
    "        <a data-toggle=\"collapse\" data-parent=\"#accordion-22\" href=\"#collapse1-22\">\n",
    "        Hint 1</a>\n",
    "      </h4>\n",
    "    </div>\n",
    "    <div id=\"collapse1-22\" class=\"panel-collapse collapse\">\n",
    "      <div class=\"panel-body\">\n",
    "Type:<br>\n",
    "x = 12.3<br>\n",
    "      </div>\n",
    "    </div>\n",
    "  </div>\n",
    " </div>"
   ]
  },
  {
   "cell_type": "code",
   "execution_count": 11,
   "metadata": {
    "ExecuteTime": {
     "end_time": "2020-06-11T16:31:32.458118Z",
     "start_time": "2020-06-11T16:31:32.454479Z"
    }
   },
   "outputs": [],
   "source": [
    "# print the variable x with a text descriptor as follows\n",
    "x = 12.3"
   ]
  },
  {
   "cell_type": "code",
   "execution_count": 12,
   "metadata": {
    "ExecuteTime": {
     "end_time": "2020-06-11T16:31:33.028001Z",
     "start_time": "2020-06-11T16:31:33.023491Z"
    }
   },
   "outputs": [
    {
     "name": "stdout",
     "output_type": "stream",
     "text": [
      "x =  12.3\n"
     ]
    }
   ],
   "source": [
    "print (\"x = \", x)    #fix this cell - recall we want to create a variable called x not y"
   ]
  },
  {
   "cell_type": "code",
   "execution_count": 13,
   "metadata": {
    "ExecuteTime": {
     "end_time": "2020-06-11T16:31:34.692625Z",
     "start_time": "2020-06-11T16:31:34.689488Z"
    }
   },
   "outputs": [],
   "source": [
    "# create a string called myString with a format statement to combine numbers and text as follows\n",
    "# hello world, the value of i is 10 and the vlaue of x is 12.3\n",
    "# hint: fill in the following template with the appropriate text and values, i, x)\n",
    "#print(\"#, the value of i is # and the value of x is #\".format(#, #, #))"
   ]
  },
  {
   "cell_type": "code",
   "execution_count": 15,
   "metadata": {
    "ExecuteTime": {
     "end_time": "2020-06-11T16:31:41.939454Z",
     "start_time": "2020-06-11T16:31:41.932961Z"
    }
   },
   "outputs": [
    {
     "name": "stdout",
     "output_type": "stream",
     "text": [
      "hello world, the value of i is 10 and the value of x is 12.3\n"
     ]
    }
   ],
   "source": [
    "print(\"{}, the value of i is {} and the value of x is {}\".format(myString, i, x)) # fix this cell\n"
   ]
  },
  {
   "cell_type": "markdown",
   "metadata": {
    "ExecuteTime": {
     "end_time": "2020-05-06T20:59:24.640994Z",
     "start_time": "2020-05-06T20:59:24.637005Z"
    }
   },
   "source": [
    "# Python Basics - Lists\n",
    "* create a list called myList containing items 1,2,3,4"
   ]
  },
  {
   "cell_type": "markdown",
   "metadata": {},
   "source": [
    " <div class=\"panel-group\" id=\"accordion-33\">\n",
    "  <div class=\"panel panel-default\">\n",
    "    <div class=\"panel-heading\">\n",
    "      <h4 class=\"panel-title\">\n",
    "        <a data-toggle=\"collapse\" data-parent=\"#accordion-33\" href=\"#collapse1-33\">\n",
    "        Hint 1</a>\n",
    "      </h4>\n",
    "    </div>\n",
    "    <div id=\"collapse1-33\" class=\"panel-collapse collapse\">\n",
    "      <div class=\"panel-body\">\n",
    "Type:<br>\n",
    "myList = [1,2,3,4]<br>\n",
    "<br>\n",
    "Lists require square brackets, tuples require parentheses\n",
    "      </div>\n",
    "    </div>\n",
    "  </div>\n",
    " </div>"
   ]
  },
  {
   "cell_type": "code",
   "execution_count": 1,
   "metadata": {
    "ExecuteTime": {
     "end_time": "2020-06-11T16:32:52.368489Z",
     "start_time": "2020-06-11T16:32:52.358052Z"
    }
   },
   "outputs": [],
   "source": [
    "myList = [1,2,3,4] # this is NOT a list - it is a tuple in current form. This will cause issue later - fix this. Make it a list"
   ]
  },
  {
   "cell_type": "markdown",
   "metadata": {
    "ExecuteTime": {
     "end_time": "2020-05-06T20:59:24.652960Z",
     "start_time": "2020-05-06T20:59:24.647974Z"
    }
   },
   "source": [
    "## Python Basics - List Indexing\n",
    "\n",
    "* print element [2] of myList above\n",
    "* assign the value of 12 to the last element of myList\n",
    "* using slicing or indexing to access the last two elements of myList\n"
   ]
  },
  {
   "cell_type": "markdown",
   "metadata": {},
   "source": [
    " <div class=\"panel-group\" id=\"accordion-44\">\n",
    "  <div class=\"panel panel-default\">\n",
    "    <div class=\"panel-heading\">\n",
    "      <h4 class=\"panel-title\">\n",
    "        <a data-toggle=\"collapse\" data-parent=\"#accordion-44\" href=\"#collapse1-44\">\n",
    "        Hint</a>\n",
    "      </h4>\n",
    "    </div>\n",
    "    <div id=\"collapse1-44\" class=\"panel-collapse collapse\">\n",
    "      <div class=\"panel-body\">\n",
    "Type:<br>\n",
    "<br>print(myList[2])   ##  prints the third element of myList <br>\n",
    "<br>myList[-1] = 12    ## assigns 12 to the last element of a list.  The -1 is a special index that tell python to grab last element<br>\n",
    "<br>print(myList[-2:4]) ## prints elements at index 2,3, not inclusive of 4<br>      \n",
    "        </div>\n",
    "    </div>\n",
    "  </div>\n",
    " </div>"
   ]
  },
  {
   "cell_type": "code",
   "execution_count": 4,
   "metadata": {
    "ExecuteTime": {
     "end_time": "2020-06-11T16:33:23.938766Z",
     "start_time": "2020-06-11T16:33:23.932910Z"
    }
   },
   "outputs": [
    {
     "name": "stdout",
     "output_type": "stream",
     "text": [
      "3\n",
      "[1, 2, 3, 12]\n"
     ]
    }
   ],
   "source": [
    "print(myList[2])\n",
    "myList[-1] = 12\n",
    "print(myList)"
   ]
  },
  {
   "cell_type": "markdown",
   "metadata": {
    "ExecuteTime": {
     "end_time": "2020-05-06T20:59:24.664930Z",
     "start_time": "2020-05-06T20:59:24.658946Z"
    }
   },
   "source": [
    "# Python Basics - Dictionaries\n",
    "Dictionaries are handy for storing key/value pairs, see the examples below.\n",
    "* create a dictionary called myDict containing the following key, value  pairs\n",
    "* 'xmax': 3\n",
    "* 'xmin': 4\n",
    "* print the value of the dictionary 'xmax'\n",
    "* assign a new value 6 to the entry 'xmax' and print it"
   ]
  },
  {
   "cell_type": "markdown",
   "metadata": {
    "ExecuteTime": {
     "end_time": "2020-06-11T16:34:45.828730Z",
     "start_time": "2020-06-11T16:34:45.814155Z"
    }
   },
   "source": [
    " <div class=\"panel-group\" id=\"accordion-45\">\n",
    "  <div class=\"panel panel-default\">\n",
    "    <div class=\"panel-heading\">\n",
    "      <h4 class=\"panel-title\">\n",
    "        <a data-toggle=\"collapse\" data-parent=\"#accordion-45\" href=\"#collapse1-45\">\n",
    "        Hint</a>\n",
    "      </h4>\n",
    "    </div>\n",
    "    <div id=\"collapse1-45\" class=\"panel-collapse collapse\">\n",
    "      <div class=\"panel-body\">\n",
    "Type:<br>\n",
    "<br>myDict = {'xmax':3, 'xmin':4}<br>      \n",
    "        </div>\n",
    "    </div>\n",
    "  </div>\n",
    " </div>"
   ]
  },
  {
   "cell_type": "code",
   "execution_count": 11,
   "metadata": {
    "ExecuteTime": {
     "end_time": "2020-06-11T16:37:25.692514Z",
     "start_time": "2020-06-11T16:37:25.682377Z"
    }
   },
   "outputs": [
    {
     "name": "stdout",
     "output_type": "stream",
     "text": [
      "3\n",
      "6\n"
     ]
    }
   ],
   "source": [
    "myDict = {'xmax':3, 'xmin':4}  #fix this cell\n",
    "print(myDict['xmax'])\n",
    "myDict['xmax'] = 6\n",
    "print(myDict['xmax'])"
   ]
  },
  {
   "cell_type": "markdown",
   "metadata": {
    "ExecuteTime": {
     "end_time": "2020-05-06T21:03:06.385876Z",
     "start_time": "2020-05-06T21:03:06.382882Z"
    }
   },
   "source": [
    "## Python Basics - Magics\n",
    "*  use jupyter magics to read the list of files in the current folder\n",
    "* ! dir   #windows\n",
    "* ! ls    # linux"
   ]
  },
  {
   "cell_type": "code",
   "execution_count": 12,
   "metadata": {
    "ExecuteTime": {
     "end_time": "2020-06-11T16:37:31.325979Z",
     "start_time": "2020-06-11T16:37:31.167741Z"
    }
   },
   "outputs": [
    {
     "name": "stdout",
     "output_type": "stream",
     "text": [
      "00Demo_Churn_Outlier4\\ immersion-Copy1.ipynb\r\n",
      "00Demo_Churn_Outlier4\\ immersion.ipynb\r\n",
      "00Demo_Churn_Outlier4\\ SOLUTION.ipynb\r\n",
      "01Demo_Churn_Outlier4\\ immersion.ipynb\r\n",
      "02Demo_Churn_Outlier4\\ immersion.ipynb\r\n",
      "churn_encoded_numeric.csv\r\n",
      "churnlab_utils.py\r\n",
      "README.md\r\n",
      "touch.txt\r\n",
      "WA_Fn-UseC_-Telco-Customer-Churn.csv\r\n",
      "WA_Fn-UseC_-Telco-Customer-Churn_nans.csv\r\n",
      "WMLCE-Git-Jupyter\\ Lab\\ Guide.docx\r\n"
     ]
    }
   ],
   "source": [
    "!dir   #this will error on linux, fix it"
   ]
  },
  {
   "cell_type": "markdown",
   "metadata": {
    "ExecuteTime": {
     "end_time": "2020-05-06T20:59:24.698843Z",
     "start_time": "2020-05-06T20:59:24.696844Z"
    }
   },
   "source": [
    "## Python Basics - Numpy Arrays\n",
    "Numpy is the numerical library written in c that should be used for any task requiring lots of computation.  \n",
    "* create two random numpy arrays of dimension 3,2  = call one array x, the other y, add x & y and print the result"
   ]
  },
  {
   "cell_type": "markdown",
   "metadata": {},
   "source": [
    " <div class=\"panel-group\" id=\"accordion-46\">\n",
    "  <div class=\"panel panel-default\">\n",
    "    <div class=\"panel-heading\">\n",
    "      <h4 class=\"panel-title\">\n",
    "        <a data-toggle=\"collapse\" data-parent=\"#accordion-46\" href=\"#collapse1-46\">\n",
    "        Hint</a>\n",
    "      </h4>\n",
    "    </div>\n",
    "    <div id=\"collapse1-46\" class=\"panel-collapse collapse\">\n",
    "      <div class=\"panel-body\">\n",
    "Type:<br>\n",
    "<br>print(x+y) <br>      \n",
    "        </div>\n",
    "    </div>\n",
    "  </div>\n",
    " </div>"
   ]
  },
  {
   "cell_type": "code",
   "execution_count": 15,
   "metadata": {
    "ExecuteTime": {
     "end_time": "2020-06-11T16:39:19.271669Z",
     "start_time": "2020-06-11T16:39:19.261792Z"
    }
   },
   "outputs": [
    {
     "name": "stdout",
     "output_type": "stream",
     "text": [
      "[[1.43140317 0.57939396]\n",
      " [0.53418173 1.00811404]\n",
      " [1.33574712 1.01250904]]\n"
     ]
    }
   ],
   "source": [
    "import numpy as np   #this cell is broken - fix it\n",
    "x = np.random.rand(3,2)\n",
    "y = np.random.rand(3,2)\n",
    "print(x+y) "
   ]
  },
  {
   "cell_type": "markdown",
   "metadata": {
    "ExecuteTime": {
     "end_time": "2020-05-06T20:59:24.711812Z",
     "start_time": "2020-05-06T20:59:24.708812Z"
    }
   },
   "source": [
    "# Python Basics - Numpy Matrix Multiply \n",
    "* matrix multiply two arrays ... a 3x2 time a 2x3 with the following names and values<br>\n",
    "<code>\n",
    "a = [[1,2],\n",
    "      [3,2],\n",
    "      [4,1]]\n",
    " b = [[1,2,3],\n",
    "      [3,2,1]]\n",
    "</code>\n",
    "Multiply these two arrays to get a 2 x 2 array.  (The order of a, b is important)"
   ]
  },
  {
   "cell_type": "markdown",
   "metadata": {},
   "source": [
    " <div class=\"panel-group\" id=\"accordion-55\">\n",
    "  <div class=\"panel panel-default\">\n",
    "    <div class=\"panel-heading\">\n",
    "      <h4 class=\"panel-title\">\n",
    "        <a data-toggle=\"collapse\" data-parent=\"#accordion-55\" href=\"#collapse1-55\">\n",
    "        Hint</a>\n",
    "      </h4>\n",
    "    </div>\n",
    "    <div id=\"collapse1-55\" class=\"panel-collapse collapse\">\n",
    "      <div class=\"panel-body\">\n",
    "Type:<br>\n",
    "<br>b@a   ##  method 1 <br>\n",
    "<br>b.dot(a)    ## method 2<br>\n",
    "<br>np.matmul(b,a) ## method 3<br>      \n",
    "        </div>\n",
    "    </div>\n",
    "  </div>\n",
    " </div>"
   ]
  },
  {
   "cell_type": "code",
   "execution_count": 54,
   "metadata": {
    "ExecuteTime": {
     "end_time": "2020-06-11T18:05:38.016314Z",
     "start_time": "2020-06-11T18:05:38.004121Z"
    }
   },
   "outputs": [
    {
     "name": "stdout",
     "output_type": "stream",
     "text": [
      "[[19  9]\n",
      " [13 11]]\n",
      "the answer should be \n",
      " [[19, 9], [13, 11]]\n"
     ]
    }
   ],
   "source": [
    "a = np.array([[1,2],[3,2], [4,1]]) # this cell is broken fix it\n",
    "b = np.array([[1,2,3],[3,2,1]])\n",
    "#compute b.dot(a)\n",
    "print(b.dot(a))\n",
    "\n",
    "print(\"the answer should be \\n\", [[19,  9],[13, 11]]) "
   ]
  },
  {
   "cell_type": "markdown",
   "metadata": {
    "ExecuteTime": {
     "end_time": "2020-05-06T20:59:24.724769Z",
     "start_time": "2020-05-06T20:59:24.720792Z"
    }
   },
   "source": [
    "## Python Basics - Pandas\n",
    "* create a pandas dataframe called my_df, and read with the contents WA_Fn-UseC_-Telco-Customer-Churn_nans.csv \n",
    "* and display the first 5 rows of the dataframe"
   ]
  },
  {
   "cell_type": "markdown",
   "metadata": {},
   "source": [
    " <div class=\"panel-group\" id=\"accordion-56\">\n",
    "  <div class=\"panel panel-default\">\n",
    "    <div class=\"panel-heading\">\n",
    "      <h4 class=\"panel-title\">\n",
    "        <a data-toggle=\"collapse\" data-parent=\"#accordion-56\" href=\"#collapse1-56\">\n",
    "        Hint</a>\n",
    "      </h4>\n",
    "    </div>\n",
    "    <div id=\"collapse1-56\" class=\"panel-collapse collapse\">\n",
    "      <div class=\"panel-body\">\n",
    "Type:<br>\n",
    "<br>my_df.head()<br>      \n",
    "        </div>\n",
    "    </div>\n",
    "  </div>\n",
    " </div>"
   ]
  },
  {
   "cell_type": "code",
   "execution_count": 55,
   "metadata": {
    "ExecuteTime": {
     "end_time": "2020-06-11T18:05:39.128001Z",
     "start_time": "2020-06-11T18:05:39.071735Z"
    }
   },
   "outputs": [
    {
     "data": {
      "text/html": [
       "<div>\n",
       "<style scoped>\n",
       "    .dataframe tbody tr th:only-of-type {\n",
       "        vertical-align: middle;\n",
       "    }\n",
       "\n",
       "    .dataframe tbody tr th {\n",
       "        vertical-align: top;\n",
       "    }\n",
       "\n",
       "    .dataframe thead th {\n",
       "        text-align: right;\n",
       "    }\n",
       "</style>\n",
       "<table border=\"1\" class=\"dataframe\">\n",
       "  <thead>\n",
       "    <tr style=\"text-align: right;\">\n",
       "      <th></th>\n",
       "      <th>customerID</th>\n",
       "      <th>gender</th>\n",
       "      <th>SeniorCitizen</th>\n",
       "      <th>Partner</th>\n",
       "      <th>Dependents</th>\n",
       "      <th>tenure</th>\n",
       "      <th>PhoneService</th>\n",
       "      <th>MultipleLines</th>\n",
       "      <th>InternetService</th>\n",
       "      <th>OnlineSecurity</th>\n",
       "      <th>...</th>\n",
       "      <th>DeviceProtection</th>\n",
       "      <th>TechSupport</th>\n",
       "      <th>StreamingTV</th>\n",
       "      <th>StreamingMovies</th>\n",
       "      <th>Contract</th>\n",
       "      <th>PaperlessBilling</th>\n",
       "      <th>PaymentMethod</th>\n",
       "      <th>MonthlyCharges</th>\n",
       "      <th>TotalCharges</th>\n",
       "      <th>Churn</th>\n",
       "    </tr>\n",
       "  </thead>\n",
       "  <tbody>\n",
       "    <tr>\n",
       "      <th>0</th>\n",
       "      <td>7590-VHVEG</td>\n",
       "      <td>Female</td>\n",
       "      <td>0</td>\n",
       "      <td>Yes</td>\n",
       "      <td>No</td>\n",
       "      <td>1.0</td>\n",
       "      <td>No</td>\n",
       "      <td>No phone service</td>\n",
       "      <td>DSL</td>\n",
       "      <td>No</td>\n",
       "      <td>...</td>\n",
       "      <td>No</td>\n",
       "      <td>No</td>\n",
       "      <td>No</td>\n",
       "      <td>No</td>\n",
       "      <td>Month-to-month</td>\n",
       "      <td>Yes</td>\n",
       "      <td>Electronic check</td>\n",
       "      <td>29.85</td>\n",
       "      <td>29.85</td>\n",
       "      <td>No</td>\n",
       "    </tr>\n",
       "    <tr>\n",
       "      <th>1</th>\n",
       "      <td>5575-GNVDE</td>\n",
       "      <td>Male</td>\n",
       "      <td>0</td>\n",
       "      <td>No</td>\n",
       "      <td>No</td>\n",
       "      <td>34.0</td>\n",
       "      <td>Yes</td>\n",
       "      <td>No</td>\n",
       "      <td>DSL</td>\n",
       "      <td>Yes</td>\n",
       "      <td>...</td>\n",
       "      <td>Yes</td>\n",
       "      <td>No</td>\n",
       "      <td>No</td>\n",
       "      <td>No</td>\n",
       "      <td>One year</td>\n",
       "      <td>No</td>\n",
       "      <td>Mailed check</td>\n",
       "      <td>56.95</td>\n",
       "      <td>1889.5</td>\n",
       "      <td>No</td>\n",
       "    </tr>\n",
       "    <tr>\n",
       "      <th>2</th>\n",
       "      <td>3668-QPYBK</td>\n",
       "      <td>Male</td>\n",
       "      <td>0</td>\n",
       "      <td>No</td>\n",
       "      <td>No</td>\n",
       "      <td>2.0</td>\n",
       "      <td>Yes</td>\n",
       "      <td>No</td>\n",
       "      <td>DSL</td>\n",
       "      <td>Yes</td>\n",
       "      <td>...</td>\n",
       "      <td>No</td>\n",
       "      <td>No</td>\n",
       "      <td>No</td>\n",
       "      <td>No</td>\n",
       "      <td>Month-to-month</td>\n",
       "      <td>Yes</td>\n",
       "      <td>Mailed check</td>\n",
       "      <td>53.85</td>\n",
       "      <td>108.15</td>\n",
       "      <td>Yes</td>\n",
       "    </tr>\n",
       "    <tr>\n",
       "      <th>3</th>\n",
       "      <td>7795-CFOCW</td>\n",
       "      <td>Male</td>\n",
       "      <td>0</td>\n",
       "      <td>No</td>\n",
       "      <td>No</td>\n",
       "      <td>45.0</td>\n",
       "      <td>No</td>\n",
       "      <td>No phone service</td>\n",
       "      <td>DSL</td>\n",
       "      <td>Yes</td>\n",
       "      <td>...</td>\n",
       "      <td>Yes</td>\n",
       "      <td>Yes</td>\n",
       "      <td>No</td>\n",
       "      <td>No</td>\n",
       "      <td>One year</td>\n",
       "      <td>No</td>\n",
       "      <td>Bank transfer (automatic)</td>\n",
       "      <td>42.30</td>\n",
       "      <td>1840.75</td>\n",
       "      <td>No</td>\n",
       "    </tr>\n",
       "    <tr>\n",
       "      <th>4</th>\n",
       "      <td>9237-HQITU</td>\n",
       "      <td>Female</td>\n",
       "      <td>0</td>\n",
       "      <td>No</td>\n",
       "      <td>No</td>\n",
       "      <td>2.0</td>\n",
       "      <td>Yes</td>\n",
       "      <td>No</td>\n",
       "      <td>Fiber optic</td>\n",
       "      <td>No</td>\n",
       "      <td>...</td>\n",
       "      <td>No</td>\n",
       "      <td>No</td>\n",
       "      <td>No</td>\n",
       "      <td>No</td>\n",
       "      <td>Month-to-month</td>\n",
       "      <td>Yes</td>\n",
       "      <td>Electronic check</td>\n",
       "      <td>70.70</td>\n",
       "      <td>151.65</td>\n",
       "      <td>Yes</td>\n",
       "    </tr>\n",
       "  </tbody>\n",
       "</table>\n",
       "<p>5 rows × 21 columns</p>\n",
       "</div>"
      ],
      "text/plain": [
       "   customerID  gender  SeniorCitizen Partner Dependents  tenure PhoneService  \\\n",
       "0  7590-VHVEG  Female              0     Yes         No     1.0           No   \n",
       "1  5575-GNVDE    Male              0      No         No    34.0          Yes   \n",
       "2  3668-QPYBK    Male              0      No         No     2.0          Yes   \n",
       "3  7795-CFOCW    Male              0      No         No    45.0           No   \n",
       "4  9237-HQITU  Female              0      No         No     2.0          Yes   \n",
       "\n",
       "      MultipleLines InternetService OnlineSecurity  ... DeviceProtection  \\\n",
       "0  No phone service             DSL             No  ...               No   \n",
       "1                No             DSL            Yes  ...              Yes   \n",
       "2                No             DSL            Yes  ...               No   \n",
       "3  No phone service             DSL            Yes  ...              Yes   \n",
       "4                No     Fiber optic             No  ...               No   \n",
       "\n",
       "  TechSupport StreamingTV StreamingMovies        Contract PaperlessBilling  \\\n",
       "0          No          No              No  Month-to-month              Yes   \n",
       "1          No          No              No        One year               No   \n",
       "2          No          No              No  Month-to-month              Yes   \n",
       "3         Yes          No              No        One year               No   \n",
       "4          No          No              No  Month-to-month              Yes   \n",
       "\n",
       "               PaymentMethod MonthlyCharges  TotalCharges Churn  \n",
       "0           Electronic check          29.85         29.85    No  \n",
       "1               Mailed check          56.95        1889.5    No  \n",
       "2               Mailed check          53.85        108.15   Yes  \n",
       "3  Bank transfer (automatic)          42.30       1840.75    No  \n",
       "4           Electronic check          70.70        151.65   Yes  \n",
       "\n",
       "[5 rows x 21 columns]"
      ]
     },
     "execution_count": 55,
     "metadata": {},
     "output_type": "execute_result"
    }
   ],
   "source": [
    "import pandas as pd  #this cell is broken fix it\n",
    "my_df = pd.read_csv('WA_Fn-UseC_-Telco-Customer-Churn_nans.csv')\n",
    "my_df.head()"
   ]
  },
  {
   "cell_type": "markdown",
   "metadata": {
    "ExecuteTime": {
     "end_time": "2020-05-06T20:59:24.777628Z",
     "start_time": "2020-05-06T20:59:24.774636Z"
    }
   },
   "source": [
    "## Python Basics - Pandas NaNs\n",
    "* determine which if any columns have nans in them"
   ]
  },
  {
   "cell_type": "markdown",
   "metadata": {},
   "source": [
    " <div class=\"panel-group\" id=\"accordion-65\">\n",
    "  <div class=\"panel panel-default\">\n",
    "    <div class=\"panel-heading\">\n",
    "      <h4 class=\"panel-title\">\n",
    "        <a data-toggle=\"collapse\" data-parent=\"#accordion-65\" href=\"#collapse1-65\">\n",
    "        Hint</a>\n",
    "      </h4>\n",
    "    </div>\n",
    "    <div id=\"collapse1-65\" class=\"panel-collapse collapse\">\n",
    "      <div class=\"panel-body\">\n",
    "Type:<br>\n",
    "<br>print(cols)<br>\n",
    "        </div>\n",
    "    </div>\n",
    "  </div>\n",
    " </div>"
   ]
  },
  {
   "cell_type": "code",
   "execution_count": 71,
   "metadata": {
    "ExecuteTime": {
     "end_time": "2020-06-11T18:10:49.075804Z",
     "start_time": "2020-06-11T18:10:49.057443Z"
    }
   },
   "outputs": [
    {
     "name": "stdout",
     "output_type": "stream",
     "text": [
      "customerID          False\n",
      "gender              False\n",
      "SeniorCitizen       False\n",
      "Partner             False\n",
      "Dependents          False\n",
      "tenure               True\n",
      "PhoneService        False\n",
      "MultipleLines       False\n",
      "InternetService     False\n",
      "OnlineSecurity      False\n",
      "OnlineBackup        False\n",
      "DeviceProtection    False\n",
      "TechSupport         False\n",
      "StreamingTV         False\n",
      "StreamingMovies     False\n",
      "Contract            False\n",
      "PaperlessBilling    False\n",
      "PaymentMethod       False\n",
      "MonthlyCharges      False\n",
      "TotalCharges        False\n",
      "Churn               False\n",
      "dtype: bool\n"
     ]
    }
   ],
   "source": [
    "cols = my_df.isnull().sum() > 0  # this cell is broken, fix it\n",
    "print(cols)"
   ]
  },
  {
   "cell_type": "code",
   "execution_count": null,
   "metadata": {
    "ExecuteTime": {
     "end_time": "2020-05-06T20:59:24.793585Z",
     "start_time": "2020-05-06T20:59:24.790592Z"
    }
   },
   "outputs": [],
   "source": [
    "# print the names of the columns that have nans"
   ]
  },
  {
   "attachments": {},
   "cell_type": "markdown",
   "metadata": {},
   "source": [
    " <div class=\"panel-group\" id=\"accordion-66\">\n",
    "  <div class=\"panel panel-default\">\n",
    "    <div class=\"panel-heading\">\n",
    "      <h4 class=\"panel-title\">\n",
    "        <a data-toggle=\"collapse\" data-parent=\"#accordion-66\" href=\"#collapse1-66\">\n",
    "        Hint</a>\n",
    "      </h4>\n",
    "    </div>\n",
    "    <div id=\"collapse1-66\" class=\"panel-collapse collapse\">\n",
    "      <div class=\"panel-body\">         \n",
    "Type:<br>\n",
    "<br>cols = (my_df.isnull().sum()>0).tolist()<br>\n",
    "my_df.columns[cols].tolist()<br>\n",
    "        </div>\n",
    "    </div>\n",
    "  </div>\n",
    " </div>"
   ]
  },
  {
   "cell_type": "code",
   "execution_count": 73,
   "metadata": {
    "ExecuteTime": {
     "end_time": "2020-06-11T18:16:27.788775Z",
     "start_time": "2020-06-11T18:16:27.769667Z"
    }
   },
   "outputs": [
    {
     "data": {
      "text/plain": [
       "['tenure']"
      ]
     },
     "execution_count": 73,
     "metadata": {},
     "output_type": "execute_result"
    }
   ],
   "source": [
    "cols = (my_df.isnull().sum()>0).tolist()  # this cell is broken, fix it\n",
    "my_df.columns[cols].tolist()"
   ]
  },
  {
   "attachments": {
    "image.png": {
     "image/png": "[encoded data removed]"
    }
   },
   "cell_type": "markdown",
   "metadata": {},
   "source": [
    "\n",
    "<div class=\"panel-group\" id=\"accordion-77\">\n",
    "  <div class=\"panel panel-default\">\n",
    "    <div class=\"panel-heading\">\n",
    "      <h4 class=\"panel-title\">\n",
    "        <a data-toggle=\"collapse\" data-parent=\"#accordion-77\" href=\"#collapse1-77\">\n",
    "        Hint</a>\n",
    "      </h4>\n",
    "    </div>\n",
    "    <div id=\"collapse1-77\" class=\"panel-collapse collapse\">\n",
    "      <div class=\"panel-body\">\n",
    "Type:<br>\n",
    "<br>my_df = my_df.fillna(0)\n",
    "<br>my_df.isnull().sum()  <br>\n",
    "<br> Google is your friend!         \n",
    "    </div>\n",
    "  </div>\n",
    " </div>\n",
    "\n",
    "![image.png](attachment:image.png)"
   ]
  },
  {
   "cell_type": "code",
   "execution_count": 74,
   "metadata": {
    "ExecuteTime": {
     "end_time": "2020-06-11T18:28:21.185908Z",
     "start_time": "2020-06-11T18:28:21.155503Z"
    }
   },
   "outputs": [
    {
     "data": {
      "text/plain": [
       "customerID          0\n",
       "gender              0\n",
       "SeniorCitizen       0\n",
       "Partner             0\n",
       "Dependents          0\n",
       "tenure              0\n",
       "PhoneService        0\n",
       "MultipleLines       0\n",
       "InternetService     0\n",
       "OnlineSecurity      0\n",
       "OnlineBackup        0\n",
       "DeviceProtection    0\n",
       "TechSupport         0\n",
       "StreamingTV         0\n",
       "StreamingMovies     0\n",
       "Contract            0\n",
       "PaperlessBilling    0\n",
       "PaymentMethod       0\n",
       "MonthlyCharges      0\n",
       "TotalCharges        0\n",
       "Churn               0\n",
       "dtype: int64"
      ]
     },
     "execution_count": 74,
     "metadata": {},
     "output_type": "execute_result"
    }
   ],
   "source": [
    "# replace the nans with 0   , also the cell is broken, fix it\n",
    "my_df = my_df.fillna(0)  \n",
    "my_df.isnull().sum()"
   ]
  },
  {
   "cell_type": "markdown",
   "metadata": {},
   "source": [
    " <div class=\"panel-group\" id=\"accordion-88\">\n",
    "  <div class=\"panel panel-default\">\n",
    "    <div class=\"panel-heading\">\n",
    "      <h4 class=\"panel-title\">\n",
    "        <a data-toggle=\"collapse\" data-parent=\"#accordion-88\" href=\"#collapse1-88\">\n",
    "        Hint</a>\n",
    "      </h4>\n",
    "    </div>\n",
    "    <div id=\"collapse1-88\" class=\"panel-collapse collapse\">\n",
    "      <div class=\"panel-body\">\n",
    "Heres a trick ... TYPE:<br>\n",
    "<br>my_df.des + TAB ... see if you can use autocomplete to figure it out!\n",
    "        </div>\n",
    "    </div>\n",
    "  </div>\n",
    " </div>\n",
    "\n"
   ]
  },
  {
   "cell_type": "code",
   "execution_count": 25,
   "metadata": {
    "ExecuteTime": {
     "end_time": "2020-06-11T16:45:21.342560Z",
     "start_time": "2020-06-11T16:45:21.314511Z"
    }
   },
   "outputs": [
    {
     "data": {
      "text/html": [
       "<div>\n",
       "<style scoped>\n",
       "    .dataframe tbody tr th:only-of-type {\n",
       "        vertical-align: middle;\n",
       "    }\n",
       "\n",
       "    .dataframe tbody tr th {\n",
       "        vertical-align: top;\n",
       "    }\n",
       "\n",
       "    .dataframe thead th {\n",
       "        text-align: right;\n",
       "    }\n",
       "</style>\n",
       "<table border=\"1\" class=\"dataframe\">\n",
       "  <thead>\n",
       "    <tr style=\"text-align: right;\">\n",
       "      <th></th>\n",
       "      <th>SeniorCitizen</th>\n",
       "      <th>tenure</th>\n",
       "      <th>MonthlyCharges</th>\n",
       "    </tr>\n",
       "  </thead>\n",
       "  <tbody>\n",
       "    <tr>\n",
       "      <th>count</th>\n",
       "      <td>7043.000000</td>\n",
       "      <td>7043.000000</td>\n",
       "      <td>7043.000000</td>\n",
       "    </tr>\n",
       "    <tr>\n",
       "      <th>mean</th>\n",
       "      <td>0.162147</td>\n",
       "      <td>32.371149</td>\n",
       "      <td>64.761692</td>\n",
       "    </tr>\n",
       "    <tr>\n",
       "      <th>std</th>\n",
       "      <td>0.368612</td>\n",
       "      <td>24.559481</td>\n",
       "      <td>30.090047</td>\n",
       "    </tr>\n",
       "    <tr>\n",
       "      <th>min</th>\n",
       "      <td>0.000000</td>\n",
       "      <td>0.000000</td>\n",
       "      <td>18.250000</td>\n",
       "    </tr>\n",
       "    <tr>\n",
       "      <th>25%</th>\n",
       "      <td>0.000000</td>\n",
       "      <td>9.000000</td>\n",
       "      <td>35.500000</td>\n",
       "    </tr>\n",
       "    <tr>\n",
       "      <th>50%</th>\n",
       "      <td>0.000000</td>\n",
       "      <td>29.000000</td>\n",
       "      <td>70.350000</td>\n",
       "    </tr>\n",
       "    <tr>\n",
       "      <th>75%</th>\n",
       "      <td>0.000000</td>\n",
       "      <td>55.000000</td>\n",
       "      <td>89.850000</td>\n",
       "    </tr>\n",
       "    <tr>\n",
       "      <th>max</th>\n",
       "      <td>1.000000</td>\n",
       "      <td>72.000000</td>\n",
       "      <td>118.750000</td>\n",
       "    </tr>\n",
       "  </tbody>\n",
       "</table>\n",
       "</div>"
      ],
      "text/plain": [
       "       SeniorCitizen       tenure  MonthlyCharges\n",
       "count    7043.000000  7043.000000     7043.000000\n",
       "mean        0.162147    32.371149       64.761692\n",
       "std         0.368612    24.559481       30.090047\n",
       "min         0.000000     0.000000       18.250000\n",
       "25%         0.000000     9.000000       35.500000\n",
       "50%         0.000000    29.000000       70.350000\n",
       "75%         0.000000    55.000000       89.850000\n",
       "max         1.000000    72.000000      118.750000"
      ]
     },
     "execution_count": 25,
     "metadata": {},
     "output_type": "execute_result"
    }
   ],
   "source": [
    "# perform basic statics for numerical columns my_df dataframes\n",
    "my_df.describe() # the cell is broken, fix it"
   ]
  },
  {
   "cell_type": "markdown",
   "metadata": {
    "ExecuteTime": {
     "end_time": "2020-05-06T20:59:24.847441Z",
     "start_time": "2020-05-06T20:59:24.844448Z"
    }
   },
   "source": [
    "## Python Basics - Pandas Unique values in a column\n",
    "* display number of unique values for each column (the cardinality of each column)"
   ]
  },
  {
   "cell_type": "markdown",
   "metadata": {},
   "source": [
    " <div class=\"panel-group\" id=\"accordion-99\">\n",
    "  <div class=\"panel panel-default\">\n",
    "    <div class=\"panel-heading\">\n",
    "      <h4 class=\"panel-title\">\n",
    "        <a data-toggle=\"collapse\" data-parent=\"#accordion-99\" href=\"#collapse1-99\">\n",
    "        Hint</a>\n",
    "      </h4>\n",
    "    </div>\n",
    "    <div id=\"collapse1-99\" class=\"panel-collapse collapse\">\n",
    "      <div class=\"panel-body\">\n",
    "Heres a trick ... TYPE:<br>\n",
    "          <br>my_df.nuni + TAB ... see if you can use autocomplet to figure it out!<br><br><br>\n",
    "          <br>my_df.nunique()\n",
    "        </div>\n",
    "    </div>\n",
    "  </div>\n",
    " </div>\n",
    "\n"
   ]
  },
  {
   "cell_type": "code",
   "execution_count": 29,
   "metadata": {
    "ExecuteTime": {
     "end_time": "2020-06-11T16:46:09.457977Z",
     "start_time": "2020-06-11T16:46:09.427965Z"
    }
   },
   "outputs": [
    {
     "data": {
      "text/plain": [
       "customerID          7043\n",
       "gender                 2\n",
       "SeniorCitizen          2\n",
       "Partner                2\n",
       "Dependents             2\n",
       "tenure                73\n",
       "PhoneService           2\n",
       "MultipleLines          3\n",
       "InternetService        3\n",
       "OnlineSecurity         3\n",
       "OnlineBackup           3\n",
       "DeviceProtection       3\n",
       "TechSupport            3\n",
       "StreamingTV            3\n",
       "StreamingMovies        3\n",
       "Contract               3\n",
       "PaperlessBilling       2\n",
       "PaymentMethod          4\n",
       "MonthlyCharges      1585\n",
       "TotalCharges        6531\n",
       "Churn                  2\n",
       "dtype: int64"
      ]
     },
     "execution_count": 29,
     "metadata": {},
     "output_type": "execute_result"
    }
   ],
   "source": [
    "my_df.nunique()    # the cell is broken, fix it"
   ]
  },
  {
   "cell_type": "markdown",
   "metadata": {
    "ExecuteTime": {
     "end_time": "2020-05-06T20:59:24.874368Z",
     "start_time": "2020-05-06T20:59:24.871376Z"
    }
   },
   "source": [
    "## Python Basics - Pandas column data types\n",
    "* find basic data types of each column"
   ]
  },
  {
   "cell_type": "code",
   "execution_count": 30,
   "metadata": {
    "ExecuteTime": {
     "end_time": "2020-06-11T16:48:15.128010Z",
     "start_time": "2020-06-11T16:48:15.115282Z"
    }
   },
   "outputs": [
    {
     "data": {
      "text/plain": [
       "customerID           object\n",
       "gender               object\n",
       "SeniorCitizen         int64\n",
       "Partner              object\n",
       "Dependents           object\n",
       "tenure              float64\n",
       "PhoneService         object\n",
       "MultipleLines        object\n",
       "InternetService      object\n",
       "OnlineSecurity       object\n",
       "OnlineBackup         object\n",
       "DeviceProtection     object\n",
       "TechSupport          object\n",
       "StreamingTV          object\n",
       "StreamingMovies      object\n",
       "Contract             object\n",
       "PaperlessBilling     object\n",
       "PaymentMethod        object\n",
       "MonthlyCharges      float64\n",
       "TotalCharges         object\n",
       "Churn                object\n",
       "dtype: object"
      ]
     },
     "execution_count": 30,
     "metadata": {},
     "output_type": "execute_result"
    }
   ],
   "source": [
    "my_df.dtypes  # a freebie !"
   ]
  },
  {
   "cell_type": "markdown",
   "metadata": {
    "ExecuteTime": {
     "end_time": "2020-05-06T20:59:24.888333Z",
     "start_time": "2020-05-06T20:59:24.883345Z"
    }
   },
   "source": [
    "## Python Basics - Add New Column to Pandas Dataframe\n",
    "* add a new column to my_df called \"myNew\" and fill it with  a sequence of values 0,1,2,3,4...\n"
   ]
  },
  {
   "cell_type": "markdown",
   "metadata": {},
   "source": [
    " <div class=\"panel-group\" id=\"accordion-111\">\n",
    "  <div class=\"panel panel-default\">\n",
    "    <div class=\"panel-heading\">\n",
    "      <h4 class=\"panel-title\">\n",
    "        <a data-toggle=\"collapse\" data-parent=\"#accordion-111\" href=\"#collapse1-111\">\n",
    "        Hint</a>\n",
    "      </h4>\n",
    "    </div>\n",
    "    <div id=\"collapse1-111\" class=\"panel-collapse collapse\">\n",
    "      <div class=\"panel-body\">\n",
    "Answer:<br>\n",
    "<br>my_df['myNew'] = np.arange(len(my_df))\n",
    "        </div>\n",
    "    </div>\n",
    "  </div>\n",
    " </div>\n"
   ]
  },
  {
   "cell_type": "code",
   "execution_count": 32,
   "metadata": {
    "ExecuteTime": {
     "end_time": "2020-06-11T16:48:31.664008Z",
     "start_time": "2020-06-11T16:48:31.621048Z"
    }
   },
   "outputs": [
    {
     "data": {
      "text/html": [
       "<div>\n",
       "<style scoped>\n",
       "    .dataframe tbody tr th:only-of-type {\n",
       "        vertical-align: middle;\n",
       "    }\n",
       "\n",
       "    .dataframe tbody tr th {\n",
       "        vertical-align: top;\n",
       "    }\n",
       "\n",
       "    .dataframe thead th {\n",
       "        text-align: right;\n",
       "    }\n",
       "</style>\n",
       "<table border=\"1\" class=\"dataframe\">\n",
       "  <thead>\n",
       "    <tr style=\"text-align: right;\">\n",
       "      <th></th>\n",
       "      <th>customerID</th>\n",
       "      <th>gender</th>\n",
       "      <th>SeniorCitizen</th>\n",
       "      <th>Partner</th>\n",
       "      <th>Dependents</th>\n",
       "      <th>tenure</th>\n",
       "      <th>PhoneService</th>\n",
       "      <th>MultipleLines</th>\n",
       "      <th>InternetService</th>\n",
       "      <th>OnlineSecurity</th>\n",
       "      <th>...</th>\n",
       "      <th>TechSupport</th>\n",
       "      <th>StreamingTV</th>\n",
       "      <th>StreamingMovies</th>\n",
       "      <th>Contract</th>\n",
       "      <th>PaperlessBilling</th>\n",
       "      <th>PaymentMethod</th>\n",
       "      <th>MonthlyCharges</th>\n",
       "      <th>TotalCharges</th>\n",
       "      <th>Churn</th>\n",
       "      <th>myNew</th>\n",
       "    </tr>\n",
       "  </thead>\n",
       "  <tbody>\n",
       "    <tr>\n",
       "      <th>0</th>\n",
       "      <td>7590-VHVEG</td>\n",
       "      <td>Female</td>\n",
       "      <td>0</td>\n",
       "      <td>Yes</td>\n",
       "      <td>No</td>\n",
       "      <td>1.0</td>\n",
       "      <td>No</td>\n",
       "      <td>No phone service</td>\n",
       "      <td>DSL</td>\n",
       "      <td>No</td>\n",
       "      <td>...</td>\n",
       "      <td>No</td>\n",
       "      <td>No</td>\n",
       "      <td>No</td>\n",
       "      <td>Month-to-month</td>\n",
       "      <td>Yes</td>\n",
       "      <td>Electronic check</td>\n",
       "      <td>29.85</td>\n",
       "      <td>29.85</td>\n",
       "      <td>No</td>\n",
       "      <td>0</td>\n",
       "    </tr>\n",
       "    <tr>\n",
       "      <th>1</th>\n",
       "      <td>5575-GNVDE</td>\n",
       "      <td>Male</td>\n",
       "      <td>0</td>\n",
       "      <td>No</td>\n",
       "      <td>No</td>\n",
       "      <td>34.0</td>\n",
       "      <td>Yes</td>\n",
       "      <td>No</td>\n",
       "      <td>DSL</td>\n",
       "      <td>Yes</td>\n",
       "      <td>...</td>\n",
       "      <td>No</td>\n",
       "      <td>No</td>\n",
       "      <td>No</td>\n",
       "      <td>One year</td>\n",
       "      <td>No</td>\n",
       "      <td>Mailed check</td>\n",
       "      <td>56.95</td>\n",
       "      <td>1889.5</td>\n",
       "      <td>No</td>\n",
       "      <td>1</td>\n",
       "    </tr>\n",
       "    <tr>\n",
       "      <th>2</th>\n",
       "      <td>3668-QPYBK</td>\n",
       "      <td>Male</td>\n",
       "      <td>0</td>\n",
       "      <td>No</td>\n",
       "      <td>No</td>\n",
       "      <td>2.0</td>\n",
       "      <td>Yes</td>\n",
       "      <td>No</td>\n",
       "      <td>DSL</td>\n",
       "      <td>Yes</td>\n",
       "      <td>...</td>\n",
       "      <td>No</td>\n",
       "      <td>No</td>\n",
       "      <td>No</td>\n",
       "      <td>Month-to-month</td>\n",
       "      <td>Yes</td>\n",
       "      <td>Mailed check</td>\n",
       "      <td>53.85</td>\n",
       "      <td>108.15</td>\n",
       "      <td>Yes</td>\n",
       "      <td>2</td>\n",
       "    </tr>\n",
       "    <tr>\n",
       "      <th>3</th>\n",
       "      <td>7795-CFOCW</td>\n",
       "      <td>Male</td>\n",
       "      <td>0</td>\n",
       "      <td>No</td>\n",
       "      <td>No</td>\n",
       "      <td>45.0</td>\n",
       "      <td>No</td>\n",
       "      <td>No phone service</td>\n",
       "      <td>DSL</td>\n",
       "      <td>Yes</td>\n",
       "      <td>...</td>\n",
       "      <td>Yes</td>\n",
       "      <td>No</td>\n",
       "      <td>No</td>\n",
       "      <td>One year</td>\n",
       "      <td>No</td>\n",
       "      <td>Bank transfer (automatic)</td>\n",
       "      <td>42.30</td>\n",
       "      <td>1840.75</td>\n",
       "      <td>No</td>\n",
       "      <td>3</td>\n",
       "    </tr>\n",
       "    <tr>\n",
       "      <th>4</th>\n",
       "      <td>9237-HQITU</td>\n",
       "      <td>Female</td>\n",
       "      <td>0</td>\n",
       "      <td>No</td>\n",
       "      <td>No</td>\n",
       "      <td>2.0</td>\n",
       "      <td>Yes</td>\n",
       "      <td>No</td>\n",
       "      <td>Fiber optic</td>\n",
       "      <td>No</td>\n",
       "      <td>...</td>\n",
       "      <td>No</td>\n",
       "      <td>No</td>\n",
       "      <td>No</td>\n",
       "      <td>Month-to-month</td>\n",
       "      <td>Yes</td>\n",
       "      <td>Electronic check</td>\n",
       "      <td>70.70</td>\n",
       "      <td>151.65</td>\n",
       "      <td>Yes</td>\n",
       "      <td>4</td>\n",
       "    </tr>\n",
       "  </tbody>\n",
       "</table>\n",
       "<p>5 rows × 22 columns</p>\n",
       "</div>"
      ],
      "text/plain": [
       "   customerID  gender  SeniorCitizen Partner Dependents  tenure PhoneService  \\\n",
       "0  7590-VHVEG  Female              0     Yes         No     1.0           No   \n",
       "1  5575-GNVDE    Male              0      No         No    34.0          Yes   \n",
       "2  3668-QPYBK    Male              0      No         No     2.0          Yes   \n",
       "3  7795-CFOCW    Male              0      No         No    45.0           No   \n",
       "4  9237-HQITU  Female              0      No         No     2.0          Yes   \n",
       "\n",
       "      MultipleLines InternetService OnlineSecurity  ... TechSupport  \\\n",
       "0  No phone service             DSL             No  ...          No   \n",
       "1                No             DSL            Yes  ...          No   \n",
       "2                No             DSL            Yes  ...          No   \n",
       "3  No phone service             DSL            Yes  ...         Yes   \n",
       "4                No     Fiber optic             No  ...          No   \n",
       "\n",
       "  StreamingTV StreamingMovies        Contract PaperlessBilling  \\\n",
       "0          No              No  Month-to-month              Yes   \n",
       "1          No              No        One year               No   \n",
       "2          No              No  Month-to-month              Yes   \n",
       "3          No              No        One year               No   \n",
       "4          No              No  Month-to-month              Yes   \n",
       "\n",
       "               PaymentMethod MonthlyCharges TotalCharges  Churn myNew  \n",
       "0           Electronic check          29.85        29.85     No     0  \n",
       "1               Mailed check          56.95       1889.5     No     1  \n",
       "2               Mailed check          53.85       108.15    Yes     2  \n",
       "3  Bank transfer (automatic)          42.30      1840.75     No     3  \n",
       "4           Electronic check          70.70       151.65    Yes     4  \n",
       "\n",
       "[5 rows x 22 columns]"
      ]
     },
     "execution_count": 32,
     "metadata": {},
     "output_type": "execute_result"
    }
   ],
   "source": [
    "import numpy as np   # the cell is broken, fix it\n",
    "my_df['myNew'] = np.arange(len(my_df))  #lookup np range\n",
    "my_df.head()"
   ]
  },
  {
   "cell_type": "markdown",
   "metadata": {
    "ExecuteTime": {
     "end_time": "2020-05-06T20:59:24.916257Z",
     "start_time": "2020-05-06T20:59:24.912267Z"
    }
   },
   "source": [
    "## Python Basics - Pandas indexing\n",
    "* change the value of a specific row and column [0,0] to a new value using iloc\n"
   ]
  },
  {
   "cell_type": "code",
   "execution_count": 33,
   "metadata": {
    "ExecuteTime": {
     "end_time": "2020-06-11T16:48:42.638766Z",
     "start_time": "2020-06-11T16:48:42.626217Z"
    }
   },
   "outputs": [
    {
     "data": {
      "text/plain": [
       "'7590-VHVEG'"
      ]
     },
     "execution_count": 33,
     "metadata": {},
     "output_type": "execute_result"
    }
   ],
   "source": [
    "my_df.iloc[0,0]"
   ]
  },
  {
   "cell_type": "markdown",
   "metadata": {},
   "source": [
    "## Python Basics - Filtering rows in Pandas\n",
    "\n",
    "### filter my_df to display the following \n",
    "| gender | SeniorCitizen | Partner | Dependents |\n",
    "| --- | --- | ---| ---|\n",
    "| Female | \t0 | Yes | \tNo |"
   ]
  },
  {
   "cell_type": "code",
   "execution_count": 34,
   "metadata": {
    "ExecuteTime": {
     "end_time": "2020-06-11T16:48:46.797249Z",
     "start_time": "2020-06-11T16:48:46.785221Z"
    }
   },
   "outputs": [
    {
     "data": {
      "text/plain": [
       "Index(['customerID', 'gender', 'SeniorCitizen', 'Partner', 'Dependents',\n",
       "       'tenure', 'PhoneService', 'MultipleLines', 'InternetService',\n",
       "       'OnlineSecurity', 'OnlineBackup', 'DeviceProtection', 'TechSupport',\n",
       "       'StreamingTV', 'StreamingMovies', 'Contract', 'PaperlessBilling',\n",
       "       'PaymentMethod', 'MonthlyCharges', 'TotalCharges', 'Churn', 'myNew'],\n",
       "      dtype='object')"
      ]
     },
     "execution_count": 34,
     "metadata": {},
     "output_type": "execute_result"
    }
   ],
   "source": [
    "my_df.columns"
   ]
  },
  {
   "cell_type": "markdown",
   "metadata": {},
   "source": [
    " <div class=\"panel-group\" id=\"accordion-112\">\n",
    "  <div class=\"panel panel-default\">\n",
    "    <div class=\"panel-heading\">\n",
    "      <h4 class=\"panel-title\">\n",
    "        <a data-toggle=\"collapse\" data-parent=\"#accordion-112\" href=\"#collapse1-112\">\n",
    "        Hint</a>\n",
    "      </h4>\n",
    "    </div>\n",
    "    <div id=\"collapse1-112\" class=\"panel-collapse collapse\">\n",
    "      <div class=\"panel-body\">\n",
    "Answer:<br>\n",
    "          <br> use my_df['SeniorCitizen']         NOT my_df['Senior']\n",
    "          <br><br>  use my_df['Dependents']       NOT my_df['Depends']\n",
    "          <br><br><br>\n",
    "<br>my_df[(my_df['gender'] == 'Female') & (my_df['SeniorCitizen'] == 0) & (my_df['Partner'] == 'Yes') & (my_df['Dependents'] == 'No')]\n",
    "        </div>\n",
    "    </div>\n",
    "  </div>\n",
    " </div>"
   ]
  },
  {
   "cell_type": "code",
   "execution_count": 38,
   "metadata": {
    "ExecuteTime": {
     "end_time": "2020-06-11T16:52:37.072421Z",
     "start_time": "2020-06-11T16:52:37.011062Z"
    }
   },
   "outputs": [
    {
     "data": {
      "text/html": [
       "<div>\n",
       "<style scoped>\n",
       "    .dataframe tbody tr th:only-of-type {\n",
       "        vertical-align: middle;\n",
       "    }\n",
       "\n",
       "    .dataframe tbody tr th {\n",
       "        vertical-align: top;\n",
       "    }\n",
       "\n",
       "    .dataframe thead th {\n",
       "        text-align: right;\n",
       "    }\n",
       "</style>\n",
       "<table border=\"1\" class=\"dataframe\">\n",
       "  <thead>\n",
       "    <tr style=\"text-align: right;\">\n",
       "      <th></th>\n",
       "      <th>customerID</th>\n",
       "      <th>gender</th>\n",
       "      <th>SeniorCitizen</th>\n",
       "      <th>Partner</th>\n",
       "      <th>Dependents</th>\n",
       "      <th>tenure</th>\n",
       "      <th>PhoneService</th>\n",
       "      <th>MultipleLines</th>\n",
       "      <th>InternetService</th>\n",
       "      <th>OnlineSecurity</th>\n",
       "      <th>...</th>\n",
       "      <th>TechSupport</th>\n",
       "      <th>StreamingTV</th>\n",
       "      <th>StreamingMovies</th>\n",
       "      <th>Contract</th>\n",
       "      <th>PaperlessBilling</th>\n",
       "      <th>PaymentMethod</th>\n",
       "      <th>MonthlyCharges</th>\n",
       "      <th>TotalCharges</th>\n",
       "      <th>Churn</th>\n",
       "      <th>myNew</th>\n",
       "    </tr>\n",
       "  </thead>\n",
       "  <tbody>\n",
       "    <tr>\n",
       "      <th>0</th>\n",
       "      <td>7590-VHVEG</td>\n",
       "      <td>Female</td>\n",
       "      <td>0</td>\n",
       "      <td>Yes</td>\n",
       "      <td>No</td>\n",
       "      <td>1.0</td>\n",
       "      <td>No</td>\n",
       "      <td>No phone service</td>\n",
       "      <td>DSL</td>\n",
       "      <td>No</td>\n",
       "      <td>...</td>\n",
       "      <td>No</td>\n",
       "      <td>No</td>\n",
       "      <td>No</td>\n",
       "      <td>Month-to-month</td>\n",
       "      <td>Yes</td>\n",
       "      <td>Electronic check</td>\n",
       "      <td>29.85</td>\n",
       "      <td>29.85</td>\n",
       "      <td>No</td>\n",
       "      <td>0</td>\n",
       "    </tr>\n",
       "    <tr>\n",
       "      <th>8</th>\n",
       "      <td>7892-POOKP</td>\n",
       "      <td>Female</td>\n",
       "      <td>0</td>\n",
       "      <td>Yes</td>\n",
       "      <td>No</td>\n",
       "      <td>28.0</td>\n",
       "      <td>Yes</td>\n",
       "      <td>Yes</td>\n",
       "      <td>Fiber optic</td>\n",
       "      <td>No</td>\n",
       "      <td>...</td>\n",
       "      <td>Yes</td>\n",
       "      <td>Yes</td>\n",
       "      <td>Yes</td>\n",
       "      <td>Month-to-month</td>\n",
       "      <td>Yes</td>\n",
       "      <td>Electronic check</td>\n",
       "      <td>104.80</td>\n",
       "      <td>3046.05</td>\n",
       "      <td>Yes</td>\n",
       "      <td>8</td>\n",
       "    </tr>\n",
       "    <tr>\n",
       "      <th>23</th>\n",
       "      <td>3638-WEABW</td>\n",
       "      <td>Female</td>\n",
       "      <td>0</td>\n",
       "      <td>Yes</td>\n",
       "      <td>No</td>\n",
       "      <td>58.0</td>\n",
       "      <td>Yes</td>\n",
       "      <td>Yes</td>\n",
       "      <td>DSL</td>\n",
       "      <td>No</td>\n",
       "      <td>...</td>\n",
       "      <td>Yes</td>\n",
       "      <td>No</td>\n",
       "      <td>No</td>\n",
       "      <td>Two year</td>\n",
       "      <td>Yes</td>\n",
       "      <td>Credit card (automatic)</td>\n",
       "      <td>59.90</td>\n",
       "      <td>3505.1</td>\n",
       "      <td>No</td>\n",
       "      <td>23</td>\n",
       "    </tr>\n",
       "    <tr>\n",
       "      <th>44</th>\n",
       "      <td>4080-IIARD</td>\n",
       "      <td>Female</td>\n",
       "      <td>0</td>\n",
       "      <td>Yes</td>\n",
       "      <td>No</td>\n",
       "      <td>13.0</td>\n",
       "      <td>Yes</td>\n",
       "      <td>Yes</td>\n",
       "      <td>DSL</td>\n",
       "      <td>Yes</td>\n",
       "      <td>...</td>\n",
       "      <td>Yes</td>\n",
       "      <td>Yes</td>\n",
       "      <td>No</td>\n",
       "      <td>Month-to-month</td>\n",
       "      <td>Yes</td>\n",
       "      <td>Electronic check</td>\n",
       "      <td>76.20</td>\n",
       "      <td>981.45</td>\n",
       "      <td>No</td>\n",
       "      <td>44</td>\n",
       "    </tr>\n",
       "    <tr>\n",
       "      <th>60</th>\n",
       "      <td>0434-CSFON</td>\n",
       "      <td>Female</td>\n",
       "      <td>0</td>\n",
       "      <td>Yes</td>\n",
       "      <td>No</td>\n",
       "      <td>47.0</td>\n",
       "      <td>Yes</td>\n",
       "      <td>Yes</td>\n",
       "      <td>Fiber optic</td>\n",
       "      <td>No</td>\n",
       "      <td>...</td>\n",
       "      <td>No</td>\n",
       "      <td>Yes</td>\n",
       "      <td>Yes</td>\n",
       "      <td>Month-to-month</td>\n",
       "      <td>Yes</td>\n",
       "      <td>Electronic check</td>\n",
       "      <td>100.50</td>\n",
       "      <td>4707.1</td>\n",
       "      <td>No</td>\n",
       "      <td>60</td>\n",
       "    </tr>\n",
       "    <tr>\n",
       "      <th>...</th>\n",
       "      <td>...</td>\n",
       "      <td>...</td>\n",
       "      <td>...</td>\n",
       "      <td>...</td>\n",
       "      <td>...</td>\n",
       "      <td>...</td>\n",
       "      <td>...</td>\n",
       "      <td>...</td>\n",
       "      <td>...</td>\n",
       "      <td>...</td>\n",
       "      <td>...</td>\n",
       "      <td>...</td>\n",
       "      <td>...</td>\n",
       "      <td>...</td>\n",
       "      <td>...</td>\n",
       "      <td>...</td>\n",
       "      <td>...</td>\n",
       "      <td>...</td>\n",
       "      <td>...</td>\n",
       "      <td>...</td>\n",
       "      <td>...</td>\n",
       "    </tr>\n",
       "    <tr>\n",
       "      <th>6986</th>\n",
       "      <td>3976-BWUCK</td>\n",
       "      <td>Female</td>\n",
       "      <td>0</td>\n",
       "      <td>Yes</td>\n",
       "      <td>No</td>\n",
       "      <td>30.0</td>\n",
       "      <td>Yes</td>\n",
       "      <td>Yes</td>\n",
       "      <td>Fiber optic</td>\n",
       "      <td>No</td>\n",
       "      <td>...</td>\n",
       "      <td>Yes</td>\n",
       "      <td>Yes</td>\n",
       "      <td>No</td>\n",
       "      <td>Month-to-month</td>\n",
       "      <td>Yes</td>\n",
       "      <td>Credit card (automatic)</td>\n",
       "      <td>94.10</td>\n",
       "      <td>2804.45</td>\n",
       "      <td>Yes</td>\n",
       "      <td>6986</td>\n",
       "    </tr>\n",
       "    <tr>\n",
       "      <th>6997</th>\n",
       "      <td>2523-EWWZL</td>\n",
       "      <td>Female</td>\n",
       "      <td>0</td>\n",
       "      <td>Yes</td>\n",
       "      <td>No</td>\n",
       "      <td>27.0</td>\n",
       "      <td>Yes</td>\n",
       "      <td>No</td>\n",
       "      <td>Fiber optic</td>\n",
       "      <td>No</td>\n",
       "      <td>...</td>\n",
       "      <td>No</td>\n",
       "      <td>No</td>\n",
       "      <td>No</td>\n",
       "      <td>Month-to-month</td>\n",
       "      <td>Yes</td>\n",
       "      <td>Electronic check</td>\n",
       "      <td>76.10</td>\n",
       "      <td>2093.4</td>\n",
       "      <td>No</td>\n",
       "      <td>6997</td>\n",
       "    </tr>\n",
       "    <tr>\n",
       "      <th>7002</th>\n",
       "      <td>9586-JGQKH</td>\n",
       "      <td>Female</td>\n",
       "      <td>0</td>\n",
       "      <td>Yes</td>\n",
       "      <td>No</td>\n",
       "      <td>64.0</td>\n",
       "      <td>Yes</td>\n",
       "      <td>Yes</td>\n",
       "      <td>Fiber optic</td>\n",
       "      <td>No</td>\n",
       "      <td>...</td>\n",
       "      <td>Yes</td>\n",
       "      <td>Yes</td>\n",
       "      <td>Yes</td>\n",
       "      <td>Two year</td>\n",
       "      <td>Yes</td>\n",
       "      <td>Bank transfer (automatic)</td>\n",
       "      <td>105.40</td>\n",
       "      <td>6794.75</td>\n",
       "      <td>No</td>\n",
       "      <td>7002</td>\n",
       "    </tr>\n",
       "    <tr>\n",
       "      <th>7012</th>\n",
       "      <td>6691-CCIHA</td>\n",
       "      <td>Female</td>\n",
       "      <td>0</td>\n",
       "      <td>Yes</td>\n",
       "      <td>No</td>\n",
       "      <td>62.0</td>\n",
       "      <td>Yes</td>\n",
       "      <td>Yes</td>\n",
       "      <td>DSL</td>\n",
       "      <td>Yes</td>\n",
       "      <td>...</td>\n",
       "      <td>Yes</td>\n",
       "      <td>Yes</td>\n",
       "      <td>Yes</td>\n",
       "      <td>Two year</td>\n",
       "      <td>Yes</td>\n",
       "      <td>Electronic check</td>\n",
       "      <td>84.95</td>\n",
       "      <td>5150.55</td>\n",
       "      <td>No</td>\n",
       "      <td>7012</td>\n",
       "    </tr>\n",
       "    <tr>\n",
       "      <th>7028</th>\n",
       "      <td>9281-CEDRU</td>\n",
       "      <td>Female</td>\n",
       "      <td>0</td>\n",
       "      <td>Yes</td>\n",
       "      <td>No</td>\n",
       "      <td>68.0</td>\n",
       "      <td>Yes</td>\n",
       "      <td>No</td>\n",
       "      <td>DSL</td>\n",
       "      <td>No</td>\n",
       "      <td>...</td>\n",
       "      <td>Yes</td>\n",
       "      <td>Yes</td>\n",
       "      <td>No</td>\n",
       "      <td>Two year</td>\n",
       "      <td>No</td>\n",
       "      <td>Bank transfer (automatic)</td>\n",
       "      <td>64.10</td>\n",
       "      <td>4326.25</td>\n",
       "      <td>No</td>\n",
       "      <td>7028</td>\n",
       "    </tr>\n",
       "  </tbody>\n",
       "</table>\n",
       "<p>596 rows × 22 columns</p>\n",
       "</div>"
      ],
      "text/plain": [
       "      customerID  gender  SeniorCitizen Partner Dependents  tenure  \\\n",
       "0     7590-VHVEG  Female              0     Yes         No     1.0   \n",
       "8     7892-POOKP  Female              0     Yes         No    28.0   \n",
       "23    3638-WEABW  Female              0     Yes         No    58.0   \n",
       "44    4080-IIARD  Female              0     Yes         No    13.0   \n",
       "60    0434-CSFON  Female              0     Yes         No    47.0   \n",
       "...          ...     ...            ...     ...        ...     ...   \n",
       "6986  3976-BWUCK  Female              0     Yes         No    30.0   \n",
       "6997  2523-EWWZL  Female              0     Yes         No    27.0   \n",
       "7002  9586-JGQKH  Female              0     Yes         No    64.0   \n",
       "7012  6691-CCIHA  Female              0     Yes         No    62.0   \n",
       "7028  9281-CEDRU  Female              0     Yes         No    68.0   \n",
       "\n",
       "     PhoneService     MultipleLines InternetService OnlineSecurity  ...  \\\n",
       "0              No  No phone service             DSL             No  ...   \n",
       "8             Yes               Yes     Fiber optic             No  ...   \n",
       "23            Yes               Yes             DSL             No  ...   \n",
       "44            Yes               Yes             DSL            Yes  ...   \n",
       "60            Yes               Yes     Fiber optic             No  ...   \n",
       "...           ...               ...             ...            ...  ...   \n",
       "6986          Yes               Yes     Fiber optic             No  ...   \n",
       "6997          Yes                No     Fiber optic             No  ...   \n",
       "7002          Yes               Yes     Fiber optic             No  ...   \n",
       "7012          Yes               Yes             DSL            Yes  ...   \n",
       "7028          Yes                No             DSL             No  ...   \n",
       "\n",
       "     TechSupport StreamingTV StreamingMovies        Contract PaperlessBilling  \\\n",
       "0             No          No              No  Month-to-month              Yes   \n",
       "8            Yes         Yes             Yes  Month-to-month              Yes   \n",
       "23           Yes          No              No        Two year              Yes   \n",
       "44           Yes         Yes              No  Month-to-month              Yes   \n",
       "60            No         Yes             Yes  Month-to-month              Yes   \n",
       "...          ...         ...             ...             ...              ...   \n",
       "6986         Yes         Yes              No  Month-to-month              Yes   \n",
       "6997          No          No              No  Month-to-month              Yes   \n",
       "7002         Yes         Yes             Yes        Two year              Yes   \n",
       "7012         Yes         Yes             Yes        Two year              Yes   \n",
       "7028         Yes         Yes              No        Two year               No   \n",
       "\n",
       "                  PaymentMethod MonthlyCharges TotalCharges  Churn myNew  \n",
       "0              Electronic check          29.85        29.85     No     0  \n",
       "8              Electronic check         104.80      3046.05    Yes     8  \n",
       "23      Credit card (automatic)          59.90       3505.1     No    23  \n",
       "44             Electronic check          76.20       981.45     No    44  \n",
       "60             Electronic check         100.50       4707.1     No    60  \n",
       "...                         ...            ...          ...    ...   ...  \n",
       "6986    Credit card (automatic)          94.10      2804.45    Yes  6986  \n",
       "6997           Electronic check          76.10       2093.4     No  6997  \n",
       "7002  Bank transfer (automatic)         105.40      6794.75     No  7002  \n",
       "7012           Electronic check          84.95      5150.55     No  7012  \n",
       "7028  Bank transfer (automatic)          64.10      4326.25     No  7028  \n",
       "\n",
       "[596 rows x 22 columns]"
      ]
     },
     "execution_count": 38,
     "metadata": {},
     "output_type": "execute_result"
    }
   ],
   "source": [
    "# this cell is broken fix it\n",
    "my_df[(my_df['gender'] == 'Female') & (my_df['SeniorCitizen'] == 0) & (my_df['Partner'] == 'Yes') & (my_df['Dependents'] == 'No')]"
   ]
  },
  {
   "cell_type": "markdown",
   "metadata": {
    "ExecuteTime": {
     "end_time": "2020-05-06T20:59:24.964129Z",
     "start_time": "2020-05-06T20:59:24.960139Z"
    }
   },
   "source": [
    "## Python Basics -Pandas sorting\n",
    "* sort the my_df by columns [InternetService, PhoneService ]"
   ]
  },
  {
   "cell_type": "markdown",
   "metadata": {},
   "source": [
    " <div class=\"panel-group\" id=\"accordion-113\">\n",
    "  <div class=\"panel panel-default\">\n",
    "    <div class=\"panel-heading\">\n",
    "      <h4 class=\"panel-title\">\n",
    "        <a data-toggle=\"collapse\" data-parent=\"#accordion-113\" href=\"#collapse1-113\">\n",
    "        Hint</a>\n",
    "      </h4>\n",
    "    </div>\n",
    "    <div id=\"collapse1-113\" class=\"panel-collapse collapse\">\n",
    "      <div class=\"panel-body\">\n",
    "Answer:<br>\n",
    "          <br> my_df.sort_values(['InternetService', 'PhoneService'])\n",
    "        </div>\n",
    "    </div>\n",
    "  </div>\n",
    " </div>\n"
   ]
  },
  {
   "cell_type": "code",
   "execution_count": 42,
   "metadata": {
    "ExecuteTime": {
     "end_time": "2020-06-11T16:53:27.558491Z",
     "start_time": "2020-06-11T16:53:27.495846Z"
    }
   },
   "outputs": [
    {
     "data": {
      "text/html": [
       "<div>\n",
       "<style scoped>\n",
       "    .dataframe tbody tr th:only-of-type {\n",
       "        vertical-align: middle;\n",
       "    }\n",
       "\n",
       "    .dataframe tbody tr th {\n",
       "        vertical-align: top;\n",
       "    }\n",
       "\n",
       "    .dataframe thead th {\n",
       "        text-align: right;\n",
       "    }\n",
       "</style>\n",
       "<table border=\"1\" class=\"dataframe\">\n",
       "  <thead>\n",
       "    <tr style=\"text-align: right;\">\n",
       "      <th></th>\n",
       "      <th>customerID</th>\n",
       "      <th>gender</th>\n",
       "      <th>SeniorCitizen</th>\n",
       "      <th>Partner</th>\n",
       "      <th>Dependents</th>\n",
       "      <th>tenure</th>\n",
       "      <th>PhoneService</th>\n",
       "      <th>MultipleLines</th>\n",
       "      <th>InternetService</th>\n",
       "      <th>OnlineSecurity</th>\n",
       "      <th>...</th>\n",
       "      <th>TechSupport</th>\n",
       "      <th>StreamingTV</th>\n",
       "      <th>StreamingMovies</th>\n",
       "      <th>Contract</th>\n",
       "      <th>PaperlessBilling</th>\n",
       "      <th>PaymentMethod</th>\n",
       "      <th>MonthlyCharges</th>\n",
       "      <th>TotalCharges</th>\n",
       "      <th>Churn</th>\n",
       "      <th>myNew</th>\n",
       "    </tr>\n",
       "  </thead>\n",
       "  <tbody>\n",
       "    <tr>\n",
       "      <th>0</th>\n",
       "      <td>7590-VHVEG</td>\n",
       "      <td>Female</td>\n",
       "      <td>0</td>\n",
       "      <td>Yes</td>\n",
       "      <td>No</td>\n",
       "      <td>1.0</td>\n",
       "      <td>No</td>\n",
       "      <td>No phone service</td>\n",
       "      <td>DSL</td>\n",
       "      <td>No</td>\n",
       "      <td>...</td>\n",
       "      <td>No</td>\n",
       "      <td>No</td>\n",
       "      <td>No</td>\n",
       "      <td>Month-to-month</td>\n",
       "      <td>Yes</td>\n",
       "      <td>Electronic check</td>\n",
       "      <td>29.85</td>\n",
       "      <td>29.85</td>\n",
       "      <td>No</td>\n",
       "      <td>0</td>\n",
       "    </tr>\n",
       "    <tr>\n",
       "      <th>3</th>\n",
       "      <td>7795-CFOCW</td>\n",
       "      <td>Male</td>\n",
       "      <td>0</td>\n",
       "      <td>No</td>\n",
       "      <td>No</td>\n",
       "      <td>45.0</td>\n",
       "      <td>No</td>\n",
       "      <td>No phone service</td>\n",
       "      <td>DSL</td>\n",
       "      <td>Yes</td>\n",
       "      <td>...</td>\n",
       "      <td>Yes</td>\n",
       "      <td>No</td>\n",
       "      <td>No</td>\n",
       "      <td>One year</td>\n",
       "      <td>No</td>\n",
       "      <td>Bank transfer (automatic)</td>\n",
       "      <td>42.30</td>\n",
       "      <td>1840.75</td>\n",
       "      <td>No</td>\n",
       "      <td>3</td>\n",
       "    </tr>\n",
       "    <tr>\n",
       "      <th>7</th>\n",
       "      <td>6713-OKOMC</td>\n",
       "      <td>Female</td>\n",
       "      <td>0</td>\n",
       "      <td>No</td>\n",
       "      <td>No</td>\n",
       "      <td>10.0</td>\n",
       "      <td>No</td>\n",
       "      <td>No phone service</td>\n",
       "      <td>DSL</td>\n",
       "      <td>Yes</td>\n",
       "      <td>...</td>\n",
       "      <td>No</td>\n",
       "      <td>No</td>\n",
       "      <td>No</td>\n",
       "      <td>Month-to-month</td>\n",
       "      <td>No</td>\n",
       "      <td>Mailed check</td>\n",
       "      <td>29.75</td>\n",
       "      <td>301.9</td>\n",
       "      <td>No</td>\n",
       "      <td>7</td>\n",
       "    </tr>\n",
       "    <tr>\n",
       "      <th>20</th>\n",
       "      <td>8779-QRDMV</td>\n",
       "      <td>Male</td>\n",
       "      <td>1</td>\n",
       "      <td>No</td>\n",
       "      <td>No</td>\n",
       "      <td>1.0</td>\n",
       "      <td>No</td>\n",
       "      <td>No phone service</td>\n",
       "      <td>DSL</td>\n",
       "      <td>No</td>\n",
       "      <td>...</td>\n",
       "      <td>No</td>\n",
       "      <td>No</td>\n",
       "      <td>Yes</td>\n",
       "      <td>Month-to-month</td>\n",
       "      <td>Yes</td>\n",
       "      <td>Electronic check</td>\n",
       "      <td>39.65</td>\n",
       "      <td>39.65</td>\n",
       "      <td>Yes</td>\n",
       "      <td>20</td>\n",
       "    </tr>\n",
       "    <tr>\n",
       "      <th>27</th>\n",
       "      <td>8665-UTDHZ</td>\n",
       "      <td>Male</td>\n",
       "      <td>0</td>\n",
       "      <td>Yes</td>\n",
       "      <td>Yes</td>\n",
       "      <td>1.0</td>\n",
       "      <td>No</td>\n",
       "      <td>No phone service</td>\n",
       "      <td>DSL</td>\n",
       "      <td>No</td>\n",
       "      <td>...</td>\n",
       "      <td>No</td>\n",
       "      <td>No</td>\n",
       "      <td>No</td>\n",
       "      <td>Month-to-month</td>\n",
       "      <td>No</td>\n",
       "      <td>Electronic check</td>\n",
       "      <td>30.20</td>\n",
       "      <td>30.2</td>\n",
       "      <td>Yes</td>\n",
       "      <td>27</td>\n",
       "    </tr>\n",
       "    <tr>\n",
       "      <th>...</th>\n",
       "      <td>...</td>\n",
       "      <td>...</td>\n",
       "      <td>...</td>\n",
       "      <td>...</td>\n",
       "      <td>...</td>\n",
       "      <td>...</td>\n",
       "      <td>...</td>\n",
       "      <td>...</td>\n",
       "      <td>...</td>\n",
       "      <td>...</td>\n",
       "      <td>...</td>\n",
       "      <td>...</td>\n",
       "      <td>...</td>\n",
       "      <td>...</td>\n",
       "      <td>...</td>\n",
       "      <td>...</td>\n",
       "      <td>...</td>\n",
       "      <td>...</td>\n",
       "      <td>...</td>\n",
       "      <td>...</td>\n",
       "      <td>...</td>\n",
       "    </tr>\n",
       "    <tr>\n",
       "      <th>7017</th>\n",
       "      <td>4807-IZYOZ</td>\n",
       "      <td>Female</td>\n",
       "      <td>0</td>\n",
       "      <td>No</td>\n",
       "      <td>No</td>\n",
       "      <td>51.0</td>\n",
       "      <td>Yes</td>\n",
       "      <td>No</td>\n",
       "      <td>No</td>\n",
       "      <td>No internet service</td>\n",
       "      <td>...</td>\n",
       "      <td>No internet service</td>\n",
       "      <td>No internet service</td>\n",
       "      <td>No internet service</td>\n",
       "      <td>Two year</td>\n",
       "      <td>No</td>\n",
       "      <td>Bank transfer (automatic)</td>\n",
       "      <td>20.65</td>\n",
       "      <td>1020.75</td>\n",
       "      <td>No</td>\n",
       "      <td>7017</td>\n",
       "    </tr>\n",
       "    <tr>\n",
       "      <th>7019</th>\n",
       "      <td>9710-NJERN</td>\n",
       "      <td>Female</td>\n",
       "      <td>0</td>\n",
       "      <td>No</td>\n",
       "      <td>No</td>\n",
       "      <td>39.0</td>\n",
       "      <td>Yes</td>\n",
       "      <td>No</td>\n",
       "      <td>No</td>\n",
       "      <td>No internet service</td>\n",
       "      <td>...</td>\n",
       "      <td>No internet service</td>\n",
       "      <td>No internet service</td>\n",
       "      <td>No internet service</td>\n",
       "      <td>Two year</td>\n",
       "      <td>No</td>\n",
       "      <td>Mailed check</td>\n",
       "      <td>20.15</td>\n",
       "      <td>826</td>\n",
       "      <td>No</td>\n",
       "      <td>7019</td>\n",
       "    </tr>\n",
       "    <tr>\n",
       "      <th>7020</th>\n",
       "      <td>9837-FWLCH</td>\n",
       "      <td>Male</td>\n",
       "      <td>0</td>\n",
       "      <td>Yes</td>\n",
       "      <td>Yes</td>\n",
       "      <td>12.0</td>\n",
       "      <td>Yes</td>\n",
       "      <td>No</td>\n",
       "      <td>No</td>\n",
       "      <td>No internet service</td>\n",
       "      <td>...</td>\n",
       "      <td>No internet service</td>\n",
       "      <td>No internet service</td>\n",
       "      <td>No internet service</td>\n",
       "      <td>Month-to-month</td>\n",
       "      <td>Yes</td>\n",
       "      <td>Electronic check</td>\n",
       "      <td>19.20</td>\n",
       "      <td>239</td>\n",
       "      <td>No</td>\n",
       "      <td>7020</td>\n",
       "    </tr>\n",
       "    <tr>\n",
       "      <th>7030</th>\n",
       "      <td>0871-OPBXW</td>\n",
       "      <td>Female</td>\n",
       "      <td>0</td>\n",
       "      <td>No</td>\n",
       "      <td>No</td>\n",
       "      <td>2.0</td>\n",
       "      <td>Yes</td>\n",
       "      <td>No</td>\n",
       "      <td>No</td>\n",
       "      <td>No internet service</td>\n",
       "      <td>...</td>\n",
       "      <td>No internet service</td>\n",
       "      <td>No internet service</td>\n",
       "      <td>No internet service</td>\n",
       "      <td>Month-to-month</td>\n",
       "      <td>Yes</td>\n",
       "      <td>Mailed check</td>\n",
       "      <td>20.05</td>\n",
       "      <td>39.25</td>\n",
       "      <td>No</td>\n",
       "      <td>7030</td>\n",
       "    </tr>\n",
       "    <tr>\n",
       "      <th>7037</th>\n",
       "      <td>2569-WGERO</td>\n",
       "      <td>Female</td>\n",
       "      <td>0</td>\n",
       "      <td>No</td>\n",
       "      <td>No</td>\n",
       "      <td>72.0</td>\n",
       "      <td>Yes</td>\n",
       "      <td>No</td>\n",
       "      <td>No</td>\n",
       "      <td>No internet service</td>\n",
       "      <td>...</td>\n",
       "      <td>No internet service</td>\n",
       "      <td>No internet service</td>\n",
       "      <td>No internet service</td>\n",
       "      <td>Two year</td>\n",
       "      <td>Yes</td>\n",
       "      <td>Bank transfer (automatic)</td>\n",
       "      <td>21.15</td>\n",
       "      <td>1419.4</td>\n",
       "      <td>No</td>\n",
       "      <td>7037</td>\n",
       "    </tr>\n",
       "  </tbody>\n",
       "</table>\n",
       "<p>7043 rows × 22 columns</p>\n",
       "</div>"
      ],
      "text/plain": [
       "      customerID  gender  SeniorCitizen Partner Dependents  tenure  \\\n",
       "0     7590-VHVEG  Female              0     Yes         No     1.0   \n",
       "3     7795-CFOCW    Male              0      No         No    45.0   \n",
       "7     6713-OKOMC  Female              0      No         No    10.0   \n",
       "20    8779-QRDMV    Male              1      No         No     1.0   \n",
       "27    8665-UTDHZ    Male              0     Yes        Yes     1.0   \n",
       "...          ...     ...            ...     ...        ...     ...   \n",
       "7017  4807-IZYOZ  Female              0      No         No    51.0   \n",
       "7019  9710-NJERN  Female              0      No         No    39.0   \n",
       "7020  9837-FWLCH    Male              0     Yes        Yes    12.0   \n",
       "7030  0871-OPBXW  Female              0      No         No     2.0   \n",
       "7037  2569-WGERO  Female              0      No         No    72.0   \n",
       "\n",
       "     PhoneService     MultipleLines InternetService       OnlineSecurity  ...  \\\n",
       "0              No  No phone service             DSL                   No  ...   \n",
       "3              No  No phone service             DSL                  Yes  ...   \n",
       "7              No  No phone service             DSL                  Yes  ...   \n",
       "20             No  No phone service             DSL                   No  ...   \n",
       "27             No  No phone service             DSL                   No  ...   \n",
       "...           ...               ...             ...                  ...  ...   \n",
       "7017          Yes                No              No  No internet service  ...   \n",
       "7019          Yes                No              No  No internet service  ...   \n",
       "7020          Yes                No              No  No internet service  ...   \n",
       "7030          Yes                No              No  No internet service  ...   \n",
       "7037          Yes                No              No  No internet service  ...   \n",
       "\n",
       "              TechSupport          StreamingTV      StreamingMovies  \\\n",
       "0                      No                   No                   No   \n",
       "3                     Yes                   No                   No   \n",
       "7                      No                   No                   No   \n",
       "20                     No                   No                  Yes   \n",
       "27                     No                   No                   No   \n",
       "...                   ...                  ...                  ...   \n",
       "7017  No internet service  No internet service  No internet service   \n",
       "7019  No internet service  No internet service  No internet service   \n",
       "7020  No internet service  No internet service  No internet service   \n",
       "7030  No internet service  No internet service  No internet service   \n",
       "7037  No internet service  No internet service  No internet service   \n",
       "\n",
       "            Contract PaperlessBilling              PaymentMethod  \\\n",
       "0     Month-to-month              Yes           Electronic check   \n",
       "3           One year               No  Bank transfer (automatic)   \n",
       "7     Month-to-month               No               Mailed check   \n",
       "20    Month-to-month              Yes           Electronic check   \n",
       "27    Month-to-month               No           Electronic check   \n",
       "...              ...              ...                        ...   \n",
       "7017        Two year               No  Bank transfer (automatic)   \n",
       "7019        Two year               No               Mailed check   \n",
       "7020  Month-to-month              Yes           Electronic check   \n",
       "7030  Month-to-month              Yes               Mailed check   \n",
       "7037        Two year              Yes  Bank transfer (automatic)   \n",
       "\n",
       "     MonthlyCharges TotalCharges  Churn myNew  \n",
       "0             29.85        29.85     No     0  \n",
       "3             42.30      1840.75     No     3  \n",
       "7             29.75        301.9     No     7  \n",
       "20            39.65        39.65    Yes    20  \n",
       "27            30.20         30.2    Yes    27  \n",
       "...             ...          ...    ...   ...  \n",
       "7017          20.65      1020.75     No  7017  \n",
       "7019          20.15          826     No  7019  \n",
       "7020          19.20          239     No  7020  \n",
       "7030          20.05        39.25     No  7030  \n",
       "7037          21.15       1419.4     No  7037  \n",
       "\n",
       "[7043 rows x 22 columns]"
      ]
     },
     "execution_count": 42,
     "metadata": {},
     "output_type": "execute_result"
    }
   ],
   "source": [
    "my_df.sort_values(by=['InternetService', 'PhoneService'])  # this cell is broken, fix it"
   ]
  },
  {
   "cell_type": "markdown",
   "metadata": {
    "ExecuteTime": {
     "end_time": "2020-05-06T20:59:25.011003Z",
     "start_time": "2020-05-06T20:59:25.008011Z"
    }
   },
   "source": [
    "## Python Basics - Pandas Groupby and Aggregate\n",
    "* group the dataframe by ['InternetService', 'PhoneService'] and aggregate churn by count() "
   ]
  },
  {
   "cell_type": "code",
   "execution_count": 43,
   "metadata": {
    "ExecuteTime": {
     "end_time": "2020-06-11T16:54:47.762378Z",
     "start_time": "2020-06-11T16:54:47.741943Z"
    }
   },
   "outputs": [
    {
     "data": {
      "text/plain": [
       "InternetService  PhoneService\n",
       "DSL              No               682\n",
       "                 Yes             1739\n",
       "Fiber optic      Yes             3096\n",
       "No               Yes             1526\n",
       "Name: Churn, dtype: int64"
      ]
     },
     "execution_count": 43,
     "metadata": {},
     "output_type": "execute_result"
    }
   ],
   "source": [
    "my_df.groupby(['InternetService', 'PhoneService'])['Churn'].count()"
   ]
  },
  {
   "cell_type": "code",
   "execution_count": null,
   "metadata": {
    "ExecuteTime": {
     "end_time": "2020-05-06T20:59:25.026964Z",
     "start_time": "2020-05-06T20:59:25.022971Z"
    }
   },
   "outputs": [],
   "source": [
    "#how many Fiber Optic customers do NOT have phone service?"
   ]
  },
  {
   "cell_type": "code",
   "execution_count": 44,
   "metadata": {
    "ExecuteTime": {
     "end_time": "2020-06-11T16:54:50.576321Z",
     "start_time": "2020-06-11T16:54:50.561091Z"
    }
   },
   "outputs": [
    {
     "data": {
      "text/plain": [
       "(3096, 22)"
      ]
     },
     "execution_count": 44,
     "metadata": {},
     "output_type": "execute_result"
    }
   ],
   "source": [
    "my_df[(my_df['InternetService'] == 'Fiber optic') & (my_df['PhoneService'] == 'Yes') ].shape"
   ]
  },
  {
   "attachments": {
    "Screen%20Shot%202020-06-11%20at%2010.59.45%20AM.png": {
     "image/png": "[encoded data removed]"
    }
   },
   "cell_type": "markdown",
   "metadata": {
    "ExecuteTime": {
     "end_time": "2020-05-06T16:23:55.906211Z",
     "start_time": "2020-05-06T16:23:55.903220Z"
    }
   },
   "source": [
    "\n",
    "# Jupyter Gotchas\n",
    "\n",
    "\n",
    "Can you tell which cell is code vs markdown?  It makes a difference ....\n",
    "\n",
    "in each cell below, assign the value of 12 to a variable\n",
    "\n",
    "- first  cell a = 12\n",
    "- second cell b = 12\n",
    "- third cell c = 12\n",
    "\n",
    "There are different kinds of cells, code cells, Markdown cells, NBCOnvert cells\n",
    "\n",
    "- Code cells run code - pretty simple\n",
    "\n",
    "- Markdown cells - provided prettier HTML type documenttion\n",
    "\n",
    "- NBConvert cells - usually used for \"as is\" text and primarily used for LaTex for math\n",
    "\n",
    "- Heading is depricated\n",
    "\n",
    "![Screen%20Shot%202020-06-11%20at%2010.59.45%20AM.png](attachment:Screen%20Shot%202020-06-11%20at%2010.59.45%20AM.png)\n",
    "\n"
   ]
  },
  {
   "cell_type": "markdown",
   "metadata": {},
   "source": [
    " <div class=\"panel-group\" id=\"accordion-114\">\n",
    "  <div class=\"panel panel-default\">\n",
    "    <div class=\"panel-heading\">\n",
    "      <h4 class=\"panel-title\">\n",
    "        <a data-toggle=\"collapse\" data-parent=\"#accordion-114\" href=\"#collapse1-114\">\n",
    "        Hint</a>\n",
    "      </h4>\n",
    "    </div>\n",
    "    <div id=\"collapse1-114\" class=\"panel-collapse collapse\">\n",
    "      <div class=\"panel-body\">\n",
    "Answer:<br>\n",
    "          <br> b = 12 is incorrectly marked as a Markdown cell\n",
    "          <br><br> change it to a code cell\n",
    "        </div>\n",
    "        <br> c = 12 is incorrectly marked as a Raw NBConvert  cell\n",
    "         <br><br>  change it to a code cell\n",
    "    </div>\n",
    "  </div>\n",
    " </div>"
   ]
  },
  {
   "cell_type": "code",
   "execution_count": 46,
   "metadata": {
    "ExecuteTime": {
     "end_time": "2020-06-11T17:03:20.431288Z",
     "start_time": "2020-06-11T17:03:20.426454Z"
    }
   },
   "outputs": [],
   "source": [
    "a = 12"
   ]
  },
  {
   "cell_type": "code",
   "execution_count": 47,
   "metadata": {
    "ExecuteTime": {
     "end_time": "2020-06-11T17:03:20.761801Z",
     "start_time": "2020-06-11T17:03:20.755982Z"
    }
   },
   "outputs": [],
   "source": [
    "b = 12"
   ]
  },
  {
   "cell_type": "code",
   "execution_count": 49,
   "metadata": {
    "ExecuteTime": {
     "end_time": "2020-06-11T17:03:29.851824Z",
     "start_time": "2020-06-11T17:03:29.845566Z"
    }
   },
   "outputs": [],
   "source": [
    "c = 12"
   ]
  },
  {
   "cell_type": "code",
   "execution_count": 50,
   "metadata": {
    "ExecuteTime": {
     "end_time": "2020-06-11T17:03:30.286692Z",
     "start_time": "2020-06-11T17:03:30.277263Z"
    }
   },
   "outputs": [
    {
     "data": {
      "text/plain": [
       "12"
      ]
     },
     "execution_count": 50,
     "metadata": {},
     "output_type": "execute_result"
    }
   ],
   "source": [
    "c"
   ]
  },
  {
   "cell_type": "code",
   "execution_count": 51,
   "metadata": {
    "ExecuteTime": {
     "end_time": "2020-06-11T17:03:31.967822Z",
     "start_time": "2020-06-11T17:03:31.960765Z"
    }
   },
   "outputs": [
    {
     "name": "stdout",
     "output_type": "stream",
     "text": [
      "12\n",
      "12\n",
      "12\n"
     ]
    }
   ],
   "source": [
    "# examine the print statements of all those variables - \n",
    "\n",
    "# Anything wrong?\n",
    "\n",
    "print (a)\n",
    "print (b)\n",
    "print (c)"
   ]
  },
  {
   "cell_type": "code",
   "execution_count": null,
   "metadata": {
    "ExecuteTime": {
     "end_time": "2020-05-06T20:59:25.051895Z",
     "start_time": "2020-05-06T20:59:24.718Z"
    }
   },
   "outputs": [],
   "source": [
    "# go back into Jupyter and see what type of cell each each is marked as ... aha ..."
   ]
  },
  {
   "cell_type": "code",
   "execution_count": null,
   "metadata": {},
   "outputs": [],
   "source": []
  }
 ],
 "metadata": {
  "kernelspec": {
   "display_name": "Python 3",
   "language": "python",
   "name": "python3"
  },
  "language_info": {
   "codemirror_mode": {
    "name": "ipython",
    "version": 3
   },
   "file_extension": ".py",
   "mimetype": "text/x-python",
   "name": "python",
   "nbconvert_exporter": "python",
   "pygments_lexer": "ipython3",
   "version": "3.7.7"
  },
  "toc": {
   "base_numbering": 1,
   "nav_menu": {},
   "number_sections": true,
   "sideBar": true,
   "skip_h1_title": false,
   "title_cell": "Table of Contents",
   "title_sidebar": "Contents",
   "toc_cell": false,
   "toc_position": {},
   "toc_section_display": true,
   "toc_window_display": false
  }
 },
 "nbformat": 4,
 "nbformat_minor": 1
}
