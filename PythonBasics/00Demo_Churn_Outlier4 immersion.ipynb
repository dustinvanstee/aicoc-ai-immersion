{
 "cells": [
  {
   "cell_type": "markdown",
   "metadata": {},
   "source": [
    "# Session Login info"
   ]
  },
  {
   "cell_type": "markdown",
   "metadata": {
    "ExecuteTime": {
     "end_time": "2020-05-03T22:16:45.389555Z",
     "start_time": "2020-05-03T22:16:45.384568Z"
    }
   },
   "source": [
    "# Installing Watson Community Edition CE\n",
    "\n",
    "https://developer.ibm.com/linuxonpower/deep-learning-powerai/releases/\n",
    "\n",
    "https://www.ibm.com/support/knowledgecenter/SS5SF7_1.7.0/navigation/wmlce_systemsetup.html\n",
    "\n",
    "https://www.ibm.com/support/knowledgecenter/SS5SF7_1.7.0/navigation/wmlce_install.html\n",
    "\n",
    "reference only:\n",
    "https://www.ibm.com/support/knowledgecenter/SS5SF7_1.7.0/navigation/wmlce_getstarted.htm\n"
   ]
  },
  {
   "cell_type": "markdown",
   "metadata": {},
   "source": [
    "# How to invoke python from command line\n",
    "\n",
    "sometimes invoking a python script in batch mode is the order of the day\n",
    "\n",
    "here's how you can take code and use an editor in the command line (such as gedit, or vi, sublime, notepad, vcode, etc) then run the script from the command line\n",
    "\n",
    "- launch a command line prompt (ssh into a machine ot even launch a terminal session from your laptop)\n",
    "- vi test.py\n",
    "- press i (to go into insert mode)\n",
    "- type the following code into the editor\n",
    "    - import numpy as np\n",
    "    - print(np.random.normal())\n",
    "- press 'ESC'\n",
    "- press :wq\n",
    "\n",
    "- from commandline:\n",
    "    - python test.py\n",
    "    \n",
    "    "
   ]
  },
  {
   "cell_type": "code",
   "execution_count": null,
   "metadata": {
    "ExecuteTime": {
     "end_time": "2020-05-06T20:59:24.583147Z",
     "start_time": "2020-05-06T20:59:24.580157Z"
    }
   },
   "outputs": [],
   "source": [
    "#! notepad test.py  #on windows\n",
    "#! gedit test.py    #on linux"
   ]
  },
  {
   "cell_type": "code",
   "execution_count": null,
   "metadata": {
    "ExecuteTime": {
     "end_time": "2020-05-06T20:59:24.591132Z",
     "start_time": "2020-05-06T20:59:24.585143Z"
    }
   },
   "outputs": [],
   "source": [
    "#! python test.py"
   ]
  },
  {
   "cell_type": "code",
   "execution_count": null,
   "metadata": {
    "ExecuteTime": {
     "end_time": "2020-05-06T20:59:24.598108Z",
     "start_time": "2020-05-06T20:59:24.594119Z"
    }
   },
   "outputs": [],
   "source": [
    "import matplotlib\n",
    "matplotlib.__version__"
   ]
  },
  {
   "cell_type": "markdown",
   "metadata": {
    "ExecuteTime": {
     "end_time": "2020-05-03T21:45:34.256871Z",
     "start_time": "2020-05-03T21:45:34.251885Z"
    }
   },
   "source": [
    "# Explore Python Tutorials: 20 minutes\n",
    "\n",
    "https://www.w3schools.com/python/\n",
    "\n",
    "these are very short, very quick interactive lessons to learn basic python operations\n",
    "\n",
    "Suggestions - play with some of these short interactive live python sessions to get familiar with python coding:\n",
    "\n",
    "\n",
    "| Recommended Exercises | Recommended Exercises |\n",
    "| --- | --- | \n",
    "| https://www.w3schools.com/python/ |  https://www.w3schools.com/python/python_variables.asp | \n",
    "| https://www.w3schools.com/python/python_datatypes.asp |  https://www.w3schools.com/python/python_numbers.asp |\n",
    "| https://www.w3schools.com/python/python_strings.asp | https://www.w3schools.com/python/python_operators.asp |\n",
    "| https://www.w3schools.com/python/python_lists.asp | https://www.w3schools.com/python/python_dictionaries.asp |\n",
    "| https://www.w3schools.com/python/python_conditions.asp | https://www.w3schools.com/python/python_for_loops.asp |\n",
    "| https://www.w3schools.com/python/python_functions.asp | https://www.w3schools.com/python/python_modules.asp |\n",
    "| https://www.w3schools.com/python/python_json.asp | https://www.w3schools.com/python/python_string_formatting.asp |\n",
    "| https://www.w3schools.com/python/python_file_handling.asp | https://www.w3schools.com/python/numpy_creating_arrays.asp |\n",
    "| https://www.w3schools.com/python/numpy_array_indexing.asp | https://www.w3schools.com/python/numpy_array_slicing.asp |\n",
    "| https://www.w3schools.com/python/numpy_array_search.asp | https://www.w3schools.com/python/numpy_array_filter.asp |\n",
    "\n",
    "\n"
   ]
  },
  {
   "attachments": {
    "image.png": {
     "image/png": "[encoded data removed]"
    }
   },
   "cell_type": "markdown",
   "metadata": {},
   "source": [
    "## Pandas data table representation: 10 minutes\n",
    "\n",
    "Pandas is one of the favorite libraries for data scientists.  It is used primarily for data engineering and preparation tasks.  If you are unfamiliar with Pandas, take a look through the link below to get a quick sense of the capabilities.  We will be using this library later on in the session.\n",
    "\n",
    "10 minutes to pandas  https://pandas.pydata.org/pandas-docs/stable/getting_started/10min.html\n",
    "\n",
    "\n",
    "![image.png](attachment:image.png)\n",
    "\n",
    "| Topics | Topics | Topics | Topics |\n",
    "| --- | --- | -- | -- |\n",
    "| Object Creation | Viewing Data |  Selection | Selection by Position |\n",
    "| Setting  | Missing Data | Stats | Apply |  Concat |\n",
    "\n"
   ]
  },
  {
   "cell_type": "markdown",
   "metadata": {},
   "source": [
    "# [Fairly] Quick Exercises\n",
    "\n",
    "Here we introduce some basic python exercises to get you warmed up.  If you can figure them out, don't worry we will walk through them during the session.  For selected exercises we have embedded hints.  This is not an exhaustive list, but mainly a tour to get you started with Python and getting used to the syntax."
   ]
  },
  {
   "cell_type": "markdown",
   "metadata": {
    "ExecuteTime": {
     "end_time": "2020-05-06T20:59:24.603121Z",
     "start_time": "2020-05-06T20:59:24.600102Z"
    }
   },
   "source": [
    "# Python Basics - Variables and Assignment\n",
    "* create a variable named x and assign it a floating point value 12.3, \n",
    "* create an integer named i and assign it a value of 10\n",
    "* create a string called myString and assign it a vlue of \"hello world\""
   ]
  },
  {
   "cell_type": "markdown",
   "metadata": {},
   "source": [
    " <div class=\"panel-group\" id=\"accordion-21\">\n",
    "  <div class=\"panel panel-default\">\n",
    "    <div class=\"panel-heading\">\n",
    "      <h4 class=\"panel-title\">\n",
    "        <a data-toggle=\"collapse\" data-parent=\"#accordion-21\" href=\"#collapse1-21\">\n",
    "        Hint 1</a>\n",
    "      </h4>\n",
    "    </div>\n",
    "    <div id=\"collapse1-21\" class=\"panel-collapse collapse\">\n",
    "      <div class=\"panel-body\">\n",
    "Type:<br>\n",
    "x = 12.3<br>\n",
    "i = 10<br>\n",
    "myString = \"hello world\"<br>\n",
    "print(x, i, myString)  #fix this cell!\n",
    "      </div>\n",
    "    </div>\n",
    "  </div>\n",
    " </div>"
   ]
  },
  {
   "cell_type": "code",
   "execution_count": null,
   "metadata": {
    "ExecuteTime": {
     "end_time": "2020-05-06T20:59:58.820604Z",
     "start_time": "2020-05-06T20:59:58.813627Z"
    },
    "scrolled": true
   },
   "outputs": [],
   "source": [
    "#x = 12.3\n",
    "#i = 10\n",
    "#myString = \"hello world\"\n",
    "print(x, i, myString)  #fix this cell!"
   ]
  },
  {
   "cell_type": "markdown",
   "metadata": {},
   "source": [
    " <div class=\"panel-group\" id=\"accordion-22\">\n",
    "  <div class=\"panel panel-default\">\n",
    "    <div class=\"panel-heading\">\n",
    "      <h4 class=\"panel-title\">\n",
    "        <a data-toggle=\"collapse\" data-parent=\"#accordion-22\" href=\"#collapse1-22\">\n",
    "        Hint 1</a>\n",
    "      </h4>\n",
    "    </div>\n",
    "    <div id=\"collapse1-22\" class=\"panel-collapse collapse\">\n",
    "      <div class=\"panel-body\">\n",
    "Type:<br>\n",
    "y = 12.3<br>\n",
    "      </div>\n",
    "    </div>\n",
    "  </div>\n",
    " </div>"
   ]
  },
  {
   "cell_type": "code",
   "execution_count": null,
   "metadata": {
    "ExecuteTime": {
     "end_time": "2020-05-06T20:59:24.616059Z",
     "start_time": "2020-05-06T20:59:24.611074Z"
    }
   },
   "outputs": [],
   "source": [
    "# print the variable x with a text descriptor as follows\n",
    "#  x = 12.3"
   ]
  },
  {
   "cell_type": "code",
   "execution_count": null,
   "metadata": {
    "ExecuteTime": {
     "end_time": "2020-05-06T21:00:24.708412Z",
     "start_time": "2020-05-06T21:00:24.702402Z"
    }
   },
   "outputs": [],
   "source": [
    "print (\"y = \", y)    #fix this cell"
   ]
  },
  {
   "cell_type": "code",
   "execution_count": null,
   "metadata": {
    "ExecuteTime": {
     "end_time": "2020-05-06T20:59:24.629026Z",
     "start_time": "2020-05-06T20:59:24.625036Z"
    }
   },
   "outputs": [],
   "source": [
    "# create a string called myString with a format statement to combine numbers and text as follows\n",
    "# hello world, the value of i is 10 and the vlaue of x is 12.3\n",
    "# hint: fill in the following template with the appropriate text and values, i, x)\n",
    "#print(\"#, the value of i is # and the value of x is #\".format(#, #, #))"
   ]
  },
  {
   "cell_type": "code",
   "execution_count": null,
   "metadata": {
    "ExecuteTime": {
     "end_time": "2020-05-06T21:00:44.029723Z",
     "start_time": "2020-05-06T21:00:44.022741Z"
    }
   },
   "outputs": [],
   "source": [
    "print(\"{}, the value of i is {} and the value of x is {}\".format(myString, i, y)) # fix this cell\n"
   ]
  },
  {
   "cell_type": "markdown",
   "metadata": {
    "ExecuteTime": {
     "end_time": "2020-05-06T20:59:24.640994Z",
     "start_time": "2020-05-06T20:59:24.637005Z"
    }
   },
   "source": [
    "## Python Basics - Lists\n",
    "* create a list called myList containing items 1,2,3,4"
   ]
  },
  {
   "cell_type": "markdown",
   "metadata": {},
   "source": [
    " <div class=\"panel-group\" id=\"accordion-33\">\n",
    "  <div class=\"panel panel-default\">\n",
    "    <div class=\"panel-heading\">\n",
    "      <h4 class=\"panel-title\">\n",
    "        <a data-toggle=\"collapse\" data-parent=\"#accordion-33\" href=\"#collapse1-33\">\n",
    "        Hint 1</a>\n",
    "      </h4>\n",
    "    </div>\n",
    "    <div id=\"collapse1-33\" class=\"panel-collapse collapse\">\n",
    "      <div class=\"panel-body\">\n",
    "Type:<br>\n",
    "myList = [1,2,3,4]<br>\n",
    "<br>\n",
    "Lists require square brackets, tuples require parentheses\n",
    "      </div>\n",
    "    </div>\n",
    "  </div>\n",
    " </div>"
   ]
  },
  {
   "cell_type": "code",
   "execution_count": null,
   "metadata": {
    "ExecuteTime": {
     "end_time": "2020-05-06T21:02:15.545838Z",
     "start_time": "2020-05-06T21:02:15.541821Z"
    }
   },
   "outputs": [],
   "source": [
    "myList = (1,2,3,4) # this is NOT a list - it is a tuple in current form. This will cause issue later - fix this. Make it a list"
   ]
  },
  {
   "cell_type": "markdown",
   "metadata": {
    "ExecuteTime": {
     "end_time": "2020-05-06T20:59:24.652960Z",
     "start_time": "2020-05-06T20:59:24.647974Z"
    }
   },
   "source": [
    "## Python Basics - List Indexing\n",
    "\n",
    "* print element [2] of myList above\n",
    "* assign the value of 12 to the last element of myList\n",
    "* using slicing or indexing to access the last two elements of myList\n"
   ]
  },
  {
   "cell_type": "markdown",
   "metadata": {},
   "source": [
    " <div class=\"panel-group\" id=\"accordion-44\">\n",
    "  <div class=\"panel panel-default\">\n",
    "    <div class=\"panel-heading\">\n",
    "      <h4 class=\"panel-title\">\n",
    "        <a data-toggle=\"collapse\" data-parent=\"#accordion-44\" href=\"#collapse1-44\">\n",
    "        Hint</a>\n",
    "      </h4>\n",
    "    </div>\n",
    "    <div id=\"collapse1-44\" class=\"panel-collapse collapse\">\n",
    "      <div class=\"panel-body\">\n",
    "Type:<br>\n",
    "<br>print(myList[2])   ##  prints the third element of myList <br>\n",
    "<br>myList[-1] = 12    ## assigns 12 to the last element of a list.  The -1 is a special index that tell python to grab last element<br>\n",
    "<br>print(myList[-2:4]) ## prints elements at index 2,3, not inclusive of 4<br>      \n",
    "        </div>\n",
    "    </div>\n",
    "  </div>\n",
    " </div>"
   ]
  },
  {
   "cell_type": "code",
   "execution_count": null,
   "metadata": {
    "ExecuteTime": {
     "end_time": "2020-05-06T21:02:22.065380Z",
     "start_time": "2020-05-06T21:02:22.054409Z"
    }
   },
   "outputs": [],
   "source": [
    "print(myList[2])\n",
    "myList[-1] = 12"
   ]
  },
  {
   "cell_type": "markdown",
   "metadata": {
    "ExecuteTime": {
     "end_time": "2020-05-06T20:59:24.664930Z",
     "start_time": "2020-05-06T20:59:24.658946Z"
    }
   },
   "source": [
    "# Python Basics - Dictionaries\n",
    "Dictionaries are handy for storing key/value pairs, see the examples below.\n",
    "* create a dictionary called myDict containing the following key, value  pairs\n",
    "* 'xmax': 3\n",
    "* 'xmin': 4\n",
    "* print the value of the dictionary 'xmax'\n",
    "* assign a new value 6 to the entry 'xmax' and print it"
   ]
  },
  {
   "cell_type": "code",
   "execution_count": null,
   "metadata": {
    "ExecuteTime": {
     "end_time": "2020-05-06T21:02:49.437213Z",
     "start_time": "2020-05-06T21:02:49.430211Z"
    }
   },
   "outputs": [],
   "source": [
    "myDict = {'xmax':3, 'xmin':4}  #fix this cell\n",
    "print(myDict['ymax'])\n",
    "myDict['xmax'] = 6\n",
    "print(myDict['xmax'])"
   ]
  },
  {
   "cell_type": "markdown",
   "metadata": {
    "ExecuteTime": {
     "end_time": "2020-05-06T21:03:06.385876Z",
     "start_time": "2020-05-06T21:03:06.382882Z"
    }
   },
   "source": [
    "## Python Basics - Magics\n",
    "*  use jupyter magics to read the list of files in the current folder\n",
    "* ! dir   #windows\n",
    "* ! ls    # linux"
   ]
  },
  {
   "cell_type": "code",
   "execution_count": null,
   "metadata": {
    "ExecuteTime": {
     "end_time": "2020-05-06T21:03:31.894670Z",
     "start_time": "2020-05-06T21:03:31.878713Z"
    }
   },
   "outputs": [],
   "source": [
    "!dir   #this will error on linux, fix it"
   ]
  },
  {
   "cell_type": "markdown",
   "metadata": {
    "ExecuteTime": {
     "end_time": "2020-05-06T20:59:24.698843Z",
     "start_time": "2020-05-06T20:59:24.696844Z"
    }
   },
   "source": [
    "## Python Basics - Numpy Arrays\n",
    "Numpy is the numerical library written in c that should be used for any task requiring lots of computation.  \n",
    "* create two random numpy arrays of dimension 3,2  = call one array x, the other y, add x & y and print the result"
   ]
  },
  {
   "cell_type": "code",
   "execution_count": null,
   "metadata": {
    "ExecuteTime": {
     "end_time": "2020-05-06T21:03:59.111923Z",
     "start_time": "2020-05-06T21:03:59.102920Z"
    }
   },
   "outputs": [],
   "source": [
    "import numpy as np   #this cell is broken - fix it\n",
    "x = np.random.rand(3,2)\n",
    "y = np.random.rand(3,2)\n",
    "print(x+y+z) "
   ]
  },
  {
   "cell_type": "markdown",
   "metadata": {
    "ExecuteTime": {
     "end_time": "2020-05-06T20:59:24.711812Z",
     "start_time": "2020-05-06T20:59:24.708812Z"
    }
   },
   "source": [
    "# Python Basics - Numpy Matrix Multiply \n",
    "* matrix multiply two arrays ... a 3x2 time a 2x3 with the following names and values<br>\n",
    "<code>\n",
    "a = [[1,2],\n",
    "      [3,2],\n",
    "      [4,1]]\n",
    " b = [[1,2,3],\n",
    "      [3,2,1]]\n",
    "</code>\n",
    "Multiply these two arrays to get a 2 x 2 array.  (The order of a, b is important)"
   ]
  },
  {
   "cell_type": "markdown",
   "metadata": {},
   "source": [
    " <div class=\"panel-group\" id=\"accordion-55\">\n",
    "  <div class=\"panel panel-default\">\n",
    "    <div class=\"panel-heading\">\n",
    "      <h4 class=\"panel-title\">\n",
    "        <a data-toggle=\"collapse\" data-parent=\"#accordion-55\" href=\"#collapse1-55\">\n",
    "        Hint</a>\n",
    "      </h4>\n",
    "    </div>\n",
    "    <div id=\"collapse1-55\" class=\"panel-collapse collapse\">\n",
    "      <div class=\"panel-body\">\n",
    "Type:<br>\n",
    "<br>b@a   ##  method 1 <br>\n",
    "<br>b.dot(a)    ## method 2<br>\n",
    "<br>np.matmul(b,a) ## method 3<br>      \n",
    "        </div>\n",
    "    </div>\n",
    "  </div>\n",
    " </div>"
   ]
  },
  {
   "cell_type": "code",
   "execution_count": null,
   "metadata": {
    "ExecuteTime": {
     "end_time": "2020-05-06T21:07:47.472370Z",
     "start_time": "2020-05-06T21:07:47.462396Z"
    }
   },
   "outputs": [],
   "source": [
    "a = np.array([[1,2],[3,2], [4,1]]) # this cell is broken fix it\n",
    "b = np.array([[1,2,3],[3,2,1]])\n",
    "#compute b.dot(a)\n",
    "print(a*b)\n",
    "\n",
    "print(\"the answer should be \\n\", [[19,  9],[13, 11]]) "
   ]
  },
  {
   "cell_type": "markdown",
   "metadata": {
    "ExecuteTime": {
     "end_time": "2020-05-06T20:59:24.724769Z",
     "start_time": "2020-05-06T20:59:24.720792Z"
    }
   },
   "source": [
    "## Python Basics - Pandas\n",
    "* create a pandas dataframe called my_df, and read with the contents WA_Fn-UseC_-Telco-Customer-Churn_nans.csv \n",
    "* and display the first 5 rows of the dataframe"
   ]
  },
  {
   "cell_type": "code",
   "execution_count": null,
   "metadata": {
    "ExecuteTime": {
     "end_time": "2020-05-06T21:08:08.068301Z",
     "start_time": "2020-05-06T21:08:08.024419Z"
    }
   },
   "outputs": [],
   "source": [
    "import pandas as pd  #this cell is broken fix it\n",
    "my_df = pd.read_csv('WA_Fn-UseC_-Telco-Customer-Churn_nans.csv')\n",
    "df.head()"
   ]
  },
  {
   "cell_type": "markdown",
   "metadata": {
    "ExecuteTime": {
     "end_time": "2020-05-06T20:59:24.777628Z",
     "start_time": "2020-05-06T20:59:24.774636Z"
    }
   },
   "source": [
    "## Python Basics - Pandas NaNs\n",
    "* determine which if any columns have nans in them"
   ]
  },
  {
   "cell_type": "code",
   "execution_count": null,
   "metadata": {
    "ExecuteTime": {
     "end_time": "2020-05-06T21:08:17.596826Z",
     "start_time": "2020-05-06T21:08:17.581866Z"
    }
   },
   "outputs": [],
   "source": [
    "cols = my_df.isnull().sum() > 0  # this cell is broken, fix it\n",
    "print(col)"
   ]
  },
  {
   "cell_type": "code",
   "execution_count": null,
   "metadata": {
    "ExecuteTime": {
     "end_time": "2020-05-06T20:59:24.793585Z",
     "start_time": "2020-05-06T20:59:24.790592Z"
    }
   },
   "outputs": [],
   "source": [
    "# print the names of the columns that have nans"
   ]
  },
  {
   "cell_type": "markdown",
   "metadata": {},
   "source": [
    " <div class=\"panel-group\" id=\"accordion-66\">\n",
    "  <div class=\"panel panel-default\">\n",
    "    <div class=\"panel-heading\">\n",
    "      <h4 class=\"panel-title\">\n",
    "        <a data-toggle=\"collapse\" data-parent=\"#accordion-66\" href=\"#collapse1-66\">\n",
    "        Hint</a>\n",
    "      </h4>\n",
    "    </div>\n",
    "    <div id=\"collapse1-66\" class=\"panel-collapse collapse\">\n",
    "      <div class=\"panel-body\">\n",
    "Type:<br>\n",
    "<br>cols = (my_df.isnull().sum()>0).tolist()   ##  use isnull ... null isnt a method <br>\n",
    "<br>my_df.columns[cols].tolist()  <br>\n",
    "        </div>\n",
    "    </div>\n",
    "  </div>\n",
    " </div>"
   ]
  },
  {
   "cell_type": "code",
   "execution_count": null,
   "metadata": {
    "ExecuteTime": {
     "end_time": "2020-05-06T21:09:33.857938Z",
     "start_time": "2020-05-06T21:09:33.846977Z"
    }
   },
   "outputs": [],
   "source": [
    "cols = (my_df.null().sum()>0).tolist()  # this cell is broken, fix it\n",
    "my_df.columns[cols].tolist()"
   ]
  },
  {
   "cell_type": "markdown",
   "metadata": {},
   "source": [
    " <div class=\"panel-group\" id=\"accordion-77\">\n",
    "  <div class=\"panel panel-default\">\n",
    "    <div class=\"panel-heading\">\n",
    "      <h4 class=\"panel-title\">\n",
    "        <a data-toggle=\"collapse\" data-parent=\"#accordion-77\" href=\"#collapse1-77\">\n",
    "        Hint</a>\n",
    "      </h4>\n",
    "    </div>\n",
    "    <div id=\"collapse1-77\" class=\"panel-collapse collapse\">\n",
    "      <div class=\"panel-body\">\n",
    "Type:<br>\n",
    "<br>my_df = my_df.fillna(0)\n",
    "<br>my_df.columns[cols].tolist()  <br>\n",
    "        </div>\n",
    "    </div>\n",
    "  </div>\n",
    " </div>\n",
    "\n"
   ]
  },
  {
   "cell_type": "code",
   "execution_count": null,
   "metadata": {
    "ExecuteTime": {
     "end_time": "2020-05-06T21:12:40.464966Z",
     "start_time": "2020-05-06T21:12:40.454993Z"
    }
   },
   "outputs": [],
   "source": [
    "# replace the nans with 0   , also the cell is broken, fix it\n",
    "my_df = my_df.fillna_na_na_na_na_na_na_na_hey_hey_goodby(0)  \n",
    "my_df.isnull().sum()"
   ]
  },
  {
   "cell_type": "markdown",
   "metadata": {},
   "source": [
    " <div class=\"panel-group\" id=\"accordion-88\">\n",
    "  <div class=\"panel panel-default\">\n",
    "    <div class=\"panel-heading\">\n",
    "      <h4 class=\"panel-title\">\n",
    "        <a data-toggle=\"collapse\" data-parent=\"#accordion-88\" href=\"#collapse1-88\">\n",
    "        Hint</a>\n",
    "      </h4>\n",
    "    </div>\n",
    "    <div id=\"collapse1-88\" class=\"panel-collapse collapse\">\n",
    "      <div class=\"panel-body\">\n",
    "Heres a trick ... TYPE:<br>\n",
    "<br>my_df.des + TAB ... see if you can use autocomplet to figure it out!\n",
    "        </div>\n",
    "    </div>\n",
    "  </div>\n",
    " </div>\n",
    "\n"
   ]
  },
  {
   "cell_type": "code",
   "execution_count": null,
   "metadata": {
    "ExecuteTime": {
     "end_time": "2020-05-06T21:12:54.608151Z",
     "start_time": "2020-05-06T21:12:54.599175Z"
    }
   },
   "outputs": [],
   "source": [
    "# perform basic statics for numerical columns my_df dataframes\n",
    "my_df.described() # the cell is broken, fix it"
   ]
  },
  {
   "cell_type": "markdown",
   "metadata": {
    "ExecuteTime": {
     "end_time": "2020-05-06T20:59:24.847441Z",
     "start_time": "2020-05-06T20:59:24.844448Z"
    }
   },
   "source": [
    "## Python Basics - Pandas Unique values in a column\n",
    "* display number of unique values for each column (the cardinality of each column)"
   ]
  },
  {
   "cell_type": "markdown",
   "metadata": {},
   "source": [
    " <div class=\"panel-group\" id=\"accordion-99\">\n",
    "  <div class=\"panel panel-default\">\n",
    "    <div class=\"panel-heading\">\n",
    "      <h4 class=\"panel-title\">\n",
    "        <a data-toggle=\"collapse\" data-parent=\"#accordion-99\" href=\"#collapse1-99\">\n",
    "        Hint</a>\n",
    "      </h4>\n",
    "    </div>\n",
    "    <div id=\"collapse1-99\" class=\"panel-collapse collapse\">\n",
    "      <div class=\"panel-body\">\n",
    "Heres a trick ... TYPE:<br>\n",
    "<br>my_df.nuni + TAB ... see if you can use autocomplet to figure it out!\n",
    "        </div>\n",
    "    </div>\n",
    "  </div>\n",
    " </div>\n",
    "\n"
   ]
  },
  {
   "cell_type": "code",
   "execution_count": null,
   "metadata": {
    "ExecuteTime": {
     "end_time": "2020-05-06T21:13:32.528760Z",
     "start_time": "2020-05-06T21:13:32.518787Z"
    }
   },
   "outputs": [],
   "source": [
    "my_df.nmonique()    # the cell is broken, fix it"
   ]
  },
  {
   "cell_type": "markdown",
   "metadata": {
    "ExecuteTime": {
     "end_time": "2020-05-06T20:59:24.874368Z",
     "start_time": "2020-05-06T20:59:24.871376Z"
    }
   },
   "source": [
    "## Python Basics - Pandas column data types\n",
    "* find basic data types of each column"
   ]
  },
  {
   "cell_type": "code",
   "execution_count": null,
   "metadata": {
    "ExecuteTime": {
     "end_time": "2020-05-06T21:14:09.269521Z",
     "start_time": "2020-05-06T21:14:09.263537Z"
    }
   },
   "outputs": [],
   "source": [
    "my_df.dtypes  # a freebie !"
   ]
  },
  {
   "cell_type": "markdown",
   "metadata": {
    "ExecuteTime": {
     "end_time": "2020-05-06T20:59:24.888333Z",
     "start_time": "2020-05-06T20:59:24.883345Z"
    }
   },
   "source": [
    "## Python Basics - Add New Column to Pandas Dataframe\n",
    "* add a new column to my_df called \"myNew\" and fill it with  a sequence of values 0,1,2,3,4...\n"
   ]
  },
  {
   "cell_type": "markdown",
   "metadata": {},
   "source": [
    " <div class=\"panel-group\" id=\"accordion-111\">\n",
    "  <div class=\"panel panel-default\">\n",
    "    <div class=\"panel-heading\">\n",
    "      <h4 class=\"panel-title\">\n",
    "        <a data-toggle=\"collapse\" data-parent=\"#accordion-111\" href=\"#collapse1-111\">\n",
    "        Hint</a>\n",
    "      </h4>\n",
    "    </div>\n",
    "    <div id=\"collapse1-111\" class=\"panel-collapse collapse\">\n",
    "      <div class=\"panel-body\">\n",
    "Answer:<br>\n",
    "<br>my_df['myNew'] = np.arange(len(my_df))\n",
    "        </div>\n",
    "    </div>\n",
    "  </div>\n",
    " </div>\n"
   ]
  },
  {
   "cell_type": "code",
   "execution_count": null,
   "metadata": {
    "ExecuteTime": {
     "end_time": "2020-05-06T21:15:08.286724Z",
     "start_time": "2020-05-06T21:15:08.278744Z"
    }
   },
   "outputs": [],
   "source": [
    "import numpy as np   # the cell is broken, fix it\n",
    "my_df['myNew'] = np.range(len(my_df))  #lookup np range\n",
    "my_df.head()"
   ]
  },
  {
   "cell_type": "markdown",
   "metadata": {
    "ExecuteTime": {
     "end_time": "2020-05-06T20:59:24.916257Z",
     "start_time": "2020-05-06T20:59:24.912267Z"
    }
   },
   "source": [
    "## Python Basics - Pandas indexing\n",
    "* change the value of a specific row and column [0,0] to a new value using iloc\n"
   ]
  },
  {
   "cell_type": "code",
   "execution_count": null,
   "metadata": {
    "ExecuteTime": {
     "end_time": "2020-05-06T20:59:24.923238Z",
     "start_time": "2020-05-06T20:59:24.917255Z"
    }
   },
   "outputs": [],
   "source": [
    "my_df.iloc[0,0]"
   ]
  },
  {
   "cell_type": "markdown",
   "metadata": {},
   "source": [
    "## Python Basics - Filtering rows in Pandas\n",
    "\n",
    "### filter my_df to display the following \n",
    "| gender | SeniorCitizen | Partner | Dependents |\n",
    "| --- | --- | ---| ---|\n",
    "| Female | \t0 | Yes | \tNo |"
   ]
  },
  {
   "cell_type": "code",
   "execution_count": null,
   "metadata": {
    "ExecuteTime": {
     "end_time": "2020-05-06T21:16:15.068162Z",
     "start_time": "2020-05-06T21:16:15.063175Z"
    }
   },
   "outputs": [],
   "source": [
    "my_df.columns"
   ]
  },
  {
   "cell_type": "code",
   "execution_count": null,
   "metadata": {
    "ExecuteTime": {
     "end_time": "2020-05-06T21:16:30.740258Z",
     "start_time": "2020-05-06T21:16:30.704355Z"
    }
   },
   "outputs": [],
   "source": [
    "# this cell is broken fix it\n",
    "my_df[(my_df['gender'] == 'Female') & (my_df['Senior'] == 0) & (my_df['Partner'] == 'Yes') & (my_df['Depend'] == 'No')]"
   ]
  },
  {
   "cell_type": "markdown",
   "metadata": {
    "ExecuteTime": {
     "end_time": "2020-05-06T20:59:24.964129Z",
     "start_time": "2020-05-06T20:59:24.960139Z"
    }
   },
   "source": [
    "## Python Basics -Pandas sorting\n",
    "* sort the my_df by columns [InternetService, PhoneService ]"
   ]
  },
  {
   "cell_type": "code",
   "execution_count": null,
   "metadata": {
    "ExecuteTime": {
     "end_time": "2020-05-06T21:17:07.376327Z",
     "start_time": "2020-05-06T21:17:07.368349Z"
    }
   },
   "outputs": [],
   "source": [
    "my_df.sort(by=['InternetService', 'PhoneService'])  # this cell is broken, fix it"
   ]
  },
  {
   "cell_type": "markdown",
   "metadata": {
    "ExecuteTime": {
     "end_time": "2020-05-06T20:59:25.011003Z",
     "start_time": "2020-05-06T20:59:25.008011Z"
    }
   },
   "source": [
    "## Python Basics - Pandas Groupby and Aggregate\n",
    "* group the dataframe by ['InternetService', 'PhoneService'] and aggregate churn by count() "
   ]
  },
  {
   "cell_type": "code",
   "execution_count": null,
   "metadata": {
    "ExecuteTime": {
     "end_time": "2020-05-06T20:59:25.021974Z",
     "start_time": "2020-05-06T20:59:25.012999Z"
    }
   },
   "outputs": [],
   "source": [
    "my_df.groupby(['InternetService', 'PhoneService'])['Churn'].count()"
   ]
  },
  {
   "cell_type": "code",
   "execution_count": null,
   "metadata": {
    "ExecuteTime": {
     "end_time": "2020-05-06T20:59:25.026964Z",
     "start_time": "2020-05-06T20:59:25.022971Z"
    }
   },
   "outputs": [],
   "source": [
    "#how many Fiber Optic customers do NOT have phone service?"
   ]
  },
  {
   "cell_type": "code",
   "execution_count": null,
   "metadata": {
    "ExecuteTime": {
     "end_time": "2020-05-06T20:59:25.035937Z",
     "start_time": "2020-05-06T20:59:25.027970Z"
    }
   },
   "outputs": [],
   "source": [
    "my_df[(my_df['InternetService'] == 'Fiber optic') & (my_df['PhoneService'] == 'Yes') ].shape"
   ]
  },
  {
   "cell_type": "markdown",
   "metadata": {
    "ExecuteTime": {
     "end_time": "2020-05-06T16:23:55.906211Z",
     "start_time": "2020-05-06T16:23:55.903220Z"
    }
   },
   "source": [
    "# Jupyter Gotchas\n",
    "\n",
    "Can you tell which cell is code vs markdown?  It makes a difference ....\n",
    "\n",
    "in each cell below, assign the value of 12 to a variable\n",
    "\n",
    "- first  cell a = 12\n",
    "- second cell b = 12\n",
    "- third cell c = 12"
   ]
  },
  {
   "cell_type": "code",
   "execution_count": null,
   "metadata": {
    "ExecuteTime": {
     "end_time": "2020-05-06T21:17:36.322903Z",
     "start_time": "2020-05-06T21:17:36.319943Z"
    }
   },
   "outputs": [],
   "source": [
    "a = 12"
   ]
  },
  {
   "cell_type": "markdown",
   "metadata": {},
   "source": [
    "b = 12"
   ]
  },
  {
   "cell_type": "raw",
   "metadata": {},
   "source": [
    "c = 12"
   ]
  },
  {
   "cell_type": "markdown",
   "metadata": {},
   "source": [
    "c"
   ]
  },
  {
   "cell_type": "code",
   "execution_count": null,
   "metadata": {
    "ExecuteTime": {
     "end_time": "2020-05-06T20:59:25.050897Z",
     "start_time": "2020-05-06T20:59:25.040923Z"
    }
   },
   "outputs": [],
   "source": [
    "# examine the print statements of all those variables - \n",
    "\n",
    "# Anything wrong?\n",
    "\n",
    "print (a)\n",
    "print (b)\n",
    "print (c)"
   ]
  },
  {
   "cell_type": "code",
   "execution_count": null,
   "metadata": {
    "ExecuteTime": {
     "end_time": "2020-05-06T20:59:25.051895Z",
     "start_time": "2020-05-06T20:59:24.718Z"
    }
   },
   "outputs": [],
   "source": [
    "# go back into Jupyter and see what type of cell each each is marked as ... aha ..."
   ]
  },
  {
   "cell_type": "code",
   "execution_count": null,
   "metadata": {},
   "outputs": [],
   "source": []
  }
 ],
 "metadata": {
  "kernelspec": {
   "display_name": "Python 3",
   "language": "python",
   "name": "python3"
  },
  "language_info": {
   "codemirror_mode": {
    "name": "ipython",
    "version": 3
   },
   "file_extension": ".py",
   "mimetype": "text/x-python",
   "name": "python",
   "nbconvert_exporter": "python",
   "pygments_lexer": "ipython3",
   "version": "3.7.5"
  }
 },
 "nbformat": 4,
 "nbformat_minor": 1
}
