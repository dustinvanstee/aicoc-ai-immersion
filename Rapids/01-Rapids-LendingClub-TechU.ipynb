{
 "cells": [
  {
   "cell_type": "code",
   "execution_count": null,
   "metadata": {},
   "outputs": [],
   "source": [
    "# default_exp rapids"
   ]
  },
  {
   "cell_type": "code",
   "execution_count": null,
   "metadata": {},
   "outputs": [],
   "source": [
    "# export\n",
    "# Setup in notebook flag\n",
    "try: from nbdev.imports import IN_NOTEBOOK\n",
    "except: IN_NOTEBOOK=False\n"
   ]
  },
  {
   "cell_type": "markdown",
   "metadata": {},
   "source": [
    "# Introduction to Rapids\n",
    "\n",
    "<img src=\"../nb_images/rapids.png\" alt=\"Drawing\" style=\"width: 600px;\"/>\n",
    "\n",
    "\n",
    "Rapids is a data preparation and machine learning library that is designed to take maximum advantage of the Nvidia GPU.  The libraries are called cuDF and cuML and take a lot of the same design and API semantics from Pandas and Sklearn python libaries.   Speedups of over 10x are not uncommon for a lot of everyday tasks.\n",
    "\n",
    "If you are familiar with Pandas and Sklearn, this code in this lab will look familiar, but if not thats ok too.  Rapids is still under development, so it is not as full featured as the Pandas and Sklearn libraries, but it is continually getting new functions.  \n",
    "\n",
    "The following lab will walk you through how to use Rapids with a sample dataset.  **This lab will focus on the performance capabilities of RAPIDS by comparing it to Pandas and Sklearn equivalent operations.** It is not meant to be a machine learning tutorial. \n"
   ]
  },
  {
   "cell_type": "markdown",
   "metadata": {
    "ExecuteTime": {
     "end_time": "2019-09-18T14:30:19.593186Z",
     "start_time": "2019-09-18T14:30:19.590705Z"
    }
   },
   "source": [
    "## A word on performance comparisons of RAPIDS vs Pandas\n",
    "\n",
    "Pandas and Numpy are two of the most popular libraries for both data engineers and data scientists.  The libraries are very robust and perfomant, but one major drawback is that they are single threaded libraries.  When comparing RAPIDs vs Pandas/Numpy you are seeing the benefit of parallelizing these types of tasks overs potentially thousands of seperate threads.  "
   ]
  },
  {
   "cell_type": "markdown",
   "metadata": {},
   "source": [
    "## CuDF basics\n",
    "\n",
    "Built based on the Apache Arrow columnar memory format, cuDF is a GPU DataFrame library for loading, joining, aggregating, filtering, and manipulating data.\n",
    "\n",
    "cuDF provides a pandas-like API that will be familiar to data engineers & data scientists, so they can use it to easily accelerate their workflows without going into the details of CUDA programming.\n",
    "\n",
    "Definitions :\n",
    "* GPU Dataframe : a dataframe from the RAPIDS cuDF library running on the GPU\n",
    "* Apache Arrow  : common columnar in memory data format project\n",
    "* Pandas        : data preparation and engineering library\n"
   ]
  },
  {
   "cell_type": "markdown",
   "metadata": {},
   "source": [
    "### Helper functions\n",
    "\n",
    "Execute the functions below, they are needed for follow-on parts of the lab.  Note the **pgdf** function is a convenience function to display the GPU dataframe in a nice format for jupyter notebook."
   ]
  },
  {
   "cell_type": "code",
   "execution_count": null,
   "metadata": {
    "ExecuteTime": {
     "end_time": "2020-09-15T13:37:39.916847Z",
     "start_time": "2020-09-15T13:37:39.905699Z"
    }
   },
   "outputs": [],
   "source": [
    "# export\n",
    "# Imports\n",
    "import pandas as pd\n",
    "import numpy as np\n",
    "import matplotlib\n",
    "import matplotlib.pyplot as plt\n",
    "\n",
    "import warnings\n",
    "warnings.filterwarnings('ignore')\n",
    "import time\n",
    "import timeit\n",
    "\n",
    "from datetime import datetime\n",
    "import math\n",
    "\n",
    "pd.set_option('display.max_rows', 500)\n",
    "pd.set_option('display.max_columns', 500)\n",
    "pd.set_option('display.width', 1000)\n",
    "\n",
    "import glob\n",
    "import os\n",
    "import sys\n",
    "sys.path.append('../utils/') \n",
    "\n",
    "#dask\n",
    "import dask\n",
    "from dask import dataframe as dd\n",
    "\n",
    "# Rapids\n",
    "import cudf\n",
    "from cudf import DataFrame as RapidsDataFrame\n",
    "# cudf                      0.11.0          cuda10.2_py37_673.g45906b8    https://public.dhe.ibm.com/ibmdl/export/pub/software/server/ibm-ai/conda-early-access\n",
    "# libcudf                   0.11.0          cuda10.2_657.g7f5e265    https://public.dhe.ibm.com/ibmdl/export/pub/software/server/ibm-ai/conda-early-access\n",
    "import torch\n"
   ]
  },
  {
   "cell_type": "code",
   "execution_count": null,
   "metadata": {
    "ExecuteTime": {
     "end_time": "2020-09-15T13:37:50.910525Z",
     "start_time": "2020-09-15T13:37:50.667410Z"
    }
   },
   "outputs": [],
   "source": [
    "os.environ[\"CUDA_VISIBLE_DEVICES\"] = \"0\"\n",
    "print('CUDA available: {}  Using device {}'.format(torch.cuda.is_available(), os.environ['CUDA_VISIBLE_DEVICES']))\n",
    "!nvidia-smi"
   ]
  },
  {
   "cell_type": "code",
   "execution_count": null,
   "metadata": {
    "ExecuteTime": {
     "end_time": "2020-09-15T13:37:52.025978Z",
     "start_time": "2020-09-15T13:37:52.022997Z"
    }
   },
   "outputs": [],
   "source": [
    "# export\n",
    "# [print gpu dataframe] helper function to print GPU dataframes \n",
    "def pgdf(gdf) :\n",
    "    display(gdf.to_pandas())"
   ]
  },
  {
   "cell_type": "code",
   "execution_count": null,
   "metadata": {
    "ExecuteTime": {
     "end_time": "2020-09-15T13:37:53.472469Z",
     "start_time": "2020-09-15T13:37:53.468751Z"
    }
   },
   "outputs": [],
   "source": [
    "# export\n",
    "def time_command(cmd,repeat=1) :\n",
    "    avg_runtime = timeit.timeit(cmd, number=repeat)\n",
    "    return float(avg_runtime / repeat)"
   ]
  },
  {
   "cell_type": "code",
   "execution_count": null,
   "metadata": {
    "ExecuteTime": {
     "end_time": "2020-09-15T13:37:56.355818Z",
     "start_time": "2020-09-15T13:37:56.339244Z"
    }
   },
   "outputs": [],
   "source": [
    "# export\n",
    "# Dictionary to store results ..\n",
    "# example \"describe\" : {\"gpu\" : []}\n",
    "# TODO : make display results look better ..\n",
    "class COMPARE() :\n",
    "        ## Abstract Custom Implementations\n",
    "    def __init__(self) :\n",
    "        #nprint(\"Loading Data.  Overriding __init__ from dfutils\")\n",
    "        self.tests = []\n",
    "        self.gpu_results = {}\n",
    "        self.cpu_results = {}\n",
    "        self.df_shape = (0,0)\n",
    "        self.df_memory_gb = 0 \n",
    "\n",
    "    def add_result(self, test_name, gpu_result, runtime) :\n",
    "        if test_name not in self.tests :\n",
    "            self.tests.append(test_name)\n",
    "            self.gpu_results[test_name] = []\n",
    "            self.cpu_results[test_name] = []\n",
    "        \n",
    "        if(gpu_result == \"gpu\") :\n",
    "            self.gpu_results[test_name].append(runtime)\n",
    "        else :\n",
    "            self.cpu_results[test_name].append(runtime)\n",
    "            \n",
    "    def display_results(self) :\n",
    "        print(\"Dataframe size : {} {} GB\".format(self.df_shape, self.df_memory_gb))\n",
    "        print(\"{:<20} {:<20} {:<20} {:<20}\".format(\"test\", \"CPU(s)\", \"GPU(s)\", \"GPU Speedup\"))\n",
    "        for i in self.tests :\n",
    "            cpu_mean = sum(self.cpu_results[i]) / (len(self.cpu_results[i])+0.00001)\n",
    "            gpu_mean = sum(self.gpu_results[i]) / (len(self.gpu_results[i])+0.00001)\n",
    "            su = cpu_mean / (gpu_mean + .00001)\n",
    "            print(\"{:<20} {:<20.4f} {:<20.4f} {:<20.2f}\".format(i, cpu_mean, gpu_mean, su ))\n",
    "\n",
    "run_times = COMPARE()\n"
   ]
  },
  {
   "cell_type": "code",
   "execution_count": null,
   "metadata": {
    "ExecuteTime": {
     "end_time": "2020-09-15T13:37:57.190835Z",
     "start_time": "2020-09-15T13:37:57.180963Z"
    }
   },
   "outputs": [],
   "source": [
    "def pca_scree(pca_explained_variance, label) :\n",
    "        \n",
    "    # bin is my x axis variable\n",
    "    bin = []\n",
    "    for i in range (len(pca_explained_variance)):\n",
    "        bin.append(i+1)\n",
    "    # plot the cummulative variance against the index of PCA\n",
    "    cum_var = np.cumsum(pca_explained_variance)\n",
    "    plt.plot(bin, cum_var)\n",
    "    # plot the 95% threshold, so we can read off count of principal components that matter\n",
    "    plt.plot(bin, [.95]*n_components, '--')\n",
    "    plt.plot(bin, [.75]*n_components, '--')\n",
    "    plt.plot(bin, [.50]*n_components, '--')\n",
    "    #turn on grid to make graph reading easier\n",
    "    plt.grid(True)\n",
    "    #plt.rcParams.update({'font.size': 24})\n",
    "    plt.suptitle(label + ' PCA Variance Explained')\n",
    "    plt.xlabel('Number of PCA Components', fontsize=18)\n",
    "    plt.ylabel('Fraction of Variance \\nExplained', fontsize=16)\n",
    "    # control number of tick marks, \n",
    "    plt.xticks([i for i in range(0,n_components)])\n",
    "    plt.show()\n"
   ]
  },
  {
   "cell_type": "markdown",
   "metadata": {
    "ExecuteTime": {
     "end_time": "2019-08-26T14:10:21.285474Z",
     "start_time": "2019-08-26T14:10:21.282708Z"
    }
   },
   "source": [
    "### Useful DataFrame attributes\n",
    "\n",
    "When you create a GPU dataframe, there are a number of methods available for you to understand the composition.  The detailed list is found in the Rapids [cuDF documentation](https://docs.rapids.ai/api/cudf/0.7/) \n",
    "\n",
    "Below we will create a small cuDF dataframe and look at some of its attributes.  A few of these attributes come in handy when debugging \n",
    "\n",
    "* dtypes  :  Shows all the columns and associated data types \n",
    "* shape   :  Shows the shape (rows / columns) of the dataframe\n",
    "* columns :  Show the column names in a python list\n"
   ]
  },
  {
   "cell_type": "code",
   "execution_count": null,
   "metadata": {
    "ExecuteTime": {
     "end_time": "2020-09-15T13:38:04.562113Z",
     "start_time": "2020-09-15T13:37:58.564705Z"
    }
   },
   "outputs": [],
   "source": [
    "# Create a simple GPU dataframe\n",
    "df = cudf.DataFrame()\n",
    "df['column1'] = [0, 1, 2, 3, 4]\n",
    "df['column2'] = [float(i + 10) for i in range(5)]  # insert column\n",
    "df['column3'] = [\"bbb\",\"aaa\",\"ccc\",\"eee\",\"Ddd\"]  # insert column"
   ]
  },
  {
   "cell_type": "code",
   "execution_count": null,
   "metadata": {
    "ExecuteTime": {
     "end_time": "2020-09-15T13:54:05.515500Z",
     "start_time": "2020-09-15T13:54:05.493311Z"
    }
   },
   "outputs": [],
   "source": [
    "#Print the dataframe\n",
    "pgdf(df)"
   ]
  },
  {
   "cell_type": "code",
   "execution_count": null,
   "metadata": {
    "ExecuteTime": {
     "end_time": "2020-09-15T13:54:06.987458Z",
     "start_time": "2020-09-15T13:54:06.979179Z"
    }
   },
   "outputs": [],
   "source": [
    "# Dataframe attributes\n",
    "print(\"\\nDataframe datatypes\\n---------------------\")\n",
    "print(df.dtypes)\n",
    "print(\"\\nDataframe Shape\\n---------------------\")\n",
    "print(df.shape)\n",
    "print(\"\\nDataframe dimensions\\n---------------------\")\n",
    "print(df.ndim)\n",
    "print(\"\\nDataframe Column names\\n---------------------\")\n",
    "print(df.columns)"
   ]
  },
  {
   "cell_type": "markdown",
   "metadata": {
    "ExecuteTime": {
     "end_time": "2019-09-18T14:05:34.555877Z",
     "start_time": "2019-09-18T14:05:34.553373Z"
    }
   },
   "source": [
    "### Create a cuDF dataframe from Numpy/Pandas array\n",
    "Rapids cuDF supports the conversion of pandas and numpy arrays to cuDF dataframes.  In the example below we show examples of how you can do this for each type"
   ]
  },
  {
   "cell_type": "code",
   "execution_count": null,
   "metadata": {
    "ExecuteTime": {
     "end_time": "2020-09-15T13:54:09.200606Z",
     "start_time": "2020-09-15T13:54:08.640939Z"
    }
   },
   "outputs": [],
   "source": [
    "# Numpy array to cuDF\n",
    "# Dataframe Operations : Create random large array 100x100\n",
    "a = np.random.rand(100,100)\n",
    "df_np = cudf.DataFrame()\n",
    "df_np = df.from_records(a)\n",
    "#df['random_column1'] = [0, 1, 2, 3, 4]\n",
    "pgdf(df_np.head())"
   ]
  },
  {
   "cell_type": "code",
   "execution_count": null,
   "metadata": {
    "ExecuteTime": {
     "end_time": "2020-09-15T13:54:10.439334Z",
     "start_time": "2020-09-15T13:54:10.423644Z"
    }
   },
   "outputs": [],
   "source": [
    "# Pandas Example\n",
    "pdf = pd.DataFrame({'a': [0, 1, 2, 3],'b': [0.1, 0.2, None, 0.3]})\n",
    "df = cudf.from_pandas(pdf)\n",
    "pgdf(df)"
   ]
  },
  {
   "cell_type": "markdown",
   "metadata": {},
   "source": [
    "### Dataframe Operations : Slice  Example - grab 3 arbitrary columns\n",
    "\n",
    "Sometimes you want to grab slices of dataframes.  Here you can just pass a list of column names to the GPU dataframe to return the columns you want."
   ]
  },
  {
   "cell_type": "code",
   "execution_count": null,
   "metadata": {
    "ExecuteTime": {
     "end_time": "2020-09-15T13:54:11.784483Z",
     "start_time": "2020-09-15T13:54:11.749900Z"
    }
   },
   "outputs": [],
   "source": [
    "# Use the df_np array we created above and grab columns 0,1, and 5\n",
    "new_df = df_np[[0,1,5]] \n",
    "pgdf(new_df.head(10))"
   ]
  },
  {
   "cell_type": "markdown",
   "metadata": {
    "ExecuteTime": {
     "end_time": "2019-09-18T14:14:36.327434Z",
     "start_time": "2019-09-18T14:14:36.325191Z"
    }
   },
   "source": [
    "### Optional Exercise : Create a Random numpy array 1000 x 1000 and then convert to GPU dataframe.  The select columns 444,555,888 from the array.\n",
    "\n"
   ]
  },
  {
   "cell_type": "code",
   "execution_count": null,
   "metadata": {},
   "outputs": [],
   "source": []
  },
  {
   "cell_type": "markdown",
   "metadata": {},
   "source": [
    "## CuML basics\n",
    "\n",
    "CuML is the a machine learning library implemented on the Nvidia GPU.  This allows you to use many of the most common machine learning algorithms without having to write CUDA code.  The list of algorithms is growing with each release so its worth taking a look at the cuML github repo, but in general you can expect a 10x to 50x performance speedup when using the GPU enabled algorithm.  **Later in this lab we will see examples of PCA and linear regression.**"
   ]
  },
  {
   "cell_type": "markdown",
   "metadata": {},
   "source": [
    "## Dask\n",
    "\n",
    "<img src=\"../nb_images/dask.png\" alt=\"Drawing\" style=\"float :left; margin-right: 20px; width: 200px;\" />\n",
    "\n",
    "\n",
    "Dask is an extremely useful python library that enables parallel execution of arbitrary python programs allowing you to make maximum use of system resources.  It is typically used for libraries that are written in single threaded implementation like pandas and numpy, but its also very useful for running many a parallel tasks when using RAPIDS.  We will have a code sample to demonstrate this at the end of the lab.\n"
   ]
  },
  {
   "cell_type": "markdown",
   "metadata": {},
   "source": [
    "# Lab Use Case \n",
    "\n",
    "**The main goal of this lab is to focus on the performance differences of Rapids(GPU) vs Pandas/Sklearn (CPU) implementations.**  \n",
    "<br>\n",
    "\n",
    "<img src=\"../nb_images/lendingclub.png\" alt=\"Drawing\" style=\"float :left; margin-right: 20px; width: 300px;\" />\n",
    "<br>To do this we will use the Lending Club publicly available dataset. \n",
    "This data set is published by lending club and contains information regarding prospective loan applicants.    \n",
    "<br><br><br><br>\n",
    "\n",
    "**As we go through the lab, we will show the similarity in the syntax/usage of the RAPIDS library using this real world dataset and keep track of the runtimes in a comparison report.**\n",
    "\n"
   ]
  },
  {
   "cell_type": "markdown",
   "metadata": {
    "ExecuteTime": {
     "end_time": "2019-08-23T16:25:07.742462Z",
     "start_time": "2019-08-23T16:25:07.740235Z"
    }
   },
   "source": [
    "# Lending Club data and Lab Details\n",
    "\n",
    "Here we will load in the lending club dataset and perform some basic data preparation steps.  \n",
    "\n",
    "Each section is composed of the same workflow\n",
    "\n",
    "- timed cpu example\n",
    "- timed gpu example\n",
    "- comparison of results\n",
    "- logging of runtimes into a comparison table"
   ]
  },
  {
   "cell_type": "markdown",
   "metadata": {},
   "source": [
    "\n",
    "## Load the Lending Club Data\n",
    "\n",
    "Here we will load the data twice.  Once into a pandas dataframe **loan_pdf** and once into a rapids dataframe **loan_rdf**.  "
   ]
  },
  {
   "cell_type": "code",
   "execution_count": null,
   "metadata": {
    "ExecuteTime": {
     "end_time": "2020-09-15T14:04:50.375679Z",
     "start_time": "2020-09-15T14:04:49.980561Z"
    }
   },
   "outputs": [],
   "source": [
    "# export\n",
    "\n",
    "filename = None\n",
    "if not IN_NOTEBOOK:\n",
    "    filename = \"../Rapids/loan_project_df.parquet.gzip\"\n",
    "else :\n",
    "    # import data\n",
    "    filename = \"./loan_project_df.parquet.gzip\"\n",
    "\n",
    "# Expand data to highlight performance difference\n",
    "# 3 ~ 1GB dataset\n",
    "# 4 ~ 2GB dataset \n",
    "# ... etc\n",
    "DATA_DOUBLE_FACTOR=3\n",
    "\n",
    "# Pandas dataframe\n",
    "loan_pdf = pd.read_parquet(filename)#  , names=ts_cols,dtype=ts_dtypes,skiprows=1)\n",
    "\n",
    "# Rapids Dataframe\n",
    "loan_rdf = cudf.read_parquet(filename)#  , names=ts_cols,dtype=ts_dtypes,skiprows=1)"
   ]
  },
  {
   "cell_type": "code",
   "execution_count": null,
   "metadata": {
    "ExecuteTime": {
     "end_time": "2020-09-15T14:04:56.165399Z",
     "start_time": "2020-09-15T14:04:53.739104Z"
    }
   },
   "outputs": [],
   "source": [
    "# export\n",
    "# Scale up data to 10 million rows \n",
    "for i in range(DATA_DOUBLE_FACTOR) :\n",
    "    loan_pdf = pd.concat([loan_pdf,loan_pdf],axis=0)\n",
    "    loan_rdf = cudf.concat([loan_rdf,loan_rdf],axis=0)\n",
    "    loan_rdf = loan_rdf.reset_index().drop(\"index\",axis=1)\n",
    "    loan_pdf = loan_pdf.reset_index().drop(\"index\",axis=1)\n",
    "    #pgdf(loan_rdf.head())\n",
    "    #display(loan_pdf.head())\n",
    "    "
   ]
  },
  {
   "cell_type": "markdown",
   "metadata": {
    "ExecuteTime": {
     "end_time": "2019-09-24T15:24:35.673672Z",
     "start_time": "2019-09-24T15:24:35.669534Z"
    }
   },
   "source": [
    "### RAPIDS Dataframe attributes\n",
    "Take a look at both the Rapids dataframe and Pandas dataframe printouts below and convince yourself these are the same"
   ]
  },
  {
   "cell_type": "code",
   "execution_count": null,
   "metadata": {
    "ExecuteTime": {
     "end_time": "2020-09-15T14:05:00.109299Z",
     "start_time": "2020-09-15T14:05:00.099871Z"
    }
   },
   "outputs": [],
   "source": [
    "# export\n",
    "\n",
    "# Dataframe attributes\n",
    "print(\"Rapids\")\n",
    "print(\"\\nDataframe datatypes\\n---------------------\")\n",
    "print(loan_rdf.dtypes)\n",
    "print(\"\\nDataframe Shape (rows,cols)\\n---------------------\")\n",
    "print(loan_rdf.shape)\n",
    "print(\"\\nDataframe dimensions\\n---------------------\")\n",
    "print(loan_rdf.ndim)\n",
    "print(\"\\nDataframe Column names\\n---------------------\")\n",
    "print(loan_rdf.columns)\n"
   ]
  },
  {
   "cell_type": "markdown",
   "metadata": {
    "ExecuteTime": {
     "end_time": "2019-09-24T15:25:07.038547Z",
     "start_time": "2019-09-24T15:25:07.034741Z"
    }
   },
   "source": [
    "### Pandas Dataframe attributes\n"
   ]
  },
  {
   "cell_type": "code",
   "execution_count": null,
   "metadata": {
    "ExecuteTime": {
     "end_time": "2020-09-15T14:05:03.189446Z",
     "start_time": "2020-09-15T14:05:03.176457Z"
    }
   },
   "outputs": [],
   "source": [
    "# export\n",
    "\n",
    "# Dataframe attributes\n",
    "print(\"\\n\\nPandas\")\n",
    "print(\"\\nDataframe datatypes\\n---------------------\")\n",
    "print(loan_pdf.dtypes)\n",
    "print(\"\\nDataframe Shape (rows,cols)\\n---------------------\")\n",
    "print(loan_pdf.shape)\n",
    "print(\"\\nDataframe dimensions\\n---------------------\")\n",
    "print(loan_pdf.ndim)\n",
    "print(\"\\nDataframe Column names\\n---------------------\")\n",
    "print(loan_pdf.columns)\n",
    "print(\"\\nDataframe Memory Usage\\n---------------------\")\n",
    "print(loan_pdf.memory_usage(index=True).sum())\n"
   ]
  },
  {
   "cell_type": "markdown",
   "metadata": {
    "ExecuteTime": {
     "end_time": "2019-09-23T11:19:53.404655Z",
     "start_time": "2019-09-23T11:19:53.402386Z"
    }
   },
   "source": [
    "### Inspect DataSet and Size"
   ]
  },
  {
   "cell_type": "code",
   "execution_count": null,
   "metadata": {
    "ExecuteTime": {
     "end_time": "2020-09-15T14:05:04.409598Z",
     "start_time": "2020-09-15T14:05:04.402927Z"
    }
   },
   "outputs": [],
   "source": [
    "%nbdev_export\n",
    "\n",
    "run_times.df_shape = loan_pdf.shape\n",
    "run_times.df_memory_gb = loan_pdf.memory_usage(index=True).sum() /10**9\n",
    "\n",
    "print(\"Initial Data set size ~= {:0.3f} GB for this experiment\".format(run_times.df_memory_gb))\n"
   ]
  },
  {
   "cell_type": "code",
   "execution_count": null,
   "metadata": {
    "ExecuteTime": {
     "end_time": "2020-09-15T14:05:07.544053Z",
     "start_time": "2020-09-15T14:05:05.223552Z"
    },
    "scrolled": true
   },
   "outputs": [],
   "source": [
    "# Print out a small sample of the dataframe\n",
    "pgdf(loan_rdf)"
   ]
  },
  {
   "cell_type": "markdown",
   "metadata": {
    "ExecuteTime": {
     "end_time": "2019-08-26T19:36:33.650293Z",
     "start_time": "2019-08-26T19:36:33.647835Z"
    }
   },
   "source": [
    "## Descriptive Statistics - Describe Performance comparison\n",
    "\n",
    "The first comparison we will make is using the describe function.  Describe is useful because it looks at all the descriptive statistics of the dataset.  It calculates **mean/standard deviation/medain statistics** for all the numerical columns.  If you have a large dataframe it can take some time to calculate.  Lets see how Rapids performs  with this dataset."
   ]
  },
  {
   "cell_type": "code",
   "execution_count": null,
   "metadata": {
    "ExecuteTime": {
     "end_time": "2020-09-15T14:05:07.598478Z",
     "start_time": "2020-09-15T14:05:07.121Z"
    }
   },
   "outputs": [],
   "source": [
    "# CPU / pandas\n",
    "loan_pdf.describe()"
   ]
  },
  {
   "cell_type": "code",
   "execution_count": null,
   "metadata": {
    "ExecuteTime": {
     "end_time": "2020-09-15T14:05:08.051036Z",
     "start_time": "2020-09-15T14:05:07.743952Z"
    }
   },
   "outputs": [],
   "source": [
    "# GPU / Rapids\n",
    "pgdf(loan_rdf.describe())"
   ]
  },
  {
   "cell_type": "code",
   "execution_count": null,
   "metadata": {
    "ExecuteTime": {
     "end_time": "2020-09-15T14:05:13.207023Z",
     "start_time": "2020-09-15T14:05:09.076046Z"
    }
   },
   "outputs": [],
   "source": [
    "# export\n",
    "\n",
    "# Record results\n",
    "def describe_gpu():\n",
    "    loan_rdf.describe()\n",
    "\n",
    "def describe_cpu():\n",
    "    loan_pdf.describe()\n",
    "\n",
    "#display(loan_rdf.describe().to_pandas())\n",
    "\n",
    "run_times.add_result(\"describe\", \"gpu\", time_command(describe_gpu))\n",
    "run_times.add_result(\"describe\", \"cpu\", time_command(describe_cpu))\n",
    "\n",
    "run_times.display_results()"
   ]
  },
  {
   "cell_type": "markdown",
   "metadata": {},
   "source": [
    "## One Hot Encoding (OHE) Performance Comparison\n",
    "\n",
    "One hot encoding is a process by which categorical variables are converted into a form that could be provided to ML algorithms to do a better job in prediction.\n",
    "\n",
    "Currently, one hot endcoding for Rapids requires the column that is to be encoded to be an integer or float, not a string.  You will need to create an integer column prior to using this!  You can use the hash_encode method to accomplish this, although you lose a little bit of readability.  In future versions of the software this is fixed."
   ]
  },
  {
   "cell_type": "code",
   "execution_count": null,
   "metadata": {
    "ExecuteTime": {
     "end_time": "2020-09-15T14:05:20.156344Z",
     "start_time": "2020-09-15T14:05:19.299242Z"
    }
   },
   "outputs": [],
   "source": [
    "# CPU / pandas example\n",
    "ohe_cpu_df = pd.get_dummies(loan_pdf['grade'])"
   ]
  },
  {
   "cell_type": "code",
   "execution_count": null,
   "metadata": {},
   "outputs": [],
   "source": [
    "tmpdf = cudf.DataFrame()\n",
    "tmpdf['grade'] = loan_pdf['grade']\n",
    "ohe_gpu_df = cudf.get_dummies(tmpdf)\n",
    "#loan_rdf['grade'].dtype"
   ]
  },
  {
   "cell_type": "code",
   "execution_count": null,
   "metadata": {
    "ExecuteTime": {
     "end_time": "2020-09-15T14:05:20.903314Z",
     "start_time": "2020-09-15T14:05:20.875574Z"
    }
   },
   "outputs": [],
   "source": [
    "# Compare the results\n",
    "print(\"Pandas ...\")\n",
    "display(ohe_cpu_df.head(10))\n",
    "#pgdf(ohe_gpu_df[ohe_gpu_df['grade']=='A'].head(20))\n",
    "print(\"Rapids ...\")\n",
    "display(ohe_gpu_df.head(10))\n",
    "\n"
   ]
  },
  {
   "cell_type": "code",
   "execution_count": null,
   "metadata": {
    "ExecuteTime": {
     "end_time": "2020-09-15T14:05:23.220062Z",
     "start_time": "2020-09-15T14:05:21.565717Z"
    }
   },
   "outputs": [],
   "source": [
    "# export\n",
    "# Record the results\n",
    "\n",
    "def ohe_cpu() :\n",
    "    x=pd.get_dummies(loan_pdf['grade'])\n",
    "\n",
    "def ohe_gpu() :\n",
    "    tmpdf = cudf.DataFrame()\n",
    "    tmpdf['grade'] = loan_pdf['grade']\n",
    "    x=ohe_gpu_df = cudf.get_dummies(tmpdf)\n",
    "\n",
    "run_times.add_result(\"one_hot_encode\", \"cpu\", time_command(ohe_cpu))\n",
    "run_times.add_result(\"one_hot_encode\", \"gpu\", time_command(ohe_gpu))\n",
    "run_times.display_results()\n"
   ]
  },
  {
   "cell_type": "markdown",
   "metadata": {},
   "source": [
    "## Filter with Date and Time ops - Performance comparison\n",
    "\n",
    "Current datetime functionality is limited to filtering data set for specific times.  Datetime doesn't not yet support math operations.\n",
    "\n",
    "Here we will find loan applicants that have a credit line prior to 2010."
   ]
  },
  {
   "cell_type": "code",
   "execution_count": null,
   "metadata": {
    "ExecuteTime": {
     "end_time": "2020-09-15T14:05:39.221518Z",
     "start_time": "2020-09-15T14:05:39.217524Z"
    }
   },
   "outputs": [],
   "source": [
    "# export\n",
    "import datetime as dt\n",
    "\n",
    "search_date = dt.datetime.strptime('2010-01-01', '%Y-%m-%d')"
   ]
  },
  {
   "cell_type": "code",
   "execution_count": null,
   "metadata": {
    "ExecuteTime": {
     "end_time": "2020-09-15T14:05:40.740655Z",
     "start_time": "2020-09-15T14:05:40.059219Z"
    }
   },
   "outputs": [],
   "source": [
    "# CPU / pandas\n",
    "query_cpu=loan_pdf.query('earliest_cr_line <= @search_date')\n"
   ]
  },
  {
   "cell_type": "code",
   "execution_count": null,
   "metadata": {
    "ExecuteTime": {
     "end_time": "2020-09-15T14:05:42.777481Z",
     "start_time": "2020-09-15T14:05:42.386926Z"
    }
   },
   "outputs": [],
   "source": [
    "# GPU / Rapids\n",
    "query_gpu=loan_rdf.query('earliest_cr_line <= @search_date')\n"
   ]
  },
  {
   "cell_type": "code",
   "execution_count": null,
   "metadata": {
    "ExecuteTime": {
     "end_time": "2020-09-15T14:05:44.299311Z",
     "start_time": "2020-09-15T14:05:44.211770Z"
    }
   },
   "outputs": [],
   "source": [
    "# compare results\n",
    "display(query_cpu.head())\n",
    "pgdf(query_gpu.head())"
   ]
  },
  {
   "cell_type": "code",
   "execution_count": null,
   "metadata": {
    "ExecuteTime": {
     "end_time": "2020-09-15T14:05:50.767841Z",
     "start_time": "2020-09-15T14:05:48.521648Z"
    }
   },
   "outputs": [],
   "source": [
    "# export\n",
    "# Filter Record results\n",
    "def filter_cpu():\n",
    "    loan_pdf.query('earliest_cr_line <= @search_date')\n",
    "    \n",
    "def filter_gpu():\n",
    "    loan_rdf.query('earliest_cr_line <= @search_date')\n",
    "    \n",
    "run_times.add_result(\"filter_dt\", \"cpu\", time_command(filter_cpu,repeat=3))\n",
    "run_times.add_result(\"filter_dt\", \"gpu\", time_command(filter_gpu,repeat=3))\n",
    "run_times.display_results()\n"
   ]
  },
  {
   "cell_type": "markdown",
   "metadata": {},
   "source": [
    "## Sort by value\n",
    "\n",
    "Sorting is a very expensive operation in data preparation so its useful to evaluate the performance of method.  Here we select a column to sort by and then compare the results."
   ]
  },
  {
   "cell_type": "code",
   "execution_count": null,
   "metadata": {
    "ExecuteTime": {
     "end_time": "2020-09-15T14:05:55.657076Z",
     "start_time": "2020-09-15T14:05:52.281121Z"
    }
   },
   "outputs": [],
   "source": [
    "# CPU / pandas\n",
    "sort_cpu=loan_pdf.sort_values(by='fico_range_high')"
   ]
  },
  {
   "cell_type": "code",
   "execution_count": null,
   "metadata": {
    "ExecuteTime": {
     "end_time": "2020-09-15T14:05:58.994514Z",
     "start_time": "2020-09-15T14:05:58.252632Z"
    }
   },
   "outputs": [],
   "source": [
    "# GPU / Rapids\n",
    "sort_gpu=loan_rdf.sort_values(by='fico_range_high')"
   ]
  },
  {
   "cell_type": "code",
   "execution_count": null,
   "metadata": {
    "ExecuteTime": {
     "end_time": "2020-09-15T14:06:00.069571Z",
     "start_time": "2020-09-15T14:05:59.959762Z"
    }
   },
   "outputs": [],
   "source": [
    "# compare results\n",
    "display(sort_cpu.head())\n",
    "pgdf(sort_gpu.head())"
   ]
  },
  {
   "cell_type": "code",
   "execution_count": null,
   "metadata": {
    "ExecuteTime": {
     "end_time": "2020-09-15T14:06:09.247536Z",
     "start_time": "2020-09-15T14:06:01.400973Z"
    }
   },
   "outputs": [],
   "source": [
    "# export\n",
    "# Sorting Record results\n",
    "def sort_cpu():\n",
    "    loan_pdf.sort_values(by='fico_range_high')\n",
    "    \n",
    "def sort_gpu():\n",
    "    loan_rdf.sort_values(by='fico_range_high')\n",
    "    \n",
    "run_times.add_result(\"sorting\", \"cpu\", time_command(sort_cpu, repeat=2))\n",
    "run_times.add_result(\"sorting\", \"gpu\", time_command(sort_gpu, repeat=2))\n",
    "run_times.display_results()\n"
   ]
  },
  {
   "cell_type": "markdown",
   "metadata": {},
   "source": [
    "## Histograms and Custom functions\n",
    "\n",
    "Here we demonstrate how fast Rapids is at creating histogram bins.  We use the loan_amount column with a custom function to create a loan_bins column.  Then we grab the value counts using both Pandas and Rapids to get a rough comparison of the speed of these types of operations.\n"
   ]
  },
  {
   "cell_type": "code",
   "execution_count": null,
   "metadata": {
    "ExecuteTime": {
     "end_time": "2020-09-15T14:06:11.082183Z",
     "start_time": "2020-09-15T14:06:11.078109Z"
    }
   },
   "outputs": [],
   "source": [
    "# export\n",
    "# custom function example : creates simple bins for loan_amount histogram\n",
    "def roundto(num):\n",
    "    roundto=5000\n",
    "    a = int(num / roundto)\n",
    "    return float(a*roundto) \n"
   ]
  },
  {
   "cell_type": "code",
   "execution_count": null,
   "metadata": {
    "ExecuteTime": {
     "end_time": "2020-09-15T14:06:24.481672Z",
     "start_time": "2020-09-15T14:06:12.436869Z"
    }
   },
   "outputs": [],
   "source": [
    "# CPU / pandas\n",
    "\n",
    "loan_pdf['loan_bins'] = loan_pdf.loan_amnt.apply(roundto)\n",
    "loan_pdf['loan_bins'].value_counts()\n"
   ]
  },
  {
   "cell_type": "code",
   "execution_count": null,
   "metadata": {
    "ExecuteTime": {
     "end_time": "2020-09-15T14:06:30.615482Z",
     "start_time": "2020-09-15T14:06:29.851272Z"
    }
   },
   "outputs": [],
   "source": [
    "# GPU / rapids\n",
    "loan_rdf['loan_bins'] = loan_rdf.loan_amnt.applymap(roundto)\n",
    "print(loan_rdf['loan_bins'].value_counts())\n",
    "\n"
   ]
  },
  {
   "cell_type": "code",
   "execution_count": null,
   "metadata": {
    "ExecuteTime": {
     "end_time": "2020-09-15T14:06:47.253347Z",
     "start_time": "2020-09-15T14:06:35.129773Z"
    },
    "scrolled": true
   },
   "outputs": [],
   "source": [
    "# export\n",
    "# Record the results\n",
    "def hist_cpu() :\n",
    "    loan_pdf['loan_bins'] = loan_pdf.loan_amnt.apply(roundto)\n",
    "    loan_pdf['loan_bins'].value_counts()\n",
    "\n",
    "def hist_gpu() :\n",
    "    loan_rdf['loan_bins'] = loan_rdf.loan_amnt.applymap(roundto)\n",
    "    loan_rdf['loan_bins'].value_counts()\n",
    "\n",
    "run_times.add_result(\"histogram_ops\", \"cpu\", time_command(hist_cpu,repeat=3))\n",
    "run_times.add_result(\"histogram_ops\", \"gpu\", time_command(hist_gpu,repeat=3))\n",
    "run_times.display_results()\n"
   ]
  },
  {
   "cell_type": "markdown",
   "metadata": {},
   "source": [
    "## Groupby \n",
    "\n",
    "Here we perform some aggregation on the lending club data set to get some **per grade statistics**.  For this exercise we will compare the speed of aggregating over Pandas dataframes and Rapids dataframes using the **groupby** function as shown in the [Rapids documentation](https://docs.rapids.ai/api/cudf/stable/) .  Notice how the syntax is exactly the same!"
   ]
  },
  {
   "cell_type": "code",
   "execution_count": null,
   "metadata": {
    "ExecuteTime": {
     "end_time": "2020-09-15T14:07:22.522717Z",
     "start_time": "2020-09-15T14:07:21.506934Z"
    }
   },
   "outputs": [],
   "source": [
    "# export\n",
    "# CPU / Pandas\n",
    "# stats by grade\n",
    "#grade_stats_pdf = loan_pdf.groupby('grade', as_index=False).agg({\"annual_inc\": [\"count\",\"mean\"], \"loan_amnt\": [\"count\",\"mean\"]})\n",
    "grade_stats_pdf = loan_pdf.groupby('grade', as_index=False).agg({\"annual_inc\": \"mean\", \"loan_amnt\": \"mean\"})\n"
   ]
  },
  {
   "cell_type": "code",
   "execution_count": null,
   "metadata": {
    "ExecuteTime": {
     "end_time": "2020-09-15T14:07:23.756476Z",
     "start_time": "2020-09-15T14:07:23.385188Z"
    }
   },
   "outputs": [],
   "source": [
    "# export\n",
    "#GPU / Rapids\n",
    "# stats by grade\n",
    "# grade_stats_rdf = loan_rdf.groupby('grade', as_index=False).agg({\"annual_inc\": \"count\",\"annual_inc\": \"mean\", \"loan_amnt\": \"count\",\"loan_amnt\":\"mean\"})\n",
    "grade_stats_rdf = loan_rdf.groupby('grade', as_index=False).agg({\"annual_inc\": \"mean\",\"loan_amnt\":\"mean\"})\n"
   ]
  },
  {
   "cell_type": "code",
   "execution_count": null,
   "metadata": {
    "ExecuteTime": {
     "end_time": "2020-09-15T14:07:24.709345Z",
     "start_time": "2020-09-15T14:07:24.686986Z"
    }
   },
   "outputs": [],
   "source": [
    "# Grade summary statistics\n",
    "display(grade_stats_pdf)\n",
    "pgdf(grade_stats_rdf)"
   ]
  },
  {
   "cell_type": "code",
   "execution_count": null,
   "metadata": {
    "ExecuteTime": {
     "end_time": "2020-09-15T14:07:30.148039Z",
     "start_time": "2020-09-15T14:07:25.599191Z"
    }
   },
   "outputs": [],
   "source": [
    "# export\n",
    "# Record the results\n",
    "\n",
    "def groupby_cpu() :\n",
    "    loan_pdf.groupby('grade', as_index=False).agg({\"annual_inc\": \"mean\", \"loan_amnt\": \"mean\"})\n",
    "# export\n",
    "\n",
    "def groupby_gpu() :\n",
    "    loan_rdf.groupby('grade', as_index=False).agg({\"annual_inc\": \"mean\",\"loan_amnt\":\"mean\"})\n",
    "\n",
    "run_times.add_result(\"groupby_ops\", \"cpu\", time_command(groupby_cpu,repeat=4))\n",
    "run_times.add_result(\"groupby_ops\", \"gpu\", time_command(groupby_gpu,repeat=4))\n",
    "run_times.display_results()"
   ]
  },
  {
   "cell_type": "markdown",
   "metadata": {},
   "source": [
    "## Join \n",
    "\n",
    "Joining two dataframes can be an extremely computationally expensive task.  **Here we take the grade summary statistics computed in the groupby experiment above, and join it back with our table using grade as the key**.  This is a common practice in machine learning to apply average values per group back to the individual row.  This is a form of [mean encoding](https://towardsdatascience.com/why-you-should-try-mean-encoding-17057262cd0)"
   ]
  },
  {
   "cell_type": "code",
   "execution_count": null,
   "metadata": {
    "ExecuteTime": {
     "end_time": "2020-09-15T14:07:37.546061Z",
     "start_time": "2020-09-15T14:07:34.703103Z"
    }
   },
   "outputs": [],
   "source": [
    "# Pandas Join\n",
    "loan_join_pdf = loan_pdf.set_index('grade').join(grade_stats_pdf.set_index('grade'),lsuffix='_l',rsuffix='_r',on=\"grade\",how=\"left\").reset_index()"
   ]
  },
  {
   "cell_type": "code",
   "execution_count": null,
   "metadata": {
    "ExecuteTime": {
     "end_time": "2020-09-15T14:07:39.542412Z",
     "start_time": "2020-09-15T14:07:39.527636Z"
    }
   },
   "outputs": [],
   "source": [
    "#cuDF Join\n",
    "loan_join_rdf = loan_rdf.set_index('grade').join(grade_stats_rdf.set_index('grade'),lsuffix='_l',rsuffix='_r',how=\"left\").reset_index()"
   ]
  },
  {
   "cell_type": "code",
   "execution_count": null,
   "metadata": {},
   "outputs": [],
   "source": [
    "# display the results\n",
    "display(loan_join_pdf.head(5))\n",
    "display(loan_join_rdf.head(5))\n"
   ]
  },
  {
   "cell_type": "code",
   "execution_count": null,
   "metadata": {
    "ExecuteTime": {
     "end_time": "2020-09-15T14:06:47.315862Z",
     "start_time": "2020-09-15T14:06:43.686Z"
    }
   },
   "outputs": [],
   "source": [
    "# export\n",
    "# Record the results\n",
    "def join_cpu() :\n",
    "    loan_join_pdf = loan_pdf.set_index('grade').join(grade_stats_pdf.set_index('grade'),lsuffix='_l',rsuffix='_r',on=\"grade\",how=\"left\").reset_index()\n",
    "def join_gpu() :\n",
    "    loan_join_rdf = loan_rdf.set_index('grade').join(grade_stats_rdf.set_index('grade'),lsuffix='_l',rsuffix='_r',on=\"grade\",how=\"left\").reset_index()\n",
    "\n",
    "run_times.add_result(\"join_ops\", \"cpu\", time_command(join_cpu,repeat=1))\n",
    "run_times.add_result(\"join_ops\", \"gpu\", time_command(join_gpu,repeat=1))\n",
    "run_times.display_results()"
   ]
  },
  {
   "cell_type": "markdown",
   "metadata": {},
   "source": [
    "# Machine Learning"
   ]
  },
  {
   "cell_type": "markdown",
   "metadata": {},
   "source": [
    "## PCA (cuML and sklearn) - Performance comparison\n",
    "\n",
    "<img src=\"https://github.com/dustinvanstee/random-public-files/raw/master/techu-pca.png\"  width=\"200\" height=\"125\" align=\"middle\"/>\n",
    "\n",
    "Principal component analysis (PCA) is a statistical procedure that uses an orthogonal transformation to convert a set of observations of possibly correlated variables into a set of values of linearly uncorrelated variables called principal components. The number of principal components is less than or equal to the number of original variables.\n",
    "\n",
    "A simple way to think about PCA is that it helps compress the data in a lossy representation of the original dataset.\n",
    "\n",
    "**Lets compare the performance of the Sklearn (cpu-based) implemenation vs cuML!**"
   ]
  },
  {
   "cell_type": "code",
   "execution_count": null,
   "metadata": {
    "ExecuteTime": {
     "end_time": "2020-09-15T14:07:51.009769Z",
     "start_time": "2020-09-15T14:07:51.005131Z"
    }
   },
   "outputs": [],
   "source": [
    "# export\n",
    "# Helper function to normalize GPU dataframe function\n",
    "def normalize_df(gdf) :\n",
    "    for col in gdf.columns :\n",
    "        gdf[col] = (gdf[col] - gdf[col].mean()) / gdf[col].std()\n",
    "    return gdf"
   ]
  },
  {
   "cell_type": "markdown",
   "metadata": {
    "ExecuteTime": {
     "end_time": "2019-09-11T13:50:47.173784Z",
     "start_time": "2019-09-11T13:50:47.171460Z"
    }
   },
   "source": [
    "### Prepare the data for PCA [not timed]\n",
    "Here we do some initial data preparation to normalize the dataframe columns.  We arent comparing performance of this step, its just to get us ready to do the comparison."
   ]
  },
  {
   "cell_type": "code",
   "execution_count": null,
   "metadata": {
    "ExecuteTime": {
     "end_time": "2020-09-15T14:07:53.169210Z",
     "start_time": "2020-09-15T14:07:52.433028Z"
    }
   },
   "outputs": [],
   "source": [
    "# export\n",
    "X_cols = list(loan_rdf.columns)\n",
    "print(\"Analysis Continuing with {}\".format(X_cols))\n",
    "X_cols.remove('default')\n",
    "X_cols.remove('grade')\n",
    "# X_cols.remove('grade_hash')\n",
    "X_cols = [x for x in X_cols if loan_rdf[x].dtype == \"float64\" or loan_rdf[x].dtype == \"int8\"]\n",
    "print(\"Analysis Continuing with {}\".format(X_cols))\n",
    "# All types must be same ....\n",
    "for x in X_cols :\n",
    "    loan_rdf[x] = loan_rdf[x].astype(\"float64\")\n",
    "\n",
    "#print(loan_rdf[X_cols].dtypes)\n",
    "print(\"Normalizing dataframe prior to PCA\")\n",
    "loan_norm_rdf = normalize_df(loan_rdf[X_cols])\n",
    "print(\"Copying dataframe to pandas\")\n",
    "loan_norm_pdf = loan_norm_rdf.to_pandas()\n"
   ]
  },
  {
   "cell_type": "code",
   "execution_count": null,
   "metadata": {
    "ExecuteTime": {
     "end_time": "2020-09-15T14:07:54.579722Z",
     "start_time": "2020-09-15T14:07:54.155001Z"
    }
   },
   "outputs": [],
   "source": [
    "print(\"Normalized Dataframe\")\n",
    "print(loan_norm_rdf[X_cols].dtypes)\n",
    "pgdf(loan_norm_rdf.head(10)) #.describe()\n"
   ]
  },
  {
   "cell_type": "markdown",
   "metadata": {},
   "source": [
    "## Principal Component Analysis (PCA) Performance \n",
    "\n",
    "We will compare the runtimes of PCA on CPU and then on GPU and also compare the results to make sure they are the same.  \n",
    "\n",
    "Here we take the normalized frame we built above and copy to pandas.  The two dataframes we will be working with are \n",
    "\n",
    "* loan_norm_pdf : normalized pandas dataframe\n",
    "* loan_norm_rdf : normalized GPU/RAPIDS dataframe\n",
    "\n",
    "these are exactly the same dataframe ..."
   ]
  },
  {
   "cell_type": "code",
   "execution_count": null,
   "metadata": {
    "ExecuteTime": {
     "end_time": "2020-09-15T14:41:21.337372Z",
     "start_time": "2020-09-15T14:41:21.333426Z"
    }
   },
   "outputs": [],
   "source": [
    "# export\n",
    "# PCA\n",
    "# Both import methods supported\n",
    "from cuml import PCA\n",
    "from cuml.decomposition import PCA as PCA_gpu\n",
    "from sklearn.decomposition import PCA as PCA_cpu\n",
    "n_components=5\n"
   ]
  },
  {
   "cell_type": "code",
   "execution_count": null,
   "metadata": {
    "ExecuteTime": {
     "end_time": "2020-09-15T14:41:34.149324Z",
     "start_time": "2020-09-15T14:41:22.103041Z"
    }
   },
   "outputs": [],
   "source": [
    "# RUN PCA ! : CPU / Sklearn implementation\n",
    "pca_loan_cpu = PCA_cpu(n_components=n_components)\n",
    "pca_loan_cpu.fit(loan_norm_pdf)\n"
   ]
  },
  {
   "cell_type": "code",
   "execution_count": null,
   "metadata": {
    "ExecuteTime": {
     "end_time": "2020-09-15T14:41:55.653513Z",
     "start_time": "2020-09-15T14:41:49.883201Z"
    }
   },
   "outputs": [],
   "source": [
    "# RUN PCA ! : GPU / cuML implementation\n",
    "pca_loan_gpu = PCA_gpu(n_components=n_components)\n",
    "pca_loan_gpu.fit(loan_norm_rdf)\n"
   ]
  },
  {
   "cell_type": "markdown",
   "metadata": {},
   "source": [
    "**Compare results** : For PCA we use a scree plot to compare the results.  Scree plots show how much variance in the dataset is explained by each additional principal component.  Below, run the cell and just eyeball the graphs and convince yourself they are the same\n",
    "    "
   ]
  },
  {
   "cell_type": "code",
   "execution_count": null,
   "metadata": {
    "ExecuteTime": {
     "end_time": "2020-09-15T14:42:04.545490Z",
     "start_time": "2020-09-15T14:42:04.165121Z"
    }
   },
   "outputs": [],
   "source": [
    "# Compare results ...\n",
    "\n",
    "display(pca_scree(pca_loan_cpu.explained_variance_ratio_, \"CPU\"))\n",
    "pca_scree(pca_loan_gpu.explained_variance_ratio_.tolist(), \"GPU\")"
   ]
  },
  {
   "cell_type": "code",
   "execution_count": null,
   "metadata": {
    "ExecuteTime": {
     "end_time": "2020-09-15T14:42:36.232354Z",
     "start_time": "2020-09-15T14:42:10.339179Z"
    }
   },
   "outputs": [],
   "source": [
    "# export\n",
    "# record PCA performance results\n",
    "def pca_cpu() :    \n",
    "    print(\"cpu pca\")\n",
    "    pca_loan_cpu = PCA_cpu(n_components=n_components)\n",
    "    pca_loan_cpu.fit(loan_norm_pdf)\n",
    "\n",
    "\n",
    "def pca_gpu() :\n",
    "    print(\"gpu pca\")\n",
    "    pca_loan_gpu = PCA_gpu(n_components=n_components)\n",
    "    pca_loan_gpu.fit(loan_norm_rdf)\n",
    "\n",
    "    \n",
    "#print(loan_norm_rdf.shape)    \n",
    "run_times.add_result(\"pca\", \"gpu\", time_command(pca_gpu, repeat=2))\n",
    "run_times.add_result(\"pca\", \"cpu\", time_command(pca_cpu, repeat=2))\n",
    "\n",
    "run_times.display_results()"
   ]
  },
  {
   "cell_type": "markdown",
   "metadata": {},
   "source": [
    "## Linear Regression (cuML / sklearn // snapML)\n",
    "\n",
    "Linear regression is one of the most common algorithms applied to structured data.  Its useful when trying to make a prediction of a continuous variable.  For example, you could use linear regression to try and predict the total expected payment of a loan given historical data about default rates.  Lets try this below with our data set.  (Note lending club doesn't explicity provide this data in its data set, so we will use a fictitious total_payment column in our analysis)"
   ]
  },
  {
   "cell_type": "code",
   "execution_count": null,
   "metadata": {},
   "outputs": [],
   "source": [
    "# export\n",
    "from sklearn.linear_model import LinearRegression as LRSKL\n",
    "from cuml.linear_model import LinearRegression as LRCUML\n"
   ]
  },
  {
   "cell_type": "code",
   "execution_count": null,
   "metadata": {
    "ExecuteTime": {
     "end_time": "2020-09-15T14:42:51.415018Z",
     "start_time": "2020-09-15T14:42:47.737813Z"
    }
   },
   "outputs": [],
   "source": [
    "# Linear Regression : CPU / Sklearn\n",
    "X = loan_norm_rdf.to_pandas()\n",
    "y = loan_rdf['default'].to_pandas()    \n",
    "lr_cpu = LRSKL(fit_intercept = True, normalize = False)\n",
    "res_cpu = lr_cpu.fit(X,y)"
   ]
  },
  {
   "cell_type": "code",
   "execution_count": null,
   "metadata": {
    "ExecuteTime": {
     "end_time": "2020-09-15T14:42:53.239417Z",
     "start_time": "2020-09-15T14:42:53.069190Z"
    }
   },
   "outputs": [],
   "source": [
    "# Linear Regression : GPU / Rapids cuML example\n",
    "X = loan_norm_rdf\n",
    "y2 = loan_rdf['default'].astype(\"float64\")    \n",
    "lr_gpu = LRCUML(fit_intercept = True, normalize = False) #, algorithm = \"eig\")\n",
    "res_gpu = lr_gpu.fit(X,y2)\n"
   ]
  },
  {
   "cell_type": "code",
   "execution_count": null,
   "metadata": {
    "ExecuteTime": {
     "end_time": "2020-09-15T14:42:54.347756Z",
     "start_time": "2020-09-15T14:42:54.339533Z"
    }
   },
   "outputs": [],
   "source": [
    "# Compare results\n",
    "print(\"Coefficients:\")\n",
    "print(res_cpu.coef_)\n",
    "print(\"intercept:\")\n",
    "print(res_cpu.intercept_)\n",
    "\n",
    "print(\"Coefficients:\")\n",
    "print(res_gpu.coef_)\n",
    "print(\"intercept:\")\n",
    "print(res_gpu.intercept_)\n"
   ]
  },
  {
   "cell_type": "code",
   "execution_count": null,
   "metadata": {
    "ExecuteTime": {
     "end_time": "2020-09-15T14:43:16.355041Z",
     "start_time": "2020-09-15T14:42:58.807658Z"
    }
   },
   "outputs": [],
   "source": [
    "# export\n",
    "#Record Results \n",
    "\n",
    "# CPU \n",
    "def lr_cpu() :\n",
    "    lr_cpu = LRSKL(fit_intercept = True, normalize = False)\n",
    "    res = lr_cpu.fit(X,y)\n",
    "    \n",
    "X = loan_norm_rdf.to_pandas()\n",
    "y = loan_rdf['default'].to_pandas()    \n",
    "run_times.add_result(\"linear_reg\", \"cpu\", time_command(lr_cpu, repeat=5))\n",
    "\n",
    "\n",
    "# GPU\n",
    "def lr_gpu() :\n",
    "    lr_gpu = LRCUML(fit_intercept = True, normalize = False, algorithm = \"eig\")\n",
    "    res = lr_gpu.fit(X,y)\n",
    "\n",
    "X = loan_norm_rdf\n",
    "y = loan_rdf['default'].astype(\"float64\")    \n",
    "run_times.add_result(\"linear_reg\", \"gpu\", time_command(lr_gpu, repeat=5))\n",
    "\n",
    "\n",
    "\n",
    "run_times.display_results()    \n",
    "\n"
   ]
  },
  {
   "cell_type": "markdown",
   "metadata": {},
   "source": [
    "# Summary\n",
    "\n",
    "In this lab we covered a number of common functions used by both data engineers and data scientists to manipulate dataframes and also build machine learning models.  The RAPIDS implementation demonstrates how much time you can save by running a lot of these operations on the GPU.   As data set sizes grow, and the number of experiments required increase, this performance gain can be a real advantage for getting to the answers faster.  Lets recap your speedups here ..."
   ]
  },
  {
   "cell_type": "code",
   "execution_count": null,
   "metadata": {
    "ExecuteTime": {
     "end_time": "2020-09-15T15:03:04.176761Z",
     "start_time": "2020-09-15T15:03:04.171508Z"
    }
   },
   "outputs": [],
   "source": [
    "run_times.display_results()    "
   ]
  },
  {
   "cell_type": "markdown",
   "metadata": {
    "ExecuteTime": {
     "end_time": "2019-09-23T11:11:46.196739Z",
     "start_time": "2019-09-23T11:11:46.191946Z"
    }
   },
   "source": [
    "Note, you can play with the dataset size and rerun the notebook to see how that impacts your run results!  TL;DR the larger your dataframe the better the GPU speedups ..."
   ]
  },
  {
   "cell_type": "markdown",
   "metadata": {},
   "source": [
    "## Optional:  Dask and CuDF Short Demo\n",
    "\n",
    "Scaling out is pretty easy with Dask.  You can reuse the same Rapids based code you used in the above examples with fairly minimal changes.  Below is a quick example of how to run on a cluster of Nodes using Summit."
   ]
  },
  {
   "cell_type": "code",
   "execution_count": null,
   "metadata": {},
   "outputs": [],
   "source": [
    "from dask_jobqueue import LSFCluster\n",
    "# Per node specification\n",
    "cluster = LSFCluster(\n",
    "    scheduler_options={\"dashboard_address\": \":3762\"},\n",
    "    cores=8,\n",
    "    processes=1, # default sqrt(cores). set to one to max threads per machine.  better for numpy.  see https://docs.dask.org/en/latest/setup/single-machine.html\n",
    "    memory=\"4 GB\",\n",
    "    project=\"VEN201\",\n",
    "    walltime=\"03:30\",\n",
    "    job_extra=[\"-nnodes 1\"],          # <--- new!\n",
    "    header_skip=[\"-R\", \"-n \", \"-M\"],  # <--- new!\n",
    "    interface='ib0',\n",
    "    use_stdin=False\n",
    ")\n",
    "cluster.scale(4)\n"
   ]
  },
  {
   "cell_type": "code",
   "execution_count": null,
   "metadata": {},
   "outputs": [],
   "source": [
    "from dask.distributed import Client\n",
    "client = Client(cluster)\n",
    "client"
   ]
  },
  {
   "cell_type": "code",
   "execution_count": null,
   "metadata": {
    "ExecuteTime": {
     "end_time": "2020-09-15T15:03:21.364744Z",
     "start_time": "2020-09-15T15:03:21.361972Z"
    }
   },
   "outputs": [],
   "source": [
    "### Dask CuDF demo\n",
    "\n",
    "\n",
    "import dask_cudf    \n",
    "filename = \"./loan_project_df.parquet.gzip\"\n",
    "\n",
    "# Rapids Dataframe\n",
    "loan_ddf = dask_cudf.read_parquet(filename)#  , names=ts_cols,dtype=ts_dtypes,skiprows=1)\n",
    "\n",
    "# Scale up data to 20 million rows \n",
    "for i in range(4) :\n",
    "    loan_ddf = dask_cudf.concat([loan_ddf,loan_ddf],axis=0)\n",
    "    loan_ddf = loan_ddf.reset_index().drop(\"index\",axis=1)\n",
    "\n",
    "loan_ddf.repartition(npartitions=4)\n",
    "#df = dask_cudf.from_cudf(loan_rdf, npartitions=4)\n",
    "\n",
    "\n",
    "\n",
    "loan_ddf.dtypes\n"
   ]
  },
  {
   "cell_type": "code",
   "execution_count": null,
   "metadata": {},
   "outputs": [],
   "source": [
    "ddf_mean = loan_ddf.select_dtypes(include='float64').mean()\n",
    "ddf_mean.compute()"
   ]
  },
  {
   "cell_type": "code",
   "execution_count": null,
   "metadata": {},
   "outputs": [],
   "source": [
    "grade_stats_ddf = loan_ddf.groupby('grade').agg({\"annual_inc\": \"mean\", \"loan_amnt\": \"mean\"})\n",
    "grade_stats_ddf.compute()"
   ]
  },
  {
   "cell_type": "code",
   "execution_count": null,
   "metadata": {},
   "outputs": [],
   "source": [
    "grade_stats_ddf.visualize()"
   ]
  },
  {
   "cell_type": "markdown",
   "metadata": {
    "ExecuteTime": {
     "end_time": "2019-09-23T10:33:01.500418Z",
     "start_time": "2019-09-23T10:33:01.498057Z"
    }
   },
   "source": [
    "## Credits\n",
    "\n",
    "This notebook was built by  Dustin VanStee (vanstee@us.ibm.com) from IBM Garage for Systems AI team.  Special thanks to Steve LaFalce and Loic Fura for reviewing the content and suggesting edits.\n"
   ]
  },
  {
   "cell_type": "code",
   "execution_count": null,
   "metadata": {},
   "outputs": [],
   "source": [
    "# Export to python library\n",
    "from nbdev.export import *\n",
    "notebook2script()"
   ]
  },
  {
   "cell_type": "code",
   "execution_count": null,
   "metadata": {},
   "outputs": [],
   "source": []
  }
 ],
 "metadata": {
  "kernelspec": {
   "display_name": "Python 3",
   "language": "python",
   "name": "python3"
  },
  "language_info": {
   "codemirror_mode": {
    "name": "ipython",
    "version": 3
   },
   "file_extension": ".py",
   "mimetype": "text/x-python",
   "name": "python",
   "nbconvert_exporter": "python",
   "pygments_lexer": "ipython3",
   "version": "3.6.10"
  },
  "toc": {
   "base_numbering": 1,
   "nav_menu": {},
   "number_sections": true,
   "sideBar": true,
   "skip_h1_title": false,
   "title_cell": "Table of Contents",
   "title_sidebar": "Contents",
   "toc_cell": false,
   "toc_position": {
    "height": "calc(100% - 180px)",
    "left": "10px",
    "top": "150px",
    "width": "165px"
   },
   "toc_section_display": true,
   "toc_window_display": true
  },
  "varInspector": {
   "cols": {
    "lenName": 16,
    "lenType": 16,
    "lenVar": 40
   },
   "kernels_config": {
    "python": {
     "delete_cmd_postfix": "",
     "delete_cmd_prefix": "del ",
     "library": "var_list.py",
     "varRefreshCmd": "print(var_dic_list())"
    },
    "r": {
     "delete_cmd_postfix": ") ",
     "delete_cmd_prefix": "rm(",
     "library": "var_list.r",
     "varRefreshCmd": "cat(var_dic_list()) "
    }
   },
   "types_to_exclude": [
    "module",
    "function",
    "builtin_function_or_method",
    "instance",
    "_Feature"
   ],
   "window_display": false
  }
 },
 "nbformat": 4,
 "nbformat_minor": 4
}
