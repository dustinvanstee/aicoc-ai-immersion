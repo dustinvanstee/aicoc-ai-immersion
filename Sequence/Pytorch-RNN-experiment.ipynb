{
 "cells": [
  {
   "cell_type": "markdown",
   "metadata": {},
   "source": [
    "## Imports"
   ]
  },
  {
   "cell_type": "code",
   "execution_count": null,
   "metadata": {},
   "outputs": [],
   "source": [
    "# Create a data set ....\n",
    "import numpy as np\n",
    "import pandas as pd\n",
    "import matplotlib.pyplot as plt\n",
    "\n",
    "import torch\n",
    "import torch.nn as nn\n",
    "import torch.nn.functional as F\n",
    "import torch.optim as optim\n",
    "from torch.nn.init import xavier_normal_ , uniform_\n",
    "from torch.utils.data import Dataset,DataLoader\n",
    "import fastai\n",
    "from fastai.data_block import FloatList\n",
    "from fastai.basic_train import *\n",
    "from fastai.metrics import *\n",
    "import random; \n",
    "\n",
    "import os\n",
    "\n",
    "def model_summary(net) :\n",
    "    #print(net.children)\n",
    "    header = \"{:<30}{:<30}{:<20}\".format(\"Layer\" ,\"Weight Size\", \"#Params\")\n",
    "    print(header)\n",
    "    print(\"=\"*70)\n",
    "    tp = 0\n",
    "    for (ln,i) in net.named_parameters() :\n",
    "        #print(ln, i.size(),np.prod(np.asarray(i.size())))\n",
    "        trainable_params = np.prod(np.asarray(i.size()))\n",
    "        ln_out = \"{:<30}{:<30}{:<20}\".format(ln , str(i.size()), trainable_params)\n",
    "        print(ln_out)\n",
    "        tp += trainable_params\n",
    "    print(\"=\"*70)\n",
    "    print(\"Total params: {}\".format(tp))\n",
    "\n",
    "def set_device(MODE,num=0) :\n",
    "#MODE = \"GPU\" # CPU\n",
    "    device=None\n",
    "    if(MODE==\"GPU\") :\n",
    "        os.environ[\"CUDA_VISIBLE_DEVICES\"] = str(num)\n",
    "        print('CUDA available: {}  Using device {}'.format(torch.cuda.is_available(), os.environ['CUDA_VISIBLE_DEVICES']))\n",
    "        device = torch.device('cuda')\n",
    "    else :\n",
    "        device = torch.device('cpu')\n",
    "    return device\n"
   ]
  },
  {
   "cell_type": "code",
   "execution_count": null,
   "metadata": {},
   "outputs": [],
   "source": [
    "d = set_device(\"GPU\",3)"
   ]
  },
  {
   "cell_type": "markdown",
   "metadata": {},
   "source": [
    "## Create a Synthetic DataSet"
   ]
  },
  {
   "cell_type": "code",
   "execution_count": null,
   "metadata": {},
   "outputs": [],
   "source": [
    "def create_data_set(NP=1000,p=0.05) :\n",
    "    # Create a sample time series\n",
    "    x_range = int(NP/10) # basically a point every 0.1 in x ..\n",
    "    print(\"Creating Dataset : Num Points = {} Reset prob = {}\".format(NP,p))\n",
    "    print(\"Sine wave with {} samples over x range of {}\".format(NP,x_range))\n",
    "    ii=np.linspace(0,x_range,num=NP)\n",
    "    a = np.sin(ii)\n",
    "    b = np.random.choice([0,1],size=NP,p=[p,1-p])\n",
    "    b2 = np.zeros(NP)\n",
    "    c = np.zeros(NP)\n",
    "    idx=0\n",
    "    for i in range(NP) :\n",
    "        if(b[i]==0 or i==0):\n",
    "            idx=0\n",
    "            b[i]=0\n",
    "        c[i] = a[idx]\n",
    "        b2[i] = idx\n",
    "        idx+=1\n",
    "    c_prev = np.zeros(NP)\n",
    "    c_prev[1:NP] = c[0:NP-1]\n",
    "    \n",
    "    X = np.stack((a,b,b2,c_prev),axis=1)\n",
    "    y = c\n",
    "    columns=['ii','a','b','b2','c_prev','c']\n",
    "    return(ii,X,y,columns)\n",
    "    "
   ]
  },
  {
   "cell_type": "code",
   "execution_count": null,
   "metadata": {},
   "outputs": [],
   "source": [
    "class CustomDataset(Dataset):\n",
    "    # y_offset is cycles into future\n",
    "    def __init__(self,NP,Tx=70,y_offset=0,num_features=1):\n",
    "        ii,X,y,columns = create_data_set(NP=NP)\n",
    "        self.X=X\n",
    "        self.y=y\n",
    "        self.columns=columns\n",
    "        self.NP=NP\n",
    "        self.Tx=Tx\n",
    "        self.y_offset=y_offset\n",
    "        self.num_features=num_features\n",
    "        if(num_features == 1) : print(\"Warning only returning one feature (reset).\\n  Hack around with CustomDataset to get what you want\")\n",
    "        elif(num_features == 2) : print(\"Warning only returning two features (reset and counter)\\n.  Hack around with CustomDataset to get what you want\")\n",
    "        elif(num_features == 2) : print(\"Warning only returning 4 features (orig_sin, reset and counter, prev)\\n.  Hack around with CustomDataset to get what you want\")\n",
    "        else : print(\"Warning , verify what you want and add some code here\")\n",
    "        \n",
    "    def __len__(self):\n",
    "        return len(self.X)\n",
    "    \n",
    "    # this returns numpy arrays ....\n",
    "    def __getitem__(self, idx):\n",
    "        print(idx)\n",
    "        # simple fix to going out of bounds\n",
    "        if(idx > NP-self.Tx - 1) :\n",
    "            idx -= self.Tx\n",
    "        X=self.X[idx:idx+self.Tx]\n",
    "        y=self.y[idx+self.y_offset:idx+self.Tx+self.y_offset]\n",
    "        if(len(X) < self.Tx) :\n",
    "            print(\"error idx = {}\".format(idx))\n",
    "        if(self.num_features == 1) : # just return the 'reset signal'\n",
    "            X=X[:,1:2]\n",
    "        elif(self.num_features == 2) :\n",
    "            X=X[:,1:3]\n",
    "        elif(self.num_features == 4) :\n",
    "            # do nuttin\n",
    "            X=X\n",
    "        \n",
    "        X = torch.from_numpy(X).type(torch.FloatTensor)\n",
    "        y = torch.from_numpy(y).type(torch.FloatTensor)\n",
    "        return (X,y)\n",
    "\n",
    "# Custom Collate function to take a set of tuples (Seqlen x numfeatures) and convert to\n",
    "# (Seqlen x batch x numfeatures)\n",
    "def collate_fn(data):\n",
    "    \"\"\"\n",
    "       data: is a list of tuples with (X, y)\n",
    "\n",
    "    \"\"\"\n",
    "    # collate X, y\n",
    "    X, y  = zip(*data)\n",
    "    X=torch.stack( X, axis=1 )\n",
    "    y=torch.stack( y, axis=1 )\n",
    "    \n",
    "    print(len(X),type(X),X.size())\n",
    "    print(len(y),type(y),y.size())\n",
    "\n",
    "    return (X,y)\n"
   ]
  },
  {
   "cell_type": "code",
   "execution_count": null,
   "metadata": {},
   "outputs": [],
   "source": [
    "print(\"np.sin is in radians\")\n",
    "NP=10000\n",
    "dataset = CustomDataset(NP=NP,Tx=70,num_features=1)\n",
    "(x0,y0) = dataset[0]\n",
    "dl = DataLoader(dataset, collate_fn=collate_fn, batch_size=6,shuffle=True)"
   ]
  },
  {
   "cell_type": "code",
   "execution_count": null,
   "metadata": {},
   "outputs": [],
   "source": [
    "(X,y) = next(iter(dl))\n",
    "X\n",
    "#$for _ in range(100) :\n",
    "#$    \n",
    "#$    type(X)\n",
    "#$#print(X.size())\n",
    "#$X.to(d)"
   ]
  },
  {
   "cell_type": "markdown",
   "metadata": {},
   "source": [
    "### Visualize Data "
   ]
  },
  {
   "cell_type": "code",
   "execution_count": null,
   "metadata": {},
   "outputs": [],
   "source": [
    "# X:,0 is a... just a sine wave ...\n",
    "# resets when b equals zero\n",
    "plt.figure(figsize=(25,5))\n",
    "display(plt.plot(x0[:,0],'-bo',markersize=5))\n",
    "display(plt.plot(x0[:,1],'-bo',markersize=5))\n",
    "\n",
    "display(plt.plot(y0,'-go',markersize=10))\n"
   ]
  },
  {
   "cell_type": "markdown",
   "metadata": {},
   "source": [
    "### Chuck it in a DF\n"
   ]
  },
  {
   "cell_type": "code",
   "execution_count": null,
   "metadata": {},
   "outputs": [],
   "source": [
    "print(x0.shape)\n",
    "print(y0.shape)\n",
    "df=pd.DataFrame(x0, columns=['a','b','b2','c_prev'])\n",
    "df[\"y\"] = y0\n",
    "\n",
    "df.head(20) # 2*pi 6.28"
   ]
  },
  {
   "cell_type": "code",
   "execution_count": null,
   "metadata": {},
   "outputs": [],
   "source": [
    "### Datablock API\n",
    "# https://docs.fast.ai/data_block.html"
   ]
  },
  {
   "cell_type": "markdown",
   "metadata": {},
   "source": [
    "## Build a fastai databunch from np array"
   ]
  },
  {
   "cell_type": "code",
   "execution_count": null,
   "metadata": {},
   "outputs": [],
   "source": []
  },
  {
   "cell_type": "code",
   "execution_count": null,
   "metadata": {},
   "outputs": [],
   "source": []
  },
  {
   "cell_type": "code",
   "execution_count": null,
   "metadata": {},
   "outputs": [],
   "source": []
  },
  {
   "cell_type": "code",
   "execution_count": null,
   "metadata": {},
   "outputs": [],
   "source": []
  },
  {
   "cell_type": "code",
   "execution_count": null,
   "metadata": {},
   "outputs": [],
   "source": []
  },
  {
   "cell_type": "markdown",
   "metadata": {},
   "source": [
    "## RNN Using pytorch RNN library"
   ]
  },
  {
   "cell_type": "code",
   "execution_count": null,
   "metadata": {},
   "outputs": [],
   "source": [
    "# Initialize with Xavier normal distribuition        \n",
    "def weights_xavier(m):\n",
    "    if isinstance(m, nn.Conv2d):\n",
    "        xavier_normal_(m.weight.data)\n",
    "    elif isinstance(m, nn.Linear) :\n",
    "        xavier_normal_(m.weight.data)\n",
    "        m.bias.data.fill_(0)\n",
    "    elif isinstance(m, nn.RNN) :\n",
    "        xavier_normal_(m.weight_ih_l0.data)\n",
    "        xavier_normal_(m.weight_hh_l0.data)\n",
    "        m.bias_ih_l0.data.fill_(0)\n",
    "        m.bias_hh_l0.data.fill_(0)"
   ]
  },
  {
   "cell_type": "markdown",
   "metadata": {},
   "source": [
    "### Generic RNN Code Sample"
   ]
  },
  {
   "cell_type": "code",
   "execution_count": null,
   "metadata": {},
   "outputs": [],
   "source": [
    "# # initialize the hidden state.\n",
    "if(0) :\n",
    "    rnn_model = nn.RNN(num_features, hidden_size, num_layers)  # Input dim is 3, output dim is 3\n",
    "    final_layer = nn.Linear(hidden_size,1)\n",
    "    \n",
    "    rnn_model.apply(weights_xavier)\n",
    "    \n",
    "    hidden_rnn = torch.randn(num_layers, batch_size, hidden_size)\n",
    "    inputs = torch.randn(Tx,batch_size,num_features)\n",
    "    \n",
    "    print(inputs.size())\n",
    "    print(hidden_rnn.size())\n",
    "    out, hidden = rnn_model(inputs, hidden_rnn)\n",
    "    o = out[Tx-1].view(-1)\n",
    "    final_layer(o)"
   ]
  },
  {
   "cell_type": "markdown",
   "metadata": {},
   "source": [
    "### Instantiate DVRNN\n",
    "\n",
    "![Image of Yaktocat  https://github.ibm.com/vanstee/aicoc-ai-immersion/raw/master/nb_images/lstm_rnn.png \n",
    "![Image of Yaktocat    ../nb_images/lstm_rnn.png)"
   ]
  },
  {
   "cell_type": "code",
   "execution_count": null,
   "metadata": {},
   "outputs": [],
   "source": [
    "# https://pytorch.org/tutorials/beginner/nlp/sequence_models_tutorial.html\n",
    "# https://pytorch.org/docs/stable/_modules/torch/nn/modules/rnn.html\n",
    "\n",
    "\n",
    "class DVRNN(nn.Module) :\n",
    "    def __init__(self,nf,tx,hs,nl) :\n",
    "        super(DVRNN,self).__init__()\n",
    "        self.name = \"DVRNN\"\n",
    "        self.tx=tx\n",
    "        self.num_features=nf\n",
    "        self.hidden_size=hs\n",
    "        self.rnn = nn.RNN(nf, hs, nl)\n",
    "        self.fc = nn.Linear(hs, 1)\n",
    "    \n",
    "    def forward(self, x, h, all_outputs=True):\n",
    "        \n",
    "        out1, hidden = self.rnn(x, h)\n",
    "        bs=x.size()[1] # batchsize hard coded\n",
    "        if(all_outputs == False) :\n",
    "            out3 = torch.zeros(1,bs,1).to(d) \n",
    "            for b in range(bs) :\n",
    "                out2 = out1[self.tx-1,b].view(-1)\n",
    "                out3[0,b,0] = self.fc(out2)\n",
    "        else :\n",
    "            #print(\"batch_size={}\".format(bs))\n",
    "            out3 = torch.zeros(self.tx,bs,1).to(d) \n",
    "            for i in range(self.tx) :\n",
    "                for b in range(bs) :\n",
    "                    out2 = out1[i,b,:].view(-1)\n",
    "                    out3[i,b,0] = self.fc(out2)\n",
    "        return out3,hidden.detach()\n",
    "    \n",
    "    # reset all parameters of model \n",
    "    def init_params(self) :\n",
    "        self.apply(weights_xavier)\n",
    "\n",
    "class DVLSTM(nn.Module) :\n",
    "    def __init__(self,nf,tx,hs,nl) :\n",
    "        super(DVLSTM,self).__init__()\n",
    "        self.name = \"DVLSTM\"\n",
    "        self.tx=tx\n",
    "        self.num_features=nf\n",
    "        self.hidden_size=hs\n",
    "        self.lstm = nn.LSTM(nf, hs, nl, bidirectional=False)  # bidirectional=True\n",
    "        self.fc = nn.Linear(hs, 1) # *2 for bidi\n",
    "    \n",
    "    def forward(self, x, h, all_outputs=True):\n",
    "        \n",
    "        out1, (h,c) = self.lstm(x, h)\n",
    "        bs=x.size()[1] # batchsize hard coded\n",
    "        if(all_outputs == False) :\n",
    "            out3 = torch.zeros(1,bs,1).to(d) \n",
    "            for b in range(bs) :\n",
    "                out2 = out1[self.tx-1,b].view(-1)\n",
    "                out3[0,b,0] = self.fc(out2)\n",
    "        else :\n",
    "            out3 = torch.zeros(self.tx,bs,1).to(d) \n",
    "            for i in range(self.tx) :\n",
    "                for b in range(bs) :\n",
    "                    out2 = out1[i,b,:].view(-1)\n",
    "                    out3[i,b,0] = self.fc(out2)\n",
    "            \n",
    "        return out3,(h.detach(),c.detach())\n",
    "    \n",
    "    # reset all parameters of model \n",
    "    def init_params(self) :\n",
    "        self.apply(weights_xavier)  \n"
   ]
  },
  {
   "cell_type": "markdown",
   "metadata": {},
   "source": [
    "## Train RNN"
   ]
  },
  {
   "cell_type": "code",
   "execution_count": null,
   "metadata": {},
   "outputs": [],
   "source": [
    "# Build X, y\n",
    "# Added in time lagged y (c_prev)\n",
    "torch.manual_seed(0)\n",
    "NP=3008\n",
    "Tx = 70          # sequence length \n",
    "hidden_size = 50  # number of features of hidden state\n",
    "num_layers  = 1  # this is for stacked implementations.  Keep 1 for now\n",
    "batch_size = 16\n",
    "num_features = 1 # aka input_size, aka number of columns in X\n",
    "reset_prob = 0.05\n",
    "\n",
    "\n",
    "hidden_lstm = (torch.zeros(num_layers, batch_size, hidden_size).to(d),torch.zeros(num_layers, batch_size, hidden_size).to(d))\n",
    "dataset = CustomDataset(NP=NP,Tx=Tx)\n",
    "dataloader = DataLoader(dataset, collate_fn=collate_fn, \n",
    "                        batch_size=batch_size,shuffle=True,num_workers=30)\n",
    "def print_run() :\n",
    "    print(\"NP           : {}\".format(NP))\n",
    "    print(\"num_features : {}\".format(num_features))\n",
    "    print(\"Tx : {}\".format(Tx))\n",
    "    print(\"hidden_size : {}\".format(hidden_size))\n",
    "    print(\"num_layers : {}\".format(num_layers))\n",
    "    print(\"batch_size : {}\".format(batch_size))\n",
    "    print(\"reset_prob : {}\".format(reset_prob))\n",
    "print_run()\n"
   ]
  },
  {
   "cell_type": "code",
   "execution_count": null,
   "metadata": {},
   "outputs": [],
   "source": [
    "# Setup Custom RNN\n",
    "torch.manual_seed(1)\n",
    "\n",
    "dvrnn = DVRNN(num_features,Tx,hidden_size,num_layers).to(d)\n",
    "dvrnn.init_params()\n",
    "\n",
    "dvlstm = DVLSTM(num_features,Tx,hidden_size,num_layers).to(d)\n",
    "dvlstm.init_params()\n",
    "\n",
    "#dvrnn.train()\n",
    "#optimizer = optim.SGD(dvrnn.parameters(), lr=0.1)\n",
    "loss_function = nn.MSELoss()  # L1Loss"
   ]
  },
  {
   "cell_type": "code",
   "execution_count": null,
   "metadata": {},
   "outputs": [],
   "source": [
    "#forward pass tests\n",
    "\n",
    "(x_tx, y_tx) = next(iter(dataloader))\n",
    "x_tx = x_tx.to(d)\n",
    "\n",
    "print(x_tx.size())\n",
    "print(x_tx.size(-1))\n",
    "print(hidden_rnn.size())\n",
    "#dvrnn.rnn(x_tx.to(d), hidden_rnn.to(d))\n",
    "(o,h) = dvrnn(x_tx, hidden_rnn)\n",
    "assert(o.size() == torch.Size([Tx, batch_size, 1])) # output dimension is one, since we are regressing to a number\n",
    "\n",
    "(o,h) = dvrnn.forward(x_tx, hidden_rnn,all_outputs=False)\n",
    "# just grabs the last output\n",
    "print(o.size())\n",
    "assert(o.size() == torch.Size([1,batch_size,1])) # output dimension is one, since we are regressing to a number\n"
   ]
  },
  {
   "cell_type": "code",
   "execution_count": null,
   "metadata": {},
   "outputs": [],
   "source": [
    "#print(list(dvlstm.lstm.named_parameters()))\n",
    "#dvlstm.lstm.weight_hh_l0.grad\n",
    "def lstm_wg_stats() :\n",
    "    \n",
    "    h = \"{:<15s} {:<10s} {:<10s} {:<10s} {:<10s}\".format(\"layer\", \"wght mean\", \"wght std\", \"grad mean\", \"grad std\")\n",
    "    print(h)\n",
    "    for layer,values in list(dvlstm.lstm.named_parameters()) :\n",
    "        #print(layer)\n",
    "        #print(values.view(-1).mean())\n",
    "        #print(values.view(-1).std())\n",
    "        #print(values.grad.view(-1).mean())\n",
    "        #print(values.grad.view(-1).std())\n",
    "        h = \"{:<15s} {:10.4f} {:10.4f} {:10.4f} {:10.4f}\".format(layer, values.view(-1).mean(),values.view(-1).std(),values.grad.view(-1).mean(),values.grad.view(-1).std())\n",
    "        print(h)\n",
    "        \n",
    "#lstm_wg_stats()"
   ]
  },
  {
   "cell_type": "code",
   "execution_count": null,
   "metadata": {},
   "outputs": [],
   "source": [
    "# Train\n",
    "# 10 epoch @ 0.01\n",
    "# 10 epoch @ 0.001\n",
    "#optimizer = optim.Adam(dvrnn.parameters(), lr=0.005, betas=(0.9, 0.999), eps=1e-08, weight_decay=0)\n",
    "optimizer_rnn = optim.Adam(dvrnn.parameters(), lr=0.0005, betas=(0.9, 0.999), eps=1e-08, weight_decay=0)\n",
    "optimizer_lstm = optim.Adam(dvlstm.parameters(), lr=0.0005, betas=(0.9, 0.999), eps=1e-08, weight_decay=0)\n",
    "\n",
    "# all outputs specifies if you want seq to seq for each step of the RNN/LSTM\n",
    "def train_instance(iteration,x_tx,y_tx, model, opt, hidden_init, all_outputs) :\n",
    "    # Step 1. Remember that Pytorch accumulates gradients.\n",
    "    # We need to clear them out before each instance\n",
    "    dvrnn.zero_grad()\n",
    "            \n",
    "    # Step 2. Run our forward pass.\n",
    "    yhat, _ = model(x_tx, hidden_init)\n",
    " \n",
    "    # Step 3. Compute the loss, gradients, and update the parameters by\n",
    "    loss = loss_function(yhat, y_tx)\n",
    "    loss.backward()\n",
    "    opt.step()\n",
    "    return loss.item()\n",
    "\n",
    "def save_model(name,model,path=\"./\") :\n",
    "    torch.save(model.state_dict(), path+name)\n",
    "\n",
    "# Training Loop\n",
    "for epoch in range(20):  # again, normally you would NOT do 300 epochs, it is toy data\n",
    "    epoch_rnn_loss=epoch_lstm_loss=0\n",
    "    # Create a new dataset each epoch ...\n",
    "    dataset = CustomDataset(NP=NP,Tx=Tx)\n",
    "    dataloader = DataLoader(dataset, collate_fn=collate_fn, \n",
    "                        batch_size=batch_size,shuffle=True,num_workers=8)\n",
    "    loop_count=0\n",
    "    for (i, (X,y)) in enumerate(dataloader):\n",
    "        #print(\"Iteration: {} {}\".format(epoch,i))\n",
    "        X=X.to(d)\n",
    "        y=y.unsqueeze(-1).to(d)\n",
    "        epoch_rnn_loss += train_instance(i,X,y,dvrnn,optimizer_rnn,hidden_rnn,all_outputs=True)\n",
    "        #epoch_lstm_loss += train_instance(i,X,y,dvlstm,optimizer_lstm,hidden_lstm,all_outputs=True)\n",
    "        loop_count += 1\n",
    "    # Normalize per training example\n",
    "    epoch_rnn_loss /= loop_count # dataloader samples all NP samples ..\n",
    "    #epoch_lstm_loss /= loop_count\n",
    "    print(\"Epoch {} mean loss: RNN {} LSTM {}\".format(epoch, epoch_rnn_loss,epoch_lstm_loss))\n",
    "    plot_results()\n",
    "    save_model(\"rnn_{}_{:1.2f}.pth\".format(epoch,epoch_rnn_loss),dvrnn)\n",
    "    #lstm_wg_stats()\n"
   ]
  },
  {
   "cell_type": "code",
   "execution_count": null,
   "metadata": {},
   "outputs": [],
   "source": [
    "bs=1\n",
    "Epoch 0 loss: RNN 84.49429889768362 LSTM 85.23977077752352\n",
    "Epoch 0 loss/inst: RNN 0.4224714944884181 LSTM 0.4261988538876176\n",
    "Iteration: 0 176\n",
    "loss:0.1366077959537506\n",
    "loss:0.40847358107566833\n",
    "\n",
    "bs=4\n",
    "Epoch 0 loss: RNN 19.573494464159012 LSTM 21.002969831228256\n",
    "Epoch 0 loss/inst: RNN 0.3914698892831802 LSTM 0.42005939662456515\n",
    "\n",
    "bs=100    \n",
    "Epoch 0 loss: RNN 0.6468528807163239 LSTM 0.7300841808319092\n",
    "Epoch 0 loss/inst: RNN 0.3234264403581619 LSTM 0.3650420904159546\n",
    "\n",
    "\n",
    "...\n",
    "\n",
    "# TODO\n",
    "# Add GRU\n",
    "# Add Validation\n",
    "# Add batch for speed up\n",
    "# ADD layered ?"
   ]
  },
  {
   "cell_type": "markdown",
   "metadata": {},
   "source": [
    "## Visualize RNN"
   ]
  },
  {
   "cell_type": "code",
   "execution_count": null,
   "metadata": {},
   "outputs": [],
   "source": [
    "# Show generative result\n",
    "i=200\n",
    "\n",
    "# This is how you can hard code batch size=1 and control the index for graphing\n",
    "(x_tx,y_tx)= collate_fn([dataset[0]])\n",
    "\n",
    "#print_run()\n",
    "print(x_tx.size())\n",
    "#x_tx = x_tx.to(d)\n",
    "#yhat, _ = dvrnn(x_tx, hidden_rnn)\n",
    "\n",
    "def plot_results() :\n",
    "    ypred = torch.zeros(200).to(d)\n",
    "    yact  = torch.zeros(200).to(d)\n",
    "    hidden_rnn_plt = torch.zeros(num_layers, 1, hidden_size).to(d)\n",
    "    for g_idx in range(0,200):\n",
    "        (x_tx,y_tx)= collate_fn([dataset[g_idx]])\n",
    "        x_tx = x_tx.to(d)\n",
    "        yhat, _ = dvrnn(x_tx, hidden_rnn_plt)\n",
    "        \n",
    "        ypred[g_idx] = yhat[-1].view(-1)\n",
    "        yact[g_idx] = y_tx[-1].view(-1)\n",
    "        #print(ypred[g_idx])\n",
    "        #print(yhat,y[i+dvrnn.tx],X[i+dvrnn.tx])\n",
    "        \n",
    "    #print(ypred)\n",
    "    ypred = ypred.cpu().detach().numpy()\n",
    "    plt.plot(ypred)\n",
    "    yact = yact.cpu().detach().numpy()\n",
    "    plt.plot(yact)\n",
    "    display(plt.show())\n",
    "plot_results()\n"
   ]
  },
  {
   "attachments": {
    "image.png": {
     "image/png": "[encoded data removed]"
    }
   },
   "cell_type": "markdown",
   "metadata": {},
   "source": [
    "### Some simple results for now\n",
    "\n",
    "Reset Prob @ 20% 15 epochs @ 0.001, 5 @ 0.0001\n",
    "![image.png](attachment:image.png)"
   ]
  },
  {
   "cell_type": "code",
   "execution_count": null,
   "metadata": {},
   "outputs": [],
   "source": [
    "list(dvrnn.parameters())[0]"
   ]
  },
  {
   "cell_type": "code",
   "execution_count": null,
   "metadata": {},
   "outputs": [],
   "source": [
    "dvrnn.rnn.weight_hh_l0.grad"
   ]
  },
  {
   "cell_type": "code",
   "execution_count": null,
   "metadata": {},
   "outputs": [],
   "source": [
    "# lstm ...\n",
    "#lstm = nn.LSTM(3, 3)  # Input/Embedding dim is 3, output dim is 3, \n",
    "#hidden = (torch.randn(1, 1, 3),\n",
    "#          torch.randn(1, 1, 3))\n"
   ]
  },
  {
   "cell_type": "code",
   "execution_count": null,
   "metadata": {},
   "outputs": [],
   "source": []
  }
 ],
 "metadata": {
  "kernelspec": {
   "display_name": "Python 3",
   "language": "python",
   "name": "python3"
  },
  "language_info": {
   "codemirror_mode": {
    "name": "ipython",
    "version": 3
   },
   "file_extension": ".py",
   "mimetype": "text/x-python",
   "name": "python",
   "nbconvert_exporter": "python",
   "pygments_lexer": "ipython3",
   "version": "3.7.6"
  },
  "toc": {
   "base_numbering": 1,
   "nav_menu": {},
   "number_sections": true,
   "sideBar": true,
   "skip_h1_title": false,
   "title_cell": "Table of Contents",
   "title_sidebar": "Contents",
   "toc_cell": false,
   "toc_position": {
    "height": "calc(100% - 180px)",
    "left": "10px",
    "top": "150px",
    "width": "276.4px"
   },
   "toc_section_display": true,
   "toc_window_display": true
  },
  "varInspector": {
   "cols": {
    "lenName": 16,
    "lenType": 16,
    "lenVar": 40
   },
   "kernels_config": {
    "python": {
     "delete_cmd_postfix": "",
     "delete_cmd_prefix": "del ",
     "library": "var_list.py",
     "varRefreshCmd": "print(var_dic_list())"
    },
    "r": {
     "delete_cmd_postfix": ") ",
     "delete_cmd_prefix": "rm(",
     "library": "var_list.r",
     "varRefreshCmd": "cat(var_dic_list()) "
    }
   },
   "types_to_exclude": [
    "module",
    "function",
    "builtin_function_or_method",
    "instance",
    "_Feature"
   ],
   "window_display": false
  }
 },
 "nbformat": 4,
 "nbformat_minor": 4
}
