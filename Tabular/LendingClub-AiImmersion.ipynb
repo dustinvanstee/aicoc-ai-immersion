{
 "cells": [
  {
   "cell_type": "markdown",
   "metadata": {},
   "source": [
    "<h1 id=\"tocheading\">Finding Patterns in Data using IBM Power and PowerAI</h1>\n",
    "<div id=\"toc\"></div>\n",
    "\n",
    "In this lab we will explore an open source data set, and discover how we can use the tools that are part of **PowerAI** to explore and discover patterns in the data.  For this lab, we will make use of the Lending Club data set, pandas, numpy and scikit learn libraries.  Here is a brief description about Lending Club.\n",
    "\n"
   ]
  },
  {
   "cell_type": "code",
   "execution_count": null,
   "metadata": {
    "ExecuteTime": {
     "end_time": "2020-10-06T14:43:03.025914Z",
     "start_time": "2020-10-06T14:43:03.023833Z"
    }
   },
   "outputs": [],
   "source": [
    "#default_exp ai_essentials"
   ]
  },
  {
   "cell_type": "markdown",
   "metadata": {},
   "source": [
    "<img src=\"https://raw.githubusercontent.com/dustinvanstee/aicoc-ai-immersion/master/nb_images/lendingclub_frameworks.png\" width=\"800\" height=\"500\" align=\"middle\"/>"
   ]
  },
  {
   "cell_type": "markdown",
   "metadata": {},
   "source": [
    "[Lending Club (LC)](https://www.lendingclub.com/) is the world’s largest online marketplace connecting borrowers and investors. It is transforming the banking system to make credit more affordable and investing more rewarding. Lending Club operates at a lower cost than traditional bank lending programs and pass the savings on to borrowers in the form of lower rates and to investors in the form of solid risk-adjusted returns.\n",
    "\n",
    "**The DATA**  \n",
    "The original data set is downloaded from [LC](https://www.lendingclub.com/info/download-data.action) covering complete loan data for all loans issued through the 2007-2018, including the current loan status (Current, Late, Fully Paid, etc.) and latest payment information. Additional features include credit history, number of finance inquiries, address including zip codes, and state, and collections among others. It is quite rich and is an excellent example of credit risk data.  Interestingly, Goldman Sachs’ new peer-to-peer lending platform called Marcus was built almost entirely using the Lending Club data.\n",
    "\n",
    "Here is a link to some extra information regarding the fields of the data set.\n",
    "[Data Dictionary](https://github.com/dustinvanstee/mldl-101/blob/master/lab5-powerai-lc/LCDataDictionary.csv)\n",
    "\n",
    "**Important**\n",
    "\n",
    "In this notebook, we will play with the lending club data, conduct a set of exploratory analysis and try to apply various machine learning techniques to predict borrower’s default. We took a small sample of loans made in 2016 (130K) to help speed up the processing time for the lab\n",
    "\n",
    "\n",
    "Note : to remove a lot of the busy verbose code, we are making using of a utility python file called lc_utils.py.  For implemenation details you can refer here [python code](https://github.com/dustinvanstee/mldl-101/blob/master/lab5-powerai-lc/lc_utils.py)"
   ]
  },
  {
   "cell_type": "markdown",
   "metadata": {},
   "source": [
    "### Quick word on the data science method\n",
    "<img src=\"https://raw.githubusercontent.com/dustinvanstee/aicoc-ai-immersion/master/nb_images/dsx-methodology.png\" width=\"900\" height=\"700\" align=\"middle\"/>\n",
    "\n",
    "Here we will use these simple high level steps to work through a typical data science problem.  This workflow is meant to be a high level guide, but in practice this is a highly iterative approach ...\n",
    "\n",
    "### Goals\n",
    "\n",
    "* Perform some initial analysis of the data for **Business Understanding**\n",
    "* **Prepare the Data** for our visualization and modeling\n",
    "* **Visualize** the data\n",
    "* Model using **Dimension Reduction** and **Classification** techniques\n",
    "* **Evaluate** the approach"
   ]
  },
  {
   "cell_type": "markdown",
   "metadata": {},
   "source": [
    "## Business/Data Understanding and Preparation\n",
    "<img src=\"https://raw.githubusercontent.com/dustinvanstee/aicoc-ai-immersion/master/nb_images/iterative_workflow.png\" width=\"800\" height=\"500\" align=\"middle\"/>"
   ]
  },
  {
   "cell_type": "markdown",
   "metadata": {},
   "source": [
    "### Import Libraries"
   ]
  },
  {
   "cell_type": "code",
   "execution_count": null,
   "metadata": {
    "ExecuteTime": {
     "end_time": "2020-10-06T15:01:20.577167Z",
     "start_time": "2020-10-06T15:01:20.574683Z"
    }
   },
   "outputs": [],
   "source": [
    "# export\n",
    "\n",
    "# pick up lc_utils_2020.py file\n",
    "import sys\n",
    "sys.path.append(\"../Tabular\") "
   ]
  },
  {
   "cell_type": "code",
   "execution_count": null,
   "metadata": {
    "ExecuteTime": {
     "end_time": "2020-10-06T15:01:22.059670Z",
     "start_time": "2020-10-06T15:01:21.135491Z"
    }
   },
   "outputs": [],
   "source": [
    "#export \n",
    "print(\"Importing Data\")\n",
    "# Code functions that are needed to run this lab\n",
    "import pandas as pd\n",
    "import warnings\n",
    "warnings.filterwarnings('ignore')\n",
    "import time\n",
    "from datetime import datetime\n",
    "import math\n",
    "\n",
    "import pandas as pd\n",
    "#pd.set_option('display.height', 1000)\n",
    "pd.set_option('display.max_rows', 500)\n",
    "pd.set_option('display.max_columns', 500)\n",
    "pd.set_option('display.width', 1000)\n",
    "\n",
    "import glob\n",
    "\n",
    "# custom library for some helper functions \n",
    "from sklearn.base import BaseEstimator, TransformerMixin\n",
    "import matplotlib\n",
    "import matplotlib.pyplot as plt\n",
    "import numpy as np\n",
    "\n",
    "import myenv as myenv\n",
    "from lc_utils_2020 import *"
   ]
  },
  {
   "cell_type": "code",
   "execution_count": null,
   "metadata": {
    "ExecuteTime": {
     "end_time": "2020-10-06T15:01:22.096766Z",
     "start_time": "2020-10-06T15:01:22.065808Z"
    }
   },
   "outputs": [],
   "source": [
    "%load_ext autoreload\n",
    "%autoreload 2\n",
    "from lc_utils_2020 import *"
   ]
  },
  {
   "cell_type": "markdown",
   "metadata": {},
   "source": [
    "### Load the Data\n",
    "Here we load data that was previously downloaded from lendingclub.com.  For speed of this lab, we are restricting the number of loans ~ 130K\n",
    "\n",
    "**Key functions**\n",
    "* pd.read_csv\n",
    "* pd.concat"
   ]
  },
  {
   "cell_type": "code",
   "execution_count": null,
   "metadata": {
    "ExecuteTime": {
     "end_time": "2020-10-06T15:01:27.005453Z",
     "start_time": "2020-10-06T15:01:22.126275Z"
    },
    "scrolled": true
   },
   "outputs": [],
   "source": [
    "# export \n",
    "loan_df = load_sample_data('ornl')\n",
    "loan_df_orig = loan_df.copy()\n",
    "loan_df.head(30)"
   ]
  },
  {
   "cell_type": "markdown",
   "metadata": {},
   "source": [
    "### Descriptive Statistics (1D)\n",
    "Lets look at some 1D and 2D descriptive statistics for this dataset\n",
    "\n",
    "In this dataset, we have all types of data.  Numerical, Categorical, Ranked data.  This small module will take you through what is typical done to quickly understand the data\n",
    "\n",
    "\n",
    "**Key Functions**\n",
    "* df[column].value_counts()\n",
    "* df.describe()"
   ]
  },
  {
   "cell_type": "code",
   "execution_count": null,
   "metadata": {
    "ExecuteTime": {
     "end_time": "2020-10-06T15:01:30.649199Z",
     "start_time": "2020-10-06T15:01:27.007145Z"
    }
   },
   "outputs": [],
   "source": [
    "# export \n",
    "print(\"Descriptive Statistics\")\n",
    "# This function provide the number of rows/cols\n",
    "# Information on the types of data\n",
    "# and a report of descriptive statistics\n",
    "\n",
    "# quick_overview_1d(loan_df)\n",
    "categorical_overview,numerical_overview = quick_overview_1d_v2(loan_df)"
   ]
  },
  {
   "cell_type": "code",
   "execution_count": null,
   "metadata": {
    "ExecuteTime": {
     "end_time": "2020-10-06T15:01:30.853797Z",
     "start_time": "2020-10-06T15:01:30.650795Z"
    }
   },
   "outputs": [],
   "source": [
    "print(\"Categorical report\")\n",
    "display(categorical_overview)\n",
    "print(\"Numerical report\")\n",
    "display(numerical_overview)"
   ]
  },
  {
   "cell_type": "markdown",
   "metadata": {},
   "source": [
    "Here we can get a quick assessment of the statistics for each column.  \n",
    "**Quick Question** can you answer what was the average income for the 133K loan applicants ?"
   ]
  },
  {
   "cell_type": "markdown",
   "metadata": {},
   "source": [
    "### Descriptive Statistics (2D)\n",
    "Since we have over 100 numerical variables, creating a 2D correlation plot may be time consuming and difficult to interpret.  Lets look at correlations on a smaller scale for now....\n"
   ]
  },
  {
   "cell_type": "code",
   "execution_count": null,
   "metadata": {
    "ExecuteTime": {
     "end_time": "2020-10-06T14:43:24.460691Z",
     "start_time": "2020-10-06T14:43:24.127445Z"
    }
   },
   "outputs": [],
   "source": [
    "# Grab only a subset of columns\n",
    "cols = [\"loan_amnt\",\"annual_inc\",\"dti\",\"fico_range_high\",\"open_acc\",'funded_amnt', 'total_acc']\n",
    "quick_overview_2d(loan_df, cols)"
   ]
  },
  {
   "cell_type": "markdown",
   "metadata": {},
   "source": [
    "**Quick Question** : Can you find a negatively correlated variable to annual_inc in the chart above?  Can you think of a reason for this result ?"
   ]
  },
  {
   "cell_type": "markdown",
   "metadata": {},
   "source": [
    "### Create Loan Default column.  This is the column we will predict later\n",
    "The **loan_status** column contains the information of whether or not the loan is in default. \n",
    "\n",
    "This column has more than just a 'default or paid' status.  Since our goal is to build a simple default classifier , we need to make a new column based off the **loan_status** column.\n",
    "\n",
    "Here we will look at all the categorical values in **loan_status**, and create a new column called **default** based off that one.\n"
   ]
  },
  {
   "cell_type": "code",
   "execution_count": null,
   "metadata": {
    "ExecuteTime": {
     "end_time": "2020-10-06T15:01:41.072643Z",
     "start_time": "2020-10-06T15:01:40.851028Z"
    }
   },
   "outputs": [],
   "source": [
    "# export\n",
    "print(\"Creating Loan Default column\")\n",
    "# function to create loan status .... \n",
    "loan_df = create_loan_default(loan_df)"
   ]
  },
  {
   "cell_type": "code",
   "execution_count": null,
   "metadata": {
    "ExecuteTime": {
     "end_time": "2020-10-06T14:43:31.575039Z",
     "start_time": "2020-10-06T14:43:31.416964Z"
    }
   },
   "outputs": [],
   "source": [
    "loan_df.head(3) # scroll to the right, and see the new 'default' column"
   ]
  },
  {
   "cell_type": "markdown",
   "metadata": {},
   "source": [
    "### Data Preparation - Handle Null Values aka NaNs ...\n",
    "\n",
    "One part of the data science process thats especially time consuming is working with unclean data.  This lending club data set is a great example of that.  If you look at the dataframe shown above, you will see a number of columns with the indicator **NaN** .  This means 'not a number' and needs to be dealt with prior to any machine learning steps.  You have many options here.  Some options are listed below...\n",
    "\n",
    "* Fill with a value -> impute mean/median/min/max/other\n",
    "* drop rows with NaNs\n",
    "* drop columns with large number of NaNs \n",
    "* use data in other columns to derive\n",
    "\n",
    "All these methods are possible, but its up to the data scientist / domain expert to figure out the best approach.  There is definitely some grey area involved in whats the best approach.\n",
    "\n",
    "First, lets understand which columns have NaNs..."
   ]
  },
  {
   "cell_type": "code",
   "execution_count": null,
   "metadata": {
    "ExecuteTime": {
     "end_time": "2020-10-06T15:01:45.101920Z",
     "start_time": "2020-10-06T15:01:44.378915Z"
    }
   },
   "outputs": [],
   "source": [
    "# For every column, count the number of NaNs .... \n",
    "# code hint : uses df.isna().sum()\n",
    "\n",
    "columns_with_nans(loan_df)"
   ]
  },
  {
   "cell_type": "markdown",
   "metadata": {},
   "source": [
    "\n",
    "As you can see, we have some work to do to clean up the NaN values.  Beyond NaN values, we also have to transform columns if they aren't formatted correctly, or maybe we want to transform a column based on custom requirements.  \n",
    "\n",
    "```\n",
    "Example : column=employee_length , values=[1,2,3,4,5,6,7,8,9,10+] formatted as a string\n",
    "          transform into \n",
    "          column=employee_length, [0_3yrs,4_6yrs,gt_6yrs] (categorical:strings)\n",
    "```\n",
    "          \n",
    "Luckily, we took care to process and clean this data below using a few functions.  In practice, **this is where data scientists spend a large portion of their time** as this requires detailed domain knowledge to clean the data.  We have made a fair number of assumptions about how to process the data which we won't go into due to time contraints for the lab."
   ]
  },
  {
   "cell_type": "code",
   "execution_count": null,
   "metadata": {
    "ExecuteTime": {
     "end_time": "2020-10-06T15:01:51.643442Z",
     "start_time": "2020-10-06T15:01:48.383463Z"
    }
   },
   "outputs": [],
   "source": [
    "# export\n",
    "print(\"Handling Nulls and NaNs\")\n",
    "# The following cleaning of the data makes use of the steps shown below.....\n",
    "\n",
    "# loan_df1 = drop_sparse_numeric_columns(loan_df, threshold=0.03)\n",
    "loan_df1 = drop_sparse_columns(loan_df,pct_missing_threshold=0.6)\n",
    "loan_df2 = impute_columns(loan_df1)\n",
    "loan_df3 = handle_employee_length(loan_df2)\n",
    "loan_df4 = handle_revol_util(loan_df3)\n",
    "loan_df = loan_df4\n",
    "columns_with_nans(loan_df4)\n"
   ]
  },
  {
   "cell_type": "code",
   "execution_count": null,
   "metadata": {
    "ExecuteTime": {
     "end_time": "2020-10-06T14:43:42.695528Z",
     "start_time": "2020-10-06T14:43:42.185400Z"
    }
   },
   "outputs": [],
   "source": [
    "# Final Sanity check ....\n",
    "# If we did our job right, there should not be any NaN's left.  \n",
    "# Use this convenience function to check\n",
    "\n",
    "# code hint df.isna().sum()\n",
    "\n",
    "columns_with_nans(loan_df)"
   ]
  },
  {
   "cell_type": "markdown",
   "metadata": {},
   "source": [
    "### Data Preparation - Handle Time Objects\n",
    "Sometimes for columns that contain date information, you may want to break them down into individual columns like month, day, day of week etc.  For our use case, we will create a new column called `time_history` that will indicate how long an applicant has been a borrower.  This is an example of **feature engineering**.  Essentially, using business logic to create a new column (feature) that may have predictive value."
   ]
  },
  {
   "cell_type": "code",
   "execution_count": null,
   "metadata": {
    "ExecuteTime": {
     "end_time": "2020-10-06T14:43:55.255701Z",
     "start_time": "2020-10-06T14:43:55.227514Z"
    }
   },
   "outputs": [],
   "source": [
    "#loan_df[loan_df[\"earliest_cr_line\"]!=\"unknown\"]"
   ]
  },
  {
   "cell_type": "code",
   "execution_count": null,
   "metadata": {
    "ExecuteTime": {
     "end_time": "2020-10-06T15:02:03.240112Z",
     "start_time": "2020-10-06T15:01:57.849048Z"
    }
   },
   "outputs": [],
   "source": [
    "# export\n",
    "print(\"Data Preparation Handling Time Objects\")\n",
    "loan_df = create_time_features(loan_df)\n",
    "loan_df.head(3)"
   ]
  },
  {
   "cell_type": "markdown",
   "metadata": {},
   "source": [
    "### Convert Categorical Data to One hot encode ###\n",
    "\n",
    "If you look above at the data frame, we are almost ready to start building models.  However, there is one important step to complete.  Notice we have some columns that are still built out of string data \n",
    "```\n",
    "example column=home_ownership values=[RENT, MORTGAGE, OWN]\n",
    "```\n",
    "Machine learning algorithms only process numerical data, so we need to transform these **categorical columns** into **indicator columns**\n",
    "\n",
    "From the example above, the transform would yield 3 new columns\n",
    "\n",
    "```\n",
    "example column=RENT values=[0,1]\n",
    "        column=MORTGAGE values=[0,1]\n",
    "        column=OWN values=[0,1]\n",
    "```\n",
    "\n",
    "Conveniently pandas has a nice function called **get_dummies** that we will use for this purpose"
   ]
  },
  {
   "cell_type": "code",
   "execution_count": null,
   "metadata": {
    "ExecuteTime": {
     "end_time": "2020-10-06T15:02:10.876876Z",
     "start_time": "2020-10-06T15:02:09.708422Z"
    }
   },
   "outputs": [],
   "source": [
    "# export\n",
    "print(\"Transforming Data into binary indicator columns\")\n",
    "# Transform categorical data into binary indicator columns\n",
    "# code hint, uses pd.get_dummies\n",
    "\n",
    "loan_df = one_hot_encode_keep_cols(loan_df)\n",
    "loan_df.head() # once complete, see how many new columns you have!"
   ]
  },
  {
   "cell_type": "markdown",
   "metadata": {},
   "source": [
    "### Final Result after data preparation ....\n",
    "\n",
    "Ok, so you made it here, lets take a look at the final results of your data preparation work.  It may be helpful to  **qualitatively compare** your original data frame to this one and see how different they look..  Execute the cells below to get a sense of what the tranformations accomplished."
   ]
  },
  {
   "cell_type": "code",
   "execution_count": null,
   "metadata": {
    "ExecuteTime": {
     "end_time": "2020-10-06T14:44:21.950237Z",
     "start_time": "2020-10-06T14:44:21.785941Z"
    }
   },
   "outputs": [],
   "source": [
    "loan_df_orig.head(3)"
   ]
  },
  {
   "cell_type": "code",
   "execution_count": null,
   "metadata": {
    "ExecuteTime": {
     "end_time": "2020-10-06T14:44:29.236855Z",
     "start_time": "2020-10-06T14:44:29.047888Z"
    }
   },
   "outputs": [],
   "source": [
    "loan_df.head(3)"
   ]
  },
  {
   "cell_type": "markdown",
   "metadata": {},
   "source": [
    "### Data Visualization\n",
    "As you saw, when you 'describe' a data frame, you get a table statistics showing you the mean,min,max and other statistics about each column.  This is good, but sometimes its also good to look at the histograms of the data as well.  Lets Visualize some of the distributions from our dataset\n"
   ]
  },
  {
   "cell_type": "markdown",
   "metadata": {},
   "source": [
    "<img src=\"https://raw.githubusercontent.com/dustinvanstee/aicoc-ai-immersion/master/nb_images/datavis_iterative_workflow.png\" width=\"800\" height=\"500\" align=\"middle\"/>"
   ]
  },
  {
   "cell_type": "code",
   "execution_count": null,
   "metadata": {
    "ExecuteTime": {
     "end_time": "2020-10-06T14:44:58.082812Z",
     "start_time": "2020-10-06T14:44:36.304759Z"
    }
   },
   "outputs": [],
   "source": [
    "# Here we plot distribution charts for all the numerical columns in our dataframe\n",
    "plot_histograms(loan_df_orig)"
   ]
  },
  {
   "cell_type": "markdown",
   "metadata": {},
   "source": [
    "## Data Visualization Examples\n",
    "### The Growth of Lending Club"
   ]
  },
  {
   "cell_type": "code",
   "execution_count": null,
   "metadata": {
    "ExecuteTime": {
     "end_time": "2020-08-03T01:51:18.117910Z",
     "start_time": "2020-08-03T01:51:18.000783Z"
    }
   },
   "outputs": [],
   "source": [
    "# Build a statistics data frame based on issue date\n",
    "# aggregate on loan amount\n",
    "vis_df = loan_df_orig.copy().sample(5000)"
   ]
  },
  {
   "cell_type": "markdown",
   "metadata": {},
   "source": [
    "### Outcome Variable: Loan Status\n",
    "On the left is the breakdown of all loan status classifications.  On the right is our simple default classification based on our data prep"
   ]
  },
  {
   "cell_type": "code",
   "execution_count": null,
   "metadata": {
    "ExecuteTime": {
     "end_time": "2020-08-03T01:51:30.369095Z",
     "start_time": "2020-08-03T01:51:30.313822Z"
    }
   },
   "outputs": [],
   "source": [
    "# Example of a groupby and aggregate \n",
    "df=vis_df[['loan_status', 'loan_amnt', 'funded_amnt']].groupby(['loan_status']).agg(['sum', 'count'])\n",
    "df.columns = ['_'.join(col).strip() for col in df.columns.values]\n",
    "df=df.reset_index()\n",
    "df"
   ]
  },
  {
   "cell_type": "code",
   "execution_count": null,
   "metadata": {
    "ExecuteTime": {
     "end_time": "2020-08-03T01:51:55.778093Z",
     "start_time": "2020-08-03T01:51:55.345296Z"
    }
   },
   "outputs": [],
   "source": [
    "import seaborn as sns\n",
    "plt.figure(figsize=(20,5))\n",
    "sns.set(style=\"whitegrid\")\n",
    "\n",
    "#tips = sns.load_dataset(\"tips\")\n",
    "#ax = sns.barplot(x=\"loan_status\", y=\"loan_amnt_count\", data=df)\n",
    "#ax = sns.barplot(x=\"loan_status\", y=\"loan_amnt\", data=vis_df)\n",
    "ax = sns.countplot(x=\"loan_status\", hue=\"home_ownership\", data=vis_df)\n"
   ]
  },
  {
   "cell_type": "markdown",
   "metadata": {},
   "source": [
    "### Borrowing by State \n",
    "Most of the money in terms of absolute borrowing is borrowed by people from California. For average loan amount per state, Alaska ranks on top."
   ]
  },
  {
   "cell_type": "code",
   "execution_count": null,
   "metadata": {
    "ExecuteTime": {
     "end_time": "2020-08-03T01:52:08.012310Z",
     "start_time": "2020-08-03T01:52:07.951670Z"
    }
   },
   "outputs": [],
   "source": [
    "# Create an aggregated dataframe ...\n",
    "df=vis_df[['addr_state', 'loan_amnt', ]].groupby(['addr_state']).agg(['mean', 'sum'])\n",
    "df.columns = ['_'.join(col).strip() for col in df.columns.values]\n",
    "df=df.reset_index()\n",
    "df\n"
   ]
  },
  {
   "cell_type": "code",
   "execution_count": null,
   "metadata": {
    "ExecuteTime": {
     "end_time": "2020-08-03T01:52:20.828856Z",
     "start_time": "2020-08-03T01:52:20.194612Z"
    }
   },
   "outputs": [],
   "source": [
    "#Plotly Choropleth Example \n",
    "import plotly.graph_objects as go\n",
    "\n",
    "fig = go.Figure(data=go.Choropleth(\n",
    "    locations=df['addr_state'], # Spatial coordinates\n",
    "    z = df['loan_amnt_mean'].astype(float), # Data to be color-coded\n",
    "    locationmode = 'USA-states', # set of locations match entries in `locations`\n",
    "    colorscale = 'Reds',\n",
    "    colorbar_title = \"USD\",\n",
    "))\n",
    "\n",
    "fig.update_layout(\n",
    "    title_text = '2016 Lending Club Avg Loans by State',\n",
    "    geo_scope='usa', # limite map scope to USA\n",
    ")\n",
    "\n",
    "fig.show()    "
   ]
  },
  {
   "cell_type": "markdown",
   "metadata": {},
   "source": [
    "###  Loan Purpose Wordcloud\n",
    "Lets try to get a sense of why people are borrowing ..."
   ]
  },
  {
   "cell_type": "code",
   "execution_count": null,
   "metadata": {
    "ExecuteTime": {
     "end_time": "2020-08-03T01:53:33.914709Z",
     "start_time": "2020-08-03T01:53:31.831584Z"
    }
   },
   "outputs": [],
   "source": [
    "text = \" \".join(str(purpose).lower() for purpose in loan_df_orig['title'])\n",
    "\n",
    "from wordcloud import WordCloud, STOPWORDS, ImageColorGenerator\n",
    "wordcloud = WordCloud(background_color=\"white\").generate(text)\n",
    "# Display the generated image:\n",
    "plt.figure(figsize=(20,5))\n",
    "plt.imshow(wordcloud, interpolation='bilinear')\n",
    "plt.axis(\"off\")\n",
    "plt.show()\n"
   ]
  },
  {
   "cell_type": "markdown",
   "metadata": {},
   "source": [
    "As you can see, this could go on forever, but hopefully you get a sense of the power of data visualization"
   ]
  },
  {
   "cell_type": "markdown",
   "metadata": {},
   "source": [
    "### Modelling Phase"
   ]
  },
  {
   "cell_type": "markdown",
   "metadata": {},
   "source": [
    "<img src=\"https://raw.githubusercontent.com/dustinvanstee/aicoc-ai-immersion/master/nb_images/modeling_iterative_workflow.png\" width=\"800\" height=\"500\" align=\"middle\"/>"
   ]
  },
  {
   "cell_type": "markdown",
   "metadata": {},
   "source": [
    "### Train / Test set creation\n",
    "\n",
    "One of the key points in any machine learning workflow is the **partitioning** of the data set into **train** and **test** sets.  The key idea here is that a model is built using the training data, and evaluated using the test data.  \n",
    "\n",
    "There are more nuances to how you partition data into train/test sets, but for purposes of this lab we will omit these finer points."
   ]
  },
  {
   "cell_type": "code",
   "execution_count": null,
   "metadata": {
    "ExecuteTime": {
     "end_time": "2020-10-06T15:02:17.884249Z",
     "start_time": "2020-10-06T15:02:17.853466Z"
    }
   },
   "outputs": [],
   "source": [
    "%load_ext autoreload\n",
    "%autoreload 2\n",
    "from lc_utils_2020 import *"
   ]
  },
  {
   "cell_type": "code",
   "execution_count": null,
   "metadata": {
    "ExecuteTime": {
     "end_time": "2020-10-06T15:02:24.904045Z",
     "start_time": "2020-10-06T15:02:24.868838Z"
    }
   },
   "outputs": [],
   "source": [
    "# export\n",
    "print(\"Train Test Set Creation\")\n",
    "# Instantiate lendingclub_ml object that will hold our test, and contain methods used for testing.\n",
    "# Implementation done like this to ease the burden on users for keeping track of train/test sets for different\n",
    "# models we are going to build.\n",
    "\n",
    "my_analysis = lendingclub_ml(loan_df)"
   ]
  },
  {
   "cell_type": "code",
   "execution_count": null,
   "metadata": {
    "ExecuteTime": {
     "end_time": "2020-10-06T15:02:32.800926Z",
     "start_time": "2020-10-06T15:02:31.890532Z"
    }
   },
   "outputs": [],
   "source": [
    "# export\n",
    "\n",
    "# Create a train / test split of your data set.  Paramter is test set size percentage \n",
    "# Returns data in the form of dataframes\n",
    "\n",
    "my_analysis.create_train_test(test_size=0.33)"
   ]
  },
  {
   "cell_type": "markdown",
   "metadata": {},
   "source": [
    "## Dimension Reduction\n",
    "For this modeling exercise we will perform a couple of tasks, **dimension reduction** and **classification** as shown in the following diagram.\n",
    "\n",
    "<img src=\"https://github.com/dustinvanstee/random-public-files/raw/master/techu-modeling-workflow.png\" width=\"800\" height=\"500\" align=\"middle\"/>\n",
    "\n",
    "**Dimension Reduction** is useful in scenarios when you have a large number of columns and you would like to reduce that down to a compressed representation .  In this lab we will try 2 methods of dimension reduction.  It will be your choice to decide which method you want to use for the classification part of the lab ! (you could even decice to bypass this if you want ...)\n"
   ]
  },
  {
   "cell_type": "markdown",
   "metadata": {},
   "source": [
    "### Dimension Reduction - PCA\n",
    "\n",
    "<img src=\"https://github.com/dustinvanstee/random-public-files/raw/master/techu-pca.png\"  width=\"200\" height=\"125\" align=\"middle\"/>\n",
    "\n",
    "Principal component analysis (PCA) is a statistical procedure that uses an orthogonal transformation to convert a set of observations of possibly correlated variables into a set of values of linearly uncorrelated variables called principal components. The number of principal components is less than or equal to the number of original variables.\n",
    "\n",
    "A simple way to think about PCA is that it helps compress the data in a lossy representation of the original dataset.\n",
    "\n",
    "This will also be used to help us visualize the data as you will see below"
   ]
  },
  {
   "cell_type": "code",
   "execution_count": null,
   "metadata": {
    "ExecuteTime": {
     "end_time": "2020-08-03T01:03:14.649326Z",
     "start_time": "2020-08-03T01:03:13.111382Z"
    }
   },
   "outputs": [],
   "source": [
    "# Dimension Reduction using PCA\n",
    "# PCA model saved in data structure ..\n",
    "my_analysis.build_pca_model(n_components=30)"
   ]
  },
  {
   "cell_type": "markdown",
   "metadata": {},
   "source": [
    "In the chart above, you can see that we get ok results from PCA.  Using the first 20 principal components, we can account for ~50% of the variance described in the dataset.  **Feel free to change the number of principal components above to see if adding more helps with explained variance.**"
   ]
  },
  {
   "cell_type": "markdown",
   "metadata": {},
   "source": [
    "### Now update our test dataframe with new columns that are predicted by our PCA.  \n",
    "\n",
    "Here we will now take the models that we built and pass our test data set through the models.   By doing this, we will have reduced the number features in our data set by a significant amount (~177 colums => ~5-20 columns!)  .  \n",
    "\n",
    "In this step we will add new columns to our test/train data frames for  our PCA model .  Don't worry about the details of this step, its just required for some followon visualization, and training steps ahead. \n",
    "\n"
   ]
  },
  {
   "cell_type": "code",
   "execution_count": null,
   "metadata": {
    "ExecuteTime": {
     "end_time": "2020-08-03T01:54:43.968196Z",
     "start_time": "2020-08-03T01:54:43.616150Z"
    }
   },
   "outputs": [],
   "source": [
    "my_analysis.add_pca_columns_to_df()"
   ]
  },
  {
   "cell_type": "code",
   "execution_count": null,
   "metadata": {
    "ExecuteTime": {
     "end_time": "2020-08-03T01:03:31.181899Z",
     "start_time": "2020-08-03T01:03:30.613466Z"
    }
   },
   "outputs": [],
   "source": [
    "#[x for x in my_analysis.train_df.columns if 'PC' in str(x)]\n",
    "#for c in my_analysis.train_df.columns: \n",
    "#    print(c)\n",
    "#display(my_analysis.X_train_scaled.head(10))\n",
    "#my_analysis.train_df.head(10)"
   ]
  },
  {
   "cell_type": "markdown",
   "metadata": {},
   "source": [
    "### Cool Visualizations using our dimension reduction columns\n",
    "\n",
    "Next we will plot a few scatterplot grids based on our pricipal component and autoencoder representations of the data\n",
    "\n",
    "We will color each data point using this key\n",
    "```\n",
    "Green -> Fully paid or current loan\n",
    "Red   -> Loan in default\n",
    "```"
   ]
  },
  {
   "cell_type": "code",
   "execution_count": null,
   "metadata": {
    "ExecuteTime": {
     "end_time": "2020-08-03T01:04:38.440500Z",
     "start_time": "2020-08-03T01:03:39.038752Z"
    }
   },
   "outputs": [],
   "source": [
    "# This will take a minute or so ...\n",
    "my_analysis.visualize_dimred_results(mode='pca')"
   ]
  },
  {
   "cell_type": "code",
   "execution_count": null,
   "metadata": {
    "ExecuteTime": {
     "end_time": "2020-08-03T01:57:15.984768Z",
     "start_time": "2020-08-03T01:57:13.603135Z"
    }
   },
   "outputs": [],
   "source": [
    "# Example : Filter based on Principal Components ..\n",
    "a = my_analysis.test_df\n",
    "f_df = a[(a['PC0'] < 1) & (a['PC1'] <0)]\n",
    "display(f_df.describe())\n",
    "display(loan_df.describe())"
   ]
  },
  {
   "cell_type": "markdown",
   "metadata": {},
   "source": [
    "If you can discern a pattern between the red / green dots, its likely we can use a classifier to automatically seperate them! We'll see that in a few more sections"
   ]
  },
  {
   "cell_type": "markdown",
   "metadata": {},
   "source": [
    "## Lending Club Default Prediction using Random Forest\n",
    "\n",
    "<img src=\"https://github.com/dustinvanstee/random-public-files/raw/master/techu-modeling-traintest.png\"  width=\"600\" height=\"375\" align=\"middle\"/>\n",
    "\n",
    "Here we will build a classifier to predict if loan will fail or not.  We will us a \n",
    "** Random Forest ** tree algorithm  .  You will have 2 options for data sources, \n",
    "* the raw data\n",
    "* PCA dimension reduction features\n",
    "\n",
    "To evaluate our model, we will use a simple contingency table (showing true/false positve/negative).  However, this is a fairly simplistic method.  Better method that data scientists use are F1 score, and PR/ROC curves but thats beyond the scope of this lab.\n",
    "\n",
    "Step 1 here is to set our baseline result.  In this example, we are dealing with a **skewed** dataset.  This means, on average, most people will not default, and they pay their loan off.  If you built a classifier that just predicted no default, you would be right most of the time.  Lets see the stats from our dataset below...."
   ]
  },
  {
   "cell_type": "code",
   "execution_count": null,
   "metadata": {
    "ExecuteTime": {
     "end_time": "2020-10-06T15:02:39.815797Z",
     "start_time": "2020-10-06T15:02:39.778355Z"
    }
   },
   "outputs": [],
   "source": [
    "# export \n",
    "print(\"Setting Baseline\")\n",
    "# Set our baseline\n",
    "my_analysis.train_df['default'].describe()"
   ]
  },
  {
   "cell_type": "markdown",
   "metadata": {},
   "source": [
    "As you can see, **only ~12.8% of the applicants default**.  Any classifier we build must be better than this, or we aren't doing a very good job ;)"
   ]
  },
  {
   "cell_type": "code",
   "execution_count": null,
   "metadata": {
    "ExecuteTime": {
     "end_time": "2020-10-06T15:02:46.835609Z",
     "start_time": "2020-10-06T15:02:46.802865Z"
    }
   },
   "outputs": [],
   "source": [
    "# export\n",
    "\n",
    "# modes\n",
    "# pca           : principal components only\n",
    "# raw           : all the data non reduced\n",
    "# raw_no_grades : all the data non reduced except the grade info provided by lending club\n",
    "\n",
    "mode = 'raw' # ae , raw, raw_no_grades\n",
    "x_cols =[]\n",
    "if(mode == 'pca') :\n",
    "            x_cols = [x for x in my_analysis.train_df.columns if 'PC' in x]\n",
    "elif(mode == 'raw') :\n",
    "            x_cols = [x for x in my_analysis.train_df.columns if 'PC' not in x]\n",
    "            x_cols.remove('default')\n",
    "elif(mode == 'raw_no_grades') :\n",
    "            x_cols = [x for x in my_analysis.train_df.columns if 'PC' not in x]\n",
    "            import re\n",
    "            x_cols = [x for x in x_cols if not re.match('^[ABCDEFG]',x)]\n",
    "            x_cols.remove('default')\n",
    "\n",
    "#print(x_cols)\n"
   ]
  },
  {
   "cell_type": "markdown",
   "metadata": {},
   "source": [
    "### Random Forest Example"
   ]
  },
  {
   "cell_type": "code",
   "execution_count": null,
   "metadata": {
    "ExecuteTime": {
     "end_time": "2020-10-06T15:03:22.520280Z",
     "start_time": "2020-10-06T15:03:22.467064Z"
    }
   },
   "outputs": [],
   "source": [
    "# export \n",
    "print(\"Random Forest Example\")\n",
    "# Build a dataframe with selected columns ...\n",
    "from sklearn.model_selection import train_test_split\n",
    "from sklearn.metrics import accuracy_score\n",
    "\n",
    "X = my_analysis.train_df[x_cols]\n",
    "y = my_analysis.Y_train"
   ]
  },
  {
   "cell_type": "code",
   "execution_count": null,
   "metadata": {
    "ExecuteTime": {
     "end_time": "2020-10-06T14:46:27.845991Z",
     "start_time": "2020-10-06T14:45:53.934326Z"
    }
   },
   "outputs": [],
   "source": [
    "# export\n",
    "\n",
    "## Simple Random Forest Model\n",
    "from sklearn.ensemble import RandomForestClassifier\n",
    "from sklearn.metrics import confusion_matrix\n",
    "clf = RandomForestClassifier(max_depth=5,n_estimators=300, random_state=0)\n",
    "\n",
    "clf.fit(X,y)\n",
    "\n"
   ]
  },
  {
   "cell_type": "markdown",
   "metadata": {},
   "source": [
    "### Confusion Matrix"
   ]
  },
  {
   "cell_type": "code",
   "execution_count": null,
   "metadata": {
    "ExecuteTime": {
     "end_time": "2020-10-06T15:03:31.695953Z",
     "start_time": "2020-10-06T15:03:31.641948Z"
    }
   },
   "outputs": [],
   "source": [
    "# export\n",
    "print(\"Confusion Matrix\")\n",
    "X_test = my_analysis.test_df[x_cols]\n",
    "Y_test_predict = np.where(clf.predict(X_test) > 0.5, 1, 0 )\n",
    "\n",
    "cnf_matrix =confusion_matrix(my_analysis.Y_test, Y_test_predict)\n",
    "class_names =  ['Default','Paid']\n",
    "plot_confusion_matrix(cnf_matrix, class_names)"
   ]
  },
  {
   "cell_type": "markdown",
   "metadata": {},
   "source": [
    "### Explainability : RF Feature Importance"
   ]
  },
  {
   "cell_type": "code",
   "execution_count": null,
   "metadata": {
    "ExecuteTime": {
     "end_time": "2020-08-03T01:09:12.183593Z",
     "start_time": "2020-08-03T01:09:12.050598Z"
    }
   },
   "outputs": [],
   "source": [
    "# export\n",
    "print(\"RF Feature Importance\")\n",
    "# Random Forest Explainability\n",
    "#print(len(clf.feature_importances_))\n",
    "#print(len(X.columns))\n",
    "rf_feature_importance = dict(zip(X.columns,clf.feature_importances_))\n",
    "\n",
    "\n",
    "sort_rf_feature_importance = sorted(rf_feature_importance.items(), key=lambda x: x[1], reverse=True)\n",
    "\n",
    "for i in sort_rf_feature_importance:\n",
    "    print(i[0], i[1])"
   ]
  },
  {
   "cell_type": "markdown",
   "metadata": {},
   "source": [
    "## SnapML vs SciKit Learn Demo"
   ]
  },
  {
   "cell_type": "code",
   "execution_count": null,
   "metadata": {
    "ExecuteTime": {
     "end_time": "2020-10-06T14:59:13.638488Z",
     "start_time": "2020-10-06T14:59:13.602096Z"
    }
   },
   "outputs": [],
   "source": [
    "type(y)\n",
    "import os\n",
    "os.environ[\"CUDA_VISIBLE_DEVICES\"]=\"0\""
   ]
  },
  {
   "cell_type": "code",
   "execution_count": null,
   "metadata": {
    "ExecuteTime": {
     "end_time": "2020-10-06T15:04:14.029115Z",
     "start_time": "2020-10-06T15:04:13.993499Z"
    }
   },
   "outputs": [],
   "source": [
    "# Import the LogisticRegression from snap.ml\n",
    "from sklearn.metrics import f1_score, accuracy_score, roc_curve, roc_auc_score\n",
    "from pai4sk import LogisticRegression\n",
    "snapml_lr = LogisticRegression(use_gpu = True, device_ids = [0],\n",
    "                        num_threads = 256,\n",
    "                        fit_intercept = True, regularizer = 0.01)"
   ]
  },
  {
   "cell_type": "code",
   "execution_count": null,
   "metadata": {
    "ExecuteTime": {
     "end_time": "2020-10-06T15:04:27.934203Z",
     "start_time": "2020-10-06T15:04:25.314673Z"
    }
   },
   "outputs": [],
   "source": [
    "# Training\n",
    "#t0 = time.time()\n",
    "#snapml_lr.fit(X.to_numpy(), y.to_numpy())\n",
    "#print(\"[snap.ml] Training time (s):  {0:.2f}\".format(time.time()-t0))\n",
    "\n",
    "# Learn more about SnapML here: https://www.zurich.ibm.com/snapml/"
   ]
  },
  {
   "cell_type": "markdown",
   "metadata": {
    "slideshow": {
     "slide_type": "-"
    }
   },
   "source": [
    "### Credits \n",
    "* Bob Chesebrough - IBM AICoC Data Scientist\n",
    "* Catherine Cao - IBM FSS Data Scientist\n",
    "* Dustin VanStee - IBM AICoC Data Scientist\n",
    "* Travis Siegfried - AI & Vision Solution Architect\n",
    "\n",
    "* [Hands on Machine Learning - Geron] (https://www.oreilly.com/library/view/hands-on-machine-learning/9781491962282/)\n"
   ]
  }
 ],
 "metadata": {
  "celltoolbar": "Raw Cell Format",
  "kernelspec": {
   "display_name": "Python 3",
   "language": "python",
   "name": "python3"
  },
  "language_info": {
   "codemirror_mode": {
    "name": "ipython",
    "version": 3
   },
   "file_extension": ".py",
   "mimetype": "text/x-python",
   "name": "python",
   "nbconvert_exporter": "python",
   "pygments_lexer": "ipython3",
   "version": "3.6.10"
  },
  "toc": {
   "base_numbering": 1,
   "nav_menu": {},
   "number_sections": true,
   "sideBar": true,
   "skip_h1_title": false,
   "title_cell": "Table of Contents",
   "title_sidebar": "Contents",
   "toc_cell": false,
   "toc_position": {
    "height": "calc(100% - 180px)",
    "left": "10px",
    "top": "150px",
    "width": "165px"
   },
   "toc_section_display": true,
   "toc_window_display": true
  },
  "varInspector": {
   "cols": {
    "lenName": 16,
    "lenType": 16,
    "lenVar": 40
   },
   "kernels_config": {
    "python": {
     "delete_cmd_postfix": "",
     "delete_cmd_prefix": "del ",
     "library": "var_list.py",
     "varRefreshCmd": "print(var_dic_list())"
    },
    "r": {
     "delete_cmd_postfix": ") ",
     "delete_cmd_prefix": "rm(",
     "library": "var_list.r",
     "varRefreshCmd": "cat(var_dic_list()) "
    }
   },
   "types_to_exclude": [
    "module",
    "function",
    "builtin_function_or_method",
    "instance",
    "_Feature"
   ],
   "window_display": false
  }
 },
 "nbformat": 4,
 "nbformat_minor": 4
}
